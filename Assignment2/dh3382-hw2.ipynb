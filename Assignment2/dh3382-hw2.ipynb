{
 "cells": [
  {
   "cell_type": "code",
   "execution_count": 0,
   "metadata": {
    "application/vnd.databricks.v1+cell": {
     "cellMetadata": {
      "byteLimit": 2048000,
      "rowLimit": 10000
     },
     "inputWidgets": {},
     "nuid": "6cd1433e-46a6-4320-8d91-0ddcbea7321a",
     "showTitle": false,
     "title": ""
    }
   },
   "outputs": [],
   "source": [
    "from pyspark.sql import SparkSession\n",
    "from pyspark.sql.functions import col, count, dayofweek, hour, udf\n",
    "from pyspark.sql.types import StringType\n",
    "\n",
    "spark = SparkSession.builder.appName(\"dh3382-hw2\").getOrCreate()"
   ]
  },
  {
   "cell_type": "code",
   "execution_count": 0,
   "metadata": {
    "application/vnd.databricks.v1+cell": {
     "cellMetadata": {
      "byteLimit": 2048000,
      "rowLimit": 10000
     },
     "inputWidgets": {},
     "nuid": "42dbdc2d-6585-496c-974b-9828bb5f258c",
     "showTitle": false,
     "title": ""
    }
   },
   "outputs": [],
   "source": [
    "bakery_data = spark.read.options(header=True, inferSchema=True).csv('/FileStore/tables/BreadBasket_DMS.csv')\n",
    "# remove NONE entries\n",
    "bakery_data = bakery_data.filter(col('Item') != 'NONE')"
   ]
  },
  {
   "cell_type": "code",
   "execution_count": 0,
   "metadata": {
    "application/vnd.databricks.v1+cell": {
     "cellMetadata": {
      "byteLimit": 2048000,
      "rowLimit": 10000
     },
     "inputWidgets": {},
     "nuid": "8f04f4d7-2566-4ebe-956b-7bcbc849121a",
     "showTitle": false,
     "title": ""
    }
   },
   "outputs": [
    {
     "output_type": "stream",
     "name": "stdout",
     "output_type": "stream",
     "text": [
      "+-----------------+----------+--------+\n|             Item|      Date|Quantity|\n+-----------------+----------+--------+\n|         Focaccia|2016-11-03|       1|\n|          Tartine|2016-11-04|       1|\n|            Bread|2016-12-13|       4|\n|           Coffee|2017-01-05|       7|\n|     Scandinavian|2017-01-20|       1|\n|         Art Tray|2017-01-24|       1|\n|            Bread|2017-03-22|       6|\n| Coffee granules |2017-03-25|       1|\n|           Muffin|2016-11-14|       1|\n|           Coffee|2016-11-24|       7|\n|Gingerbread syrup|2016-12-21|       1|\n|           Coffee|2017-01-06|       8|\n|     Scandinavian|2017-01-07|       3|\n|            Bread|2017-01-11|       6|\n|           Coffee|2017-02-01|       4|\n|     Chicken Stew|2017-02-08|       1|\n|    Hot chocolate|2017-02-09|       1|\n|       Farm House|2017-02-12|       1|\n|          Brownie|2017-02-13|       1|\n|            Bread|2017-02-27|       5|\n+-----------------+----------+--------+\nonly showing top 20 rows\n\n"
     ]
    }
   ],
   "source": [
    "##### QUESTION 1: Show the total number bought by item, per day, between 11AM and 1PM #####\n",
    "\n",
    "# filter out all transactions outside of specified time range (11:00-13:00 inclusive)\n",
    "bakery_data_lunch = bakery_data.filter(col('Time').between('11:00:00', '13:00:00'))\n",
    "# group by Item and Day purchased, then get total count of items per day purchased between 11:00-13:00\n",
    "bakery_q1_res = bakery_data_lunch.groupBy(col('Item'), col('Date')).count().withColumnRenamed('count', 'Quantity')\n",
    "# DF with answer to question 1\n",
    "bakery_q1_res.show()"
   ]
  },
  {
   "cell_type": "code",
   "execution_count": 0,
   "metadata": {
    "application/vnd.databricks.v1+cell": {
     "cellMetadata": {
      "byteLimit": 2048000,
      "rowLimit": 10000
     },
     "inputWidgets": {},
     "nuid": "d2f13d60-b5dd-402b-93fb-d60745d5cce5",
     "showTitle": false,
     "title": ""
    }
   },
   "outputs": [],
   "source": [
    "##### QUESTION 2: Show the top 3 (by qty) items bought by Daypart, by DayType #####\n",
    "# udf to define part of day\n",
    "def day_part(hour):\n",
    "    if hour >= 6 & hour < 12:\n",
    "        return \"Morning\"\n",
    "    elif hour < 18:\n",
    "        return \"Afternoon\"\n",
    "    else:\n",
    "        return \"Night\"\n",
    "\n",
    "day_part_udf = udf(lambda hour: day_part(hour), StringType())"
   ]
  },
  {
   "cell_type": "code",
   "execution_count": 0,
   "metadata": {
    "application/vnd.databricks.v1+cell": {
     "cellMetadata": {
      "byteLimit": 2048000,
      "rowLimit": 10000
     },
     "inputWidgets": {},
     "nuid": "b8a12208-7089-45b1-a30e-e11b6615907b",
     "showTitle": false,
     "title": ""
    }
   },
   "outputs": [
    {
     "output_type": "stream",
     "name": "stdout",
     "output_type": "stream",
     "text": [
      "+----------+----+-----------+--------------------+----------+-------+\n|      Date|Time|Transaction|                Item|is_weekend|daypart|\n+----------+----+-----------+--------------------+----------+-------+\n|2016-10-30|   9|          1|               Bread|      true|Morning|\n|2016-10-30|  10|          2|        Scandinavian|      true|Morning|\n|2016-10-30|  10|          2|        Scandinavian|      true|Morning|\n|2016-10-30|  10|          3|       Hot chocolate|      true|Morning|\n|2016-10-30|  10|          3|                 Jam|      true|Morning|\n|2016-10-30|  10|          3|             Cookies|      true|Morning|\n|2016-10-30|  10|          4|              Muffin|      true|Morning|\n|2016-10-30|  10|          5|              Coffee|      true|Morning|\n|2016-10-30|  10|          5|              Pastry|      true|Morning|\n|2016-10-30|  10|          5|               Bread|      true|Morning|\n|2016-10-30|  10|          6|           Medialuna|      true|Morning|\n|2016-10-30|  10|          6|              Pastry|      true|Morning|\n|2016-10-30|  10|          6|              Muffin|      true|Morning|\n|2016-10-30|  10|          7|           Medialuna|      true|Morning|\n|2016-10-30|  10|          7|              Pastry|      true|Morning|\n|2016-10-30|  10|          7|              Coffee|      true|Morning|\n|2016-10-30|  10|          7|                 Tea|      true|Morning|\n|2016-10-30|  10|          8|              Pastry|      true|Morning|\n|2016-10-30|  10|          8|               Bread|      true|Morning|\n|2016-10-30|  10|          9|               Bread|      true|Morning|\n|2016-10-30|  10|          9|              Muffin|      true|Morning|\n|2016-10-30|  10|         10|        Scandinavian|      true|Morning|\n|2016-10-30|  10|         10|           Medialuna|      true|Morning|\n|2016-10-30|  10|         11|               Bread|      true|Morning|\n|2016-10-30|  10|         11|           Medialuna|      true|Morning|\n|2016-10-30|  10|         11|               Bread|      true|Morning|\n|2016-10-30|  10|         12|                 Jam|      true|Morning|\n|2016-10-30|  10|         12|              Coffee|      true|Morning|\n|2016-10-30|  10|         12|             Tartine|      true|Morning|\n|2016-10-30|  10|         12|              Pastry|      true|Morning|\n|2016-10-30|  10|         12|                 Tea|      true|Morning|\n|2016-10-30|  10|         13|              Basket|      true|Morning|\n|2016-10-30|  10|         13|               Bread|      true|Morning|\n|2016-10-30|  10|         13|              Coffee|      true|Morning|\n|2016-10-30|  10|         14|               Bread|      true|Morning|\n|2016-10-30|  10|         14|           Medialuna|      true|Morning|\n|2016-10-30|  10|         14|              Pastry|      true|Morning|\n|2016-10-30|  10|         15|       Mineral water|      true|Morning|\n|2016-10-30|  10|         15|        Scandinavian|      true|Morning|\n|2016-10-30|  10|         16|               Bread|      true|Morning|\n|2016-10-30|  10|         16|           Medialuna|      true|Morning|\n|2016-10-30|  10|         16|              Coffee|      true|Morning|\n|2016-10-30|  10|         17|       Hot chocolate|      true|Morning|\n|2016-10-30|  10|         18|          Farm House|      true|Morning|\n|2016-10-30|  10|         19|          Farm House|      true|Morning|\n|2016-10-30|  10|         19|               Bread|      true|Morning|\n|2016-10-30|  10|         20|               Bread|      true|Morning|\n|2016-10-30|  10|         20|           Medialuna|      true|Morning|\n|2016-10-30|  10|         21|              Coffee|      true|Morning|\n|2016-10-30|  10|         21|              Coffee|      true|Morning|\n|2016-10-30|  10|         21|           Medialuna|      true|Morning|\n|2016-10-30|  10|         21|               Bread|      true|Morning|\n|2016-10-30|  10|         22|                 Jam|      true|Morning|\n|2016-10-30|  10|         23|        Scandinavian|      true|Morning|\n|2016-10-30|  10|         23|              Muffin|      true|Morning|\n|2016-10-30|  10|         24|               Bread|      true|Morning|\n|2016-10-30|  10|         25|        Scandinavian|      true|Morning|\n|2016-10-30|  10|         26|               Fudge|      true|Morning|\n|2016-10-30|  11|         27|        Scandinavian|      true|Morning|\n|2016-10-30|  11|         28|              Coffee|      true|Morning|\n|2016-10-30|  11|         28|               Bread|      true|Morning|\n|2016-10-30|  11|         29|               Bread|      true|Morning|\n|2016-10-30|  11|         29|                 Jam|      true|Morning|\n|2016-10-30|  11|         30|               Bread|      true|Morning|\n|2016-10-30|  11|         31|              Basket|      true|Morning|\n|2016-10-30|  11|         32|        Scandinavian|      true|Morning|\n|2016-10-30|  11|         32|              Muffin|      true|Morning|\n|2016-10-30|  11|         33|              Coffee|      true|Morning|\n|2016-10-30|  11|         34|              Coffee|      true|Morning|\n|2016-10-30|  11|         34|              Muffin|      true|Morning|\n|2016-10-30|  11|         35|              Muffin|      true|Morning|\n|2016-10-30|  11|         35|        Scandinavian|      true|Morning|\n|2016-10-30|  11|         36|                 Tea|      true|Morning|\n|2016-10-30|  11|         36|               Bread|      true|Morning|\n|2016-10-30|  11|         37|              Coffee|      true|Morning|\n|2016-10-30|  11|         37|               Bread|      true|Morning|\n|2016-10-30|  11|         38|               Bread|      true|Morning|\n|2016-10-30|  11|         38|                 Tea|      true|Morning|\n|2016-10-30|  11|         39|        Scandinavian|      true|Morning|\n|2016-10-30|  11|         40|               Juice|      true|Morning|\n|2016-10-30|  11|         40|             Tartine|      true|Morning|\n|2016-10-30|  11|         40|              Coffee|      true|Morning|\n|2016-10-30|  11|         40|              Muffin|      true|Morning|\n|2016-10-30|  11|         41|        Scandinavian|      true|Morning|\n|2016-10-30|  11|         42|               Bread|      true|Morning|\n|2016-10-30|  11|         42|                 Tea|      true|Morning|\n|2016-10-30|  12|         43|        Scandinavian|      true|Morning|\n|2016-10-30|  12|         43|               Fudge|      true|Morning|\n|2016-10-30|  12|         44|              Coffee|      true|Morning|\n|2016-10-30|  12|         44|           Medialuna|      true|Morning|\n|2016-10-30|  12|         45|              Coffee|      true|Morning|\n|2016-10-30|  12|         45|       Hot chocolate|      true|Morning|\n|2016-10-30|  12|         45|           Medialuna|      true|Morning|\n|2016-10-30|  12|         46|              Coffee|      true|Morning|\n|2016-10-30|  12|         47|Ella's Kitchen Po...|      true|Morning|\n|2016-10-30|  12|         47|               Juice|      true|Morning|\n|2016-10-30|  12|         47|               Bread|      true|Morning|\n|2016-10-30|  12|         47|              Muffin|      true|Morning|\n|2016-10-30|  12|         47|                 Jam|      true|Morning|\n|2016-10-30|  12|         48|              Coffee|      true|Morning|\n|2016-10-30|  12|         49|              Coffee|      true|Morning|\n|2016-10-30|  12|         49|              Coffee|      true|Morning|\n|2016-10-30|  12|         49|           Medialuna|      true|Morning|\n|2016-10-30|  12|         50|               Bread|      true|Morning|\n|2016-10-30|  12|         50|    Victorian Sponge|      true|Morning|\n|2016-10-30|  12|         51|               Bread|      true|Morning|\n|2016-10-30|  12|         52|        Scandinavian|      true|Morning|\n|2016-10-30|  12|         54|               Bread|      true|Morning|\n|2016-10-30|  12|         55|            Frittata|      true|Morning|\n|2016-10-30|  12|         55|              Coffee|      true|Morning|\n|2016-10-30|  12|         55|                 Tea|      true|Morning|\n|2016-10-30|  12|         55|   Hearty & Seasonal|      true|Morning|\n|2016-10-30|  12|         56|              Coffee|      true|Morning|\n|2016-10-30|  12|         56|            Frittata|      true|Morning|\n|2016-10-30|  12|         57|        Scandinavian|      true|Morning|\n+----------+----+-----------+--------------------+----------+-------+\nonly showing top 115 rows\n\n"
     ]
    }
   ],
   "source": [
    "bakery_weekend = bakery_data.withColumn('is_weekend', dayofweek(col('Date') ).isin([1, 7]) )\n",
    "bakery_hour = bakery_weekend.withColumn('Time', hour(col('Time') ) )\n",
    "bakery_daypart = bakery_hour.withColumn('daypart', day_part_udf(col('Time') ) ).show(115)"
   ]
  },
  {
   "cell_type": "code",
   "execution_count": 0,
   "metadata": {
    "application/vnd.databricks.v1+cell": {
     "cellMetadata": {
      "byteLimit": 2048000,
      "rowLimit": 10000
     },
     "inputWidgets": {},
     "nuid": "6f934241-835d-4c57-ae74-65c5f225b7b1",
     "showTitle": false,
     "title": ""
    }
   },
   "outputs": [],
   "source": [
    "##### QUESTION 3: The total number of entities by “rpt_area_desc” #####\n",
    "# set European style csv delimiter (;)\n",
    "rest_data_raw = spark.read.options(header=True, delimiter=';', inferSchema=True)\\\n",
    "    .csv('/FileStore/tables/Restaurants_in_Durham_County_NC.csv')"
   ]
  },
  {
   "cell_type": "code",
   "execution_count": 0,
   "metadata": {
    "application/vnd.databricks.v1+cell": {
     "cellMetadata": {
      "byteLimit": 2048000,
      "rowLimit": 10000
     },
     "inputWidgets": {},
     "nuid": "083bd6c0-d148-4e1b-a589-f1bebf6d09ee",
     "showTitle": false,
     "title": ""
    }
   },
   "outputs": [
    {
     "output_type": "stream",
     "name": "stdout",
     "output_type": "stream",
     "text": [
      "+--------------+-----+\n| Rpt_Area_Desc|Total|\n+--------------+-----+\n|  Food Service| 1093|\n|Swimming Pools|  420|\n|   Summer Food|  242|\n+--------------+-----+\nonly showing top 3 rows\n\n"
     ]
    }
   ],
   "source": [
    "# group by rpt area desc, aggregate count as 'Total', then sort in descending order and show top 3\n",
    "rest_q3_res = rest_data_raw.groupBy(col('Rpt_Area_Desc'))\\\n",
    "    .agg(count('*').alias('Total') )\\\n",
    "    .sort(col('Total'), ascending=False)\\\n",
    "    .show(3)"
   ]
  },
  {
   "cell_type": "code",
   "execution_count": 0,
   "metadata": {
    "application/vnd.databricks.v1+cell": {
     "cellMetadata": {
      "byteLimit": 2048000,
      "rowLimit": 10000
     },
     "inputWidgets": {},
     "nuid": "f712ce0b-b562-448c-84ea-3f826f8306af",
     "showTitle": false,
     "title": ""
    }
   },
   "outputs": [
    {
     "output_type": "stream",
     "name": "stdout",
     "output_type": "stream",
     "text": [
      "196\n"
     ]
    }
   ],
   "source": [
    "#####  QUESTION 4: Show the top 10 regiona with the biggest percentage decrease in population, for the years 1990-2000 #####\n",
    "\n",
    "pop_data_raw = spark.read.options(header=True, inferSchema=True)\\\n",
    "    .csv('/FileStore/tables/populationbycountry19802010millions.csv')\n",
    "\n",
    "# first column name is Null in file, find col name through columns attribute and rename first column to region\n",
    "cols = pop_data_raw.columns \n",
    "pop_data_clean_header = pop_data_raw.select(col(cols[0]).alias('Region'), col('1990'), col('2010') )\n",
    "\n",
    "# remove regions with no population data (e.g. Antarctica, Wake Island, Croatia, Former U.S.S.R.)\n",
    "pop_data_clean_pop_nums = pop_data_clean_header.filter((col('1990')  != 'NA') &  (col('2010')  != 'NA'))\n",
    "pop_data_clean_pop_nums = pop_data_clean_pop_nums.filter((col('1990')  != '--') &  (col('2010')  != '--'))\n",
    "print(pop_data_clean_pop_nums.count())\n",
    "\n",
    "# remove leftover aggregate regions\n",
    "pop_data_clean_regions = pop_data_clean_pop_nums\\\n",
    "    .filter((col('Region') != 'World') & (col('Region') != 'North America') & (col('Region') != 'Central & South America') & (col('Region') != 'Eurasia') & (col('Region') != 'Western Sahara') & (col('Region') != 'Asia & Oceania'))"
   ]
  },
  {
   "cell_type": "code",
   "execution_count": 0,
   "metadata": {
    "application/vnd.databricks.v1+cell": {
     "cellMetadata": {
      "byteLimit": 2048000,
      "rowLimit": 10000
     },
     "inputWidgets": {},
     "nuid": "22854c04-f33b-490f-ba43-5011724e59f1",
     "showTitle": false,
     "title": ""
    }
   },
   "outputs": [
    {
     "output_type": "stream",
     "name": "stdout",
     "output_type": "stream",
     "text": [
      "+------------+--------------------+\n|      Region|       perc_increase|\n+------------+--------------------+\n|  Montserrat| -0.5228331780055917|\n|Cook Islands|-0.37520391517128876|\n|    Bulgaria|-0.19622600778274873|\n+------------+--------------------+\nonly showing top 3 rows\n\n"
     ]
    }
   ],
   "source": [
    "# calculate gross increase\n",
    "pop_decrease_gross = pop_data_clean_regions.withColumn('gross_increase', col('2010') - col('1990'))\n",
    "\n",
    "# remove regions with positive population growth\n",
    "pop_decrease_gross = pop_decrease_gross.filter(col('gross_increase') <= 0)\n",
    "\n",
    "# calculate percentage of growth increase\n",
    "pop_decrease_perc = pop_decrease_gross.withColumn('perc_increase', col('gross_increase')/col('1990'))\n",
    "\n",
    "# create DF sorted in ascending order of pop increase, only contains Region and perc_increase \n",
    "pop_q4_res = pop_decrease_perc.sort(col('perc_increase'))\\\n",
    "    .select(col('Region'), col('perc_increase'))\n",
    "\n",
    "# show top 3 results\n",
    "pop_q4_res.show(3)"
   ]
  }
 ],
 "metadata": {
  "application/vnd.databricks.v1+notebook": {
   "dashboards": [],
   "language": "python",
   "notebookMetadata": {
    "pythonIndentUnit": 4
   },
   "notebookName": "dh3382-hw2",
   "widgets": {}
  }
 },
 "nbformat": 4,
 "nbformat_minor": 0
}
