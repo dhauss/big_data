{
 "cells": [
  {
   "cell_type": "code",
   "execution_count": 31,
   "id": "d4b638c3-35f2-48f2-aed0-78f00a3f5220",
   "metadata": {
    "tags": []
   },
   "outputs": [
    {
     "name": "stdout",
     "output_type": "stream",
     "text": [
      "Pinged your deployment. You successfully connected to MongoDB!\n"
     ]
    }
   ],
   "source": [
    "from pymongo.mongo_client import MongoClient\n",
    "from pymongo.server_api import ServerApi\n",
    "from datetime import datetime\n",
    "from pprint import pprint\n",
    "import json\n",
    "import pytz\n",
    "\n",
    "# read in URI string from file to avoid showing password in plain text\n",
    "with open(\"mongo-config.txt\", 'r') as config:\n",
    "        URI = config.read()\n",
    "\n",
    "# Create a new client and connect to the server\n",
    "client = MongoClient(URI, server_api=ServerApi('1'))\n",
    "\n",
    "# Send a ping to test connection\n",
    "try:\n",
    "    client.admin.command('ping')\n",
    "    print(\"Pinged your deployment. You successfully connected to MongoDB!\")\n",
    "except Exception as e:\n",
    "    print(e)\n",
    "    \n",
    "RESTAURANT_PATH = \"restaurants.json\"\n",
    "HISTORICAL_PATH = \"historical-events.json\""
   ]
  },
  {
   "cell_type": "code",
   "execution_count": 33,
   "id": "60f7028f-07fa-4e5f-94d0-96e6376726ca",
   "metadata": {
    "tags": []
   },
   "outputs": [],
   "source": [
    "# convenience function to print out num_to_print sample records and number of docs returned by cursor\n",
    "def print_sample_and_total(cursor, num_to_print=5):\n",
    "    num_docs = 0\n",
    "    docs_to_print = []\n",
    "    for doc in cursor:\n",
    "        if(num_docs < num_to_print):\n",
    "            docs_to_print.append(doc)\n",
    "        num_docs = num_docs + 1\n",
    "\n",
    "    # print number of docs returned by find() query\n",
    "    print(\"\\nTotal number of documents returned: \" + str(num_docs) )\n",
    "    print(\"\\nSample docs:\\n\")\n",
    "\n",
    "    for doc in docs_to_print:\n",
    "        # easier to read JSON formatting\n",
    "        pprint(doc)"
   ]
  },
  {
   "cell_type": "markdown",
   "id": "233f0706-3115-4fae-9e1c-6d64398defe4",
   "metadata": {},
   "source": [
    "## 1. Load the restaurants data into a collection\n",
    "\n",
    "restaurants.json file is loaded into an array of JSON records and uploaded to remote MongoDB collection dh3382.rest_data. insert_many statement is commented out to avoid mistakenly uploading duplicate records. Note that for larger datasets, the dataset can be chunked and inserted in chunks to avoid loading the full set in memory"
   ]
  },
  {
   "cell_type": "code",
   "execution_count": 4,
   "id": "836fc80c-470d-46bb-8d69-ebb8de111c57",
   "metadata": {
    "tags": []
   },
   "outputs": [],
   "source": [
    "# read in restaurant data file, convert to list of JSON records to upload to DB\n",
    "rest_data = []\n",
    "with open(RESTAURANT_PATH, 'r') as file:\n",
    "    for line in file:\n",
    "        rest_data.append(json.loads(line) )\n",
    "        \n",
    "# find or create database \n",
    "db = client[\"dh3382\"]\n",
    "\n",
    "# find or create collection\n",
    "rest_collection = db[\"rest_data\"]\n",
    "\n",
    "# commented out to avoid reinserting data\n",
    "# rest_collection.insert_many(rest_data)"
   ]
  },
  {
   "cell_type": "markdown",
   "id": "c7490a04-8e74-4fca-9a46-f57364ac63a8",
   "metadata": {},
   "source": [
    "## 2. Count the number of documents in the collection\n",
    "\n",
    "I first print out the length of the array of JSON records to ensure it matches up with the records uploaded to dh3382.rest_data. I then call count_documents on the rest_data collection object with an empty query to return a full count"
   ]
  },
  {
   "cell_type": "code",
   "execution_count": 34,
   "id": "2235084e-e183-473b-96ae-0f5cd8ad1566",
   "metadata": {
    "tags": []
   },
   "outputs": [
    {
     "name": "stdout",
     "output_type": "stream",
     "text": [
      "Number of records in rest_data array: 3772\n",
      "Number of records in MongoDB dh3382.rest_data collection: 3772\n"
     ]
    }
   ],
   "source": [
    "# first check number of records in JSON array \n",
    "print(\"Number of records in rest_data array: \" + str(len(rest_data) ) )\n",
    "\n",
    "# count number of records uploaded to dh3382.rest_data and make sure it matches\n",
    "print(\"Number of records in MongoDB dh3382.rest_data collection: \" + str(rest_collection.count_documents({}) ) )"
   ]
  },
  {
   "cell_type": "markdown",
   "id": "fe04ef34-c16a-45d3-a605-7f77d1aee507",
   "metadata": {},
   "source": [
    "## 3. Find all the documents in the collection\n",
    "\n",
    "I use find() with an empty query to return a cursor pointing to the entire dh3382.rest_data collection. I then print out 5 documents to check that full documents were indeed returned, and count the number of documents returned to ensure that it matches up with the total count calculated in the previous cell"
   ]
  },
  {
   "cell_type": "code",
   "execution_count": 6,
   "id": "c0b9e9b9-2762-4102-9d88-2dc036598a8e",
   "metadata": {
    "tags": []
   },
   "outputs": [
    {
     "name": "stdout",
     "output_type": "stream",
     "text": [
      "\n",
      "Total number of documents returned: 3772\n",
      "\n",
      "Sample docs:\n",
      "\n",
      "{'_id': ObjectId('6566166d88b337b1d7dbd2ed'),\n",
      " 'address': {'building': '21',\n",
      "             'coord': [-73.9774394, 40.7604522],\n",
      "             'street': 'West   52 Street',\n",
      "             'zipcode': '10019'},\n",
      " 'borough': 'Manhattan',\n",
      " 'cuisine': 'American ',\n",
      " 'grades': [{'date': {'$date': 1400025600000}, 'grade': 'A', 'score': 12},\n",
      "            {'date': {'$date': 1376352000000}, 'grade': 'A', 'score': 12},\n",
      "            {'date': {'$date': 1333497600000}, 'grade': 'A', 'score': 12}],\n",
      " 'name': '21 Club',\n",
      " 'restaurant_id': '40364362'}\n",
      "{'_id': ObjectId('6566166d88b337b1d7dbd2b9'),\n",
      " 'address': {'building': '6409',\n",
      "             'coord': [-74.00528899999999, 40.628886],\n",
      "             'street': '11 Avenue',\n",
      "             'zipcode': '11219'},\n",
      " 'borough': 'Brooklyn',\n",
      " 'cuisine': 'American ',\n",
      " 'grades': [{'date': {'$date': 1405641600000}, 'grade': 'A', 'score': 12},\n",
      "            {'date': {'$date': 1375142400000}, 'grade': 'A', 'score': 12},\n",
      "            {'date': {'$date': 1360713600000}, 'grade': 'A', 'score': 11},\n",
      "            {'date': {'$date': 1345075200000}, 'grade': 'A', 'score': 2},\n",
      "            {'date': {'$date': 1313539200000}, 'grade': 'A', 'score': 11}],\n",
      " 'name': 'Regina Caterers',\n",
      " 'restaurant_id': '40356649'}\n",
      "{'_id': ObjectId('6566166d88b337b1d7dbd2d5'),\n",
      " 'address': {'building': '625',\n",
      "             'coord': [-73.990494, 40.7569545],\n",
      "             'street': '8 Avenue',\n",
      "             'zipcode': '10018'},\n",
      " 'borough': 'Manhattan',\n",
      " 'cuisine': 'American ',\n",
      " 'grades': [{'date': {'$date': 1402272000000}, 'grade': 'A', 'score': 12},\n",
      "            {'date': {'$date': 1389312000000}, 'grade': 'A', 'score': 9},\n",
      "            {'date': {'$date': 1354838400000}, 'grade': 'A', 'score': 4},\n",
      "            {'date': {'$date': 1323734400000}, 'grade': 'A', 'score': 9},\n",
      "            {'date': {'$date': 1315526400000}, 'grade': 'A', 'score': 13}],\n",
      " 'name': 'Cafe Metro',\n",
      " 'restaurant_id': '40363298'}\n",
      "{'_id': ObjectId('6566166d88b337b1d7dbd2b1'),\n",
      " 'address': {'building': '1007',\n",
      "             'coord': [-73.856077, 40.848447],\n",
      "             'street': 'Morris Park Ave',\n",
      "             'zipcode': '10462'},\n",
      " 'borough': 'Bronx',\n",
      " 'cuisine': 'Bakery',\n",
      " 'grades': [{'date': {'$date': 1393804800000}, 'grade': 'A', 'score': 2},\n",
      "            {'date': {'$date': 1378857600000}, 'grade': 'A', 'score': 6},\n",
      "            {'date': {'$date': 1358985600000}, 'grade': 'A', 'score': 10},\n",
      "            {'date': {'$date': 1322006400000}, 'grade': 'A', 'score': 9},\n",
      "            {'date': {'$date': 1299715200000}, 'grade': 'B', 'score': 14}],\n",
      " 'name': 'Morris Park Bake Shop',\n",
      " 'restaurant_id': '30075445'}\n",
      "{'_id': ObjectId('6566166d88b337b1d7dbd2c9'),\n",
      " 'address': {'building': '730',\n",
      "             'coord': [-73.96805719999999, 40.7925587],\n",
      "             'street': 'Columbus Avenue',\n",
      "             'zipcode': '10025'},\n",
      " 'borough': 'Manhattan',\n",
      " 'cuisine': 'American ',\n",
      " 'grades': [{'date': {'$date': 1410480000000}, 'grade': 'B', 'score': 26},\n",
      "            {'date': {'$date': 1377648000000}, 'grade': 'A', 'score': 9},\n",
      "            {'date': {'$date': 1364169600000}, 'grade': 'B', 'score': 20},\n",
      "            {'date': {'$date': 1329177600000}, 'grade': 'A', 'score': 12}],\n",
      " 'name': 'P & S Deli Grocery',\n",
      " 'restaurant_id': '40362264'}\n"
     ]
    }
   ],
   "source": [
    "# returns a cursor to all documents in dh3382.rest_data collection\n",
    "all_docs_cursor = rest_collection.find({})\n",
    "\n",
    "# convenience function defined above, prints 5 documents by default and total number returned by query\n",
    "print_sample_and_total(all_docs_cursor)"
   ]
  },
  {
   "cell_type": "markdown",
   "id": "e0aada59-407c-424f-b495-01233297e6be",
   "metadata": {},
   "source": [
    "## 4. Display: restaurant_id, name, borough and cuisine, but exclude field _id, for all the documents in the collection\n",
    "\n",
    "I query with a dict defined as key: field, val: boolean as the second parameter in order to exclude the \\_id field and include only the restaurant_id, name, borough, and cuisine fields. I again print out 5 sample documents as well as the total number of documents returned to confirm the correct formatting and size of the query return val"
   ]
  },
  {
   "cell_type": "code",
   "execution_count": 7,
   "id": "947ce872-1e3d-4c05-9864-a488cc57487a",
   "metadata": {
    "tags": []
   },
   "outputs": [
    {
     "name": "stdout",
     "output_type": "stream",
     "text": [
      "\n",
      "Total number of documents returned: 3772\n",
      "\n",
      "Sample docs:\n",
      "\n",
      "{'borough': 'Manhattan',\n",
      " 'cuisine': 'American ',\n",
      " 'name': '21 Club',\n",
      " 'restaurant_id': '40364362'}\n",
      "{'borough': 'Brooklyn',\n",
      " 'cuisine': 'American ',\n",
      " 'name': 'Regina Caterers',\n",
      " 'restaurant_id': '40356649'}\n",
      "{'borough': 'Manhattan',\n",
      " 'cuisine': 'American ',\n",
      " 'name': 'Cafe Metro',\n",
      " 'restaurant_id': '40363298'}\n",
      "{'borough': 'Bronx',\n",
      " 'cuisine': 'Bakery',\n",
      " 'name': 'Morris Park Bake Shop',\n",
      " 'restaurant_id': '30075445'}\n",
      "{'borough': 'Manhattan',\n",
      " 'cuisine': 'American ',\n",
      " 'name': 'P & S Deli Grocery',\n",
      " 'restaurant_id': '40362264'}\n"
     ]
    }
   ],
   "source": [
    "# define fields that will be returned by query\n",
    "fields = {\"_id\": 0, \"restaurant_id\": 1, \"name\": 1, \"borough\": 1, \"cuisine\": 1}\n",
    "\n",
    "# query dh3382.rest_data\n",
    "all_docs_4_fields = rest_collection.find({}, fields)\n",
    "\n",
    "# convenience function defined above, prints 5 documents by default and total number returned by query\n",
    "print_sample_and_total(all_docs_4_fields)"
   ]
  },
  {
   "cell_type": "markdown",
   "id": "4f267058-0ba2-4210-a0b6-7ae92a7f6610",
   "metadata": {},
   "source": [
    "## 5. Display all the restaurants in the Bronx\n",
    "\n",
    "I define a dict using the mongoDB $eq operator, then execute the query to return all documents where the borough field is equal to \"Bronx\" and print out a sample as well as the total number of documents returned"
   ]
  },
  {
   "cell_type": "code",
   "execution_count": 37,
   "id": "db81cdd8-89d3-4816-bf92-c5e0e37ace43",
   "metadata": {
    "tags": []
   },
   "outputs": [
    {
     "name": "stdout",
     "output_type": "stream",
     "text": [
      "\n",
      "Total number of documents returned: 309\n",
      "\n",
      "Sample docs:\n",
      "\n",
      "{'_id': ObjectId('6566166d88b337b1d7dbd2b1'),\n",
      " 'address': {'building': '1007',\n",
      "             'coord': [-73.856077, 40.848447],\n",
      "             'street': 'Morris Park Ave',\n",
      "             'zipcode': '10462'},\n",
      " 'borough': 'Bronx',\n",
      " 'cuisine': 'Bakery',\n",
      " 'grades': [{'date': {'$date': 1393804800000}, 'grade': 'A', 'score': 2},\n",
      "            {'date': {'$date': 1378857600000}, 'grade': 'A', 'score': 6},\n",
      "            {'date': {'$date': 1358985600000}, 'grade': 'A', 'score': 10},\n",
      "            {'date': {'$date': 1322006400000}, 'grade': 'A', 'score': 9},\n",
      "            {'date': {'$date': 1299715200000}, 'grade': 'B', 'score': 14}],\n",
      " 'name': 'Morris Park Bake Shop',\n",
      " 'restaurant_id': '30075445'}\n",
      "{'_id': ObjectId('6566166d88b337b1d7dbd38a'),\n",
      " 'address': {'building': '2300',\n",
      "             'coord': [-73.8786113, 40.8502883],\n",
      "             'street': 'Southern Boulevard',\n",
      "             'zipcode': '10460'},\n",
      " 'borough': 'Bronx',\n",
      " 'cuisine': 'American ',\n",
      " 'grades': [{'date': {'$date': 1400630400000}, 'grade': 'A', 'score': 2},\n",
      "            {'date': {'$date': 1369180800000}, 'grade': 'A', 'score': 11},\n",
      "            {'date': {'$date': 1337212800000}, 'grade': 'A', 'score': 12},\n",
      "            {'date': {'$date': 1307491200000}, 'grade': 'A', 'score': 5}],\n",
      " 'name': 'Cool Zone',\n",
      " 'restaurant_id': '40368022'}\n",
      "{'_id': ObjectId('6566166d88b337b1d7dbd3be'),\n",
      " 'address': {'building': '2375',\n",
      "             'coord': [-73.85534559999999, 40.8426433],\n",
      "             'street': 'East Tremont Avenue',\n",
      "             'zipcode': '10462'},\n",
      " 'borough': 'Bronx',\n",
      " 'cuisine': 'American ',\n",
      " 'grades': [{'date': {'$date': 1413244800000}, 'grade': 'A', 'score': 13},\n",
      "            {'date': {'$date': 1396915200000}, 'grade': 'A', 'score': 8},\n",
      "            {'date': {'$date': 1383523200000}, 'grade': 'C', 'score': 45},\n",
      "            {'date': {'$date': 1369267200000}, 'grade': 'A', 'score': 10},\n",
      "            {'date': {'$date': 1350518400000}, 'grade': 'B', 'score': 15},\n",
      "            {'date': {'$date': 1349395200000}, 'grade': 'P', 'score': 12},\n",
      "            {'date': {'$date': 1336953600000}, 'grade': 'A', 'score': 12},\n",
      "            {'date': {'$date': 1324425600000}, 'grade': 'A', 'score': 11}],\n",
      " 'name': 'Bronx Grill',\n",
      " 'restaurant_id': '40369601'}\n",
      "{'_id': ObjectId('6566166d88b337b1d7dbd362'),\n",
      " 'address': {'building': '2894',\n",
      "             'coord': [-73.815175, 40.8137649],\n",
      "             'street': 'Schurz Ave',\n",
      "             'zipcode': '10465'},\n",
      " 'borough': 'Bronx',\n",
      " 'cuisine': 'American ',\n",
      " 'grades': [{'date': {'$date': 1414713600000}, 'grade': 'B', 'score': 18},\n",
      "            {'date': {'$date': 1392854400000}, 'grade': 'A', 'score': 4},\n",
      "            {'date': {'$date': 1370563200000}, 'grade': 'A', 'score': 12},\n",
      "            {'date': {'$date': 1337212800000}, 'grade': 'A', 'score': 2}],\n",
      " 'name': 'Marina Delray',\n",
      " 'restaurant_id': '40367161'}\n",
      "{'_id': ObjectId('6566166d88b337b1d7dbd306'),\n",
      " 'address': {'building': '2222',\n",
      "             'coord': [-73.84971759999999, 40.8304811],\n",
      "             'street': 'Haviland Avenue',\n",
      "             'zipcode': '10462'},\n",
      " 'borough': 'Bronx',\n",
      " 'cuisine': 'American ',\n",
      " 'grades': [{'date': {'$date': 1418860800000}, 'grade': 'A', 'score': 7},\n",
      "            {'date': {'$date': 1398902400000}, 'grade': 'B', 'score': 17},\n",
      "            {'date': {'$date': 1363219200000}, 'grade': 'A', 'score': 12},\n",
      "            {'date': {'$date': 1348099200000}, 'grade': 'A', 'score': 9},\n",
      "            {'date': {'$date': 1328659200000}, 'grade': 'B', 'score': 19}],\n",
      " 'name': 'The New Starling Athletic Club Of The Bronx',\n",
      " 'restaurant_id': '40364956'}\n"
     ]
    }
   ],
   "source": [
    "# define filter with equals function\n",
    "query_bronx = {\"borough\": {\"$eq\": \"Bronx\"} }\n",
    "\n",
    "# execute query with filter\n",
    "all_docs_bronx = rest_collection.find(query_bronx)\n",
    "\n",
    "# convenience function defined above, prints 5 documents by default and total number returned by query\n",
    "print_sample_and_total(all_docs_bronx)"
   ]
  },
  {
   "cell_type": "markdown",
   "id": "509e720c-90ad-4cba-95f4-b993ca8cd6b3",
   "metadata": {},
   "source": [
    "## 7. Display the first 5 restaurants in the Bronx\n",
    "I query the first 10 restaurants in the Bronx using the previous query paired with the limit function. I save the result of the query to a list in memory and print out the first 5 results, displaying only the name of the restaurants for readability"
   ]
  },
  {
   "cell_type": "code",
   "execution_count": 38,
   "id": "1aab1100-38d1-49b1-b85d-7654e7b5fa0b",
   "metadata": {
    "tags": []
   },
   "outputs": [
    {
     "name": "stdout",
     "output_type": "stream",
     "text": [
      "Morris Park Bake Shop\n",
      "Cool Zone\n",
      "Bronx Grill\n",
      "Marina Delray\n",
      "The New Starling Athletic Club Of The Bronx\n"
     ]
    }
   ],
   "source": [
    "# rerun query with limit function added\n",
    "ten_docs_bronx = rest_collection.find(query_bronx).limit(10)\n",
    "\n",
    "# append each document from query in order to a list\n",
    "ten_docs_bronx_list = []\n",
    "for doc in ten_docs_bronx:\n",
    "    ten_docs_bronx_list.append(doc)\n",
    "\n",
    "# print out the restaurant name from the first 5 entries in the list\n",
    "for doc in ten_docs_bronx_list[:5]:\n",
    "    print(doc[\"name\"])"
   ]
  },
  {
   "cell_type": "markdown",
   "id": "f5017e19-a691-41f1-820f-cbbe626e2a8d",
   "metadata": {},
   "source": [
    "## 8. Display the second 5 restaurants (skipping the first 5) in the Bronx\n",
    "I simply print out the remaining documents in the list from the previous question"
   ]
  },
  {
   "cell_type": "code",
   "execution_count": 39,
   "id": "52db1982-9f5d-4876-8dd2-4e458afaf82a",
   "metadata": {
    "tags": []
   },
   "outputs": [
    {
     "name": "stdout",
     "output_type": "stream",
     "text": [
      "Terrace Cafe\n",
      "Beaver Pond\n",
      "Mcdonald'S\n",
      "Ihop\n",
      "Tony'S Pier Restaurant\n"
     ]
    }
   ],
   "source": [
    "# print out the last 5 items in the list from previous question\n",
    "for doc in ten_docs_bronx_list[5:]:\n",
    "    print(doc[\"name\"])"
   ]
  },
  {
   "cell_type": "markdown",
   "id": "020417fb-ba2e-4678-9c9d-4348806771ad",
   "metadata": {
    "tags": []
   },
   "source": [
    "## 9. Find the restaurants with a score more than 85\n",
    "Interpreted as find the restaurants with at least one score strictly greater than 85, use dot notation to evaluate all scores of each restaurant and the $gt operator to return restaurants with at least one score greater than 85. Use my convenience function to print out the results, in this case all of them because there were only four restaurants in total"
   ]
  },
  {
   "cell_type": "code",
   "execution_count": 11,
   "id": "0e9de6b7-c780-4b98-8889-5552e0c0a496",
   "metadata": {
    "tags": []
   },
   "outputs": [
    {
     "name": "stdout",
     "output_type": "stream",
     "text": [
      "\n",
      "Total number of documents returned: 4\n",
      "\n",
      "Sample docs:\n",
      "\n",
      "{'_id': ObjectId('6566166d88b337b1d7dbd40f'),\n",
      " 'address': {'building': '65',\n",
      "             'coord': [-73.9782725, 40.7624022],\n",
      "             'street': 'West   54 Street',\n",
      "             'zipcode': '10019'},\n",
      " 'borough': 'Manhattan',\n",
      " 'cuisine': 'American ',\n",
      " 'grades': [{'date': {'$date': 1408665600000}, 'grade': 'A', 'score': 11},\n",
      "            {'date': {'$date': 1395964800000}, 'grade': 'C', 'score': 131},\n",
      "            {'date': {'$date': 1380067200000}, 'grade': 'A', 'score': 11},\n",
      "            {'date': {'$date': 1365379200000}, 'grade': 'B', 'score': 25},\n",
      "            {'date': {'$date': 1350259200000}, 'grade': 'A', 'score': 11},\n",
      "            {'date': {'$date': 1318982400000}, 'grade': 'A', 'score': 13}],\n",
      " 'name': \"Murals On 54/Randolphs'S\",\n",
      " 'restaurant_id': '40372466'}\n",
      "{'_id': ObjectId('6566166d88b337b1d7dbd613'),\n",
      " 'address': {'building': '130',\n",
      "             'coord': [-73.984758, 40.7457939],\n",
      "             'street': 'Madison Avenue',\n",
      "             'zipcode': '10016'},\n",
      " 'borough': 'Manhattan',\n",
      " 'cuisine': 'Pizza/Italian',\n",
      " 'grades': [{'date': {'$date': 1419379200000}, 'grade': 'Z', 'score': 31},\n",
      "            {'date': {'$date': 1402963200000}, 'grade': 'C', 'score': 98},\n",
      "            {'date': {'$date': 1386806400000}, 'grade': 'C', 'score': 32},\n",
      "            {'date': {'$date': 1369180800000}, 'grade': 'B', 'score': 21},\n",
      "            {'date': {'$date': 1335916800000}, 'grade': 'A', 'score': 11}],\n",
      " 'name': 'Bella Napoli',\n",
      " 'restaurant_id': '40393488'}\n",
      "{'_id': ObjectId('6566166d88b337b1d7dbd4b0'),\n",
      " 'address': {'building': '345',\n",
      "             'coord': [-73.9864626, 40.7266739],\n",
      "             'street': 'East 6 Street',\n",
      "             'zipcode': '10003'},\n",
      " 'borough': 'Manhattan',\n",
      " 'cuisine': 'Indian',\n",
      " 'grades': [{'date': {'$date': 1410739200000}, 'grade': 'A', 'score': 5},\n",
      "            {'date': {'$date': 1389657600000}, 'grade': 'A', 'score': 8},\n",
      "            {'date': {'$date': 1369872000000}, 'grade': 'A', 'score': 12},\n",
      "            {'date': {'$date': 1366761600000}, 'grade': 'P', 'score': 2},\n",
      "            {'date': {'$date': 1349049600000}, 'grade': 'A', 'score': 9},\n",
      "            {'date': {'$date': 1333670400000}, 'grade': 'C', 'score': 92},\n",
      "            {'date': {'$date': 1320278400000}, 'grade': 'C', 'score': 41}],\n",
      " 'name': 'Gandhi',\n",
      " 'restaurant_id': '40381295'}\n",
      "{'_id': ObjectId('6566166d88b337b1d7dbde7f'),\n",
      " 'address': {'building': '',\n",
      "             'coord': [-74.0163793, 40.7167671],\n",
      "             'street': 'Hudson River',\n",
      "             'zipcode': '10282'},\n",
      " 'borough': 'Manhattan',\n",
      " 'cuisine': 'American ',\n",
      " 'grades': [{'date': {'$date': 1403827200000}, 'grade': 'C', 'score': 89},\n",
      "            {'date': {'$date': 1370476800000}, 'grade': 'A', 'score': 6},\n",
      "            {'date': {'$date': 1340064000000}, 'grade': 'A', 'score': 13}],\n",
      " 'name': 'West 79Th Street Boat Basin Cafe',\n",
      " 'restaurant_id': '40756344'}\n"
     ]
    }
   ],
   "source": [
    "# query all restaurants with at least one score greater than 85\n",
    "rest_over_85 = rest_collection.find({\"grades.score\": {\"$gt\": 85}})\n",
    "\n",
    "# print results\n",
    "print_sample_and_total(rest_over_85)"
   ]
  },
  {
   "cell_type": "markdown",
   "id": "c6fdf279-7914-4635-a764-81ec247c4f79",
   "metadata": {},
   "source": [
    "## 10. Find the restaurants that achieved a score, more than 80 but less than 100\n",
    "\n",
    "As per clarification on Slack, interpreted as documents with at least one score greater than 80 and at least one score less than 100. Similar to query from Q9, just added the less than condition"
   ]
  },
  {
   "cell_type": "code",
   "execution_count": 12,
   "id": "ce269bde-6dc3-4049-a895-9a9d98fb9705",
   "metadata": {
    "tags": []
   },
   "outputs": [
    {
     "name": "stdout",
     "output_type": "stream",
     "text": [
      "\n",
      "Total number of documents returned: 4\n",
      "\n",
      "Sample docs:\n",
      "\n",
      "{'_id': ObjectId('6566166d88b337b1d7dbd40f'),\n",
      " 'address': {'building': '65',\n",
      "             'coord': [-73.9782725, 40.7624022],\n",
      "             'street': 'West   54 Street',\n",
      "             'zipcode': '10019'},\n",
      " 'borough': 'Manhattan',\n",
      " 'cuisine': 'American ',\n",
      " 'grades': [{'date': {'$date': 1408665600000}, 'grade': 'A', 'score': 11},\n",
      "            {'date': {'$date': 1395964800000}, 'grade': 'C', 'score': 131},\n",
      "            {'date': {'$date': 1380067200000}, 'grade': 'A', 'score': 11},\n",
      "            {'date': {'$date': 1365379200000}, 'grade': 'B', 'score': 25},\n",
      "            {'date': {'$date': 1350259200000}, 'grade': 'A', 'score': 11},\n",
      "            {'date': {'$date': 1318982400000}, 'grade': 'A', 'score': 13}],\n",
      " 'name': \"Murals On 54/Randolphs'S\",\n",
      " 'restaurant_id': '40372466'}\n",
      "{'_id': ObjectId('6566166d88b337b1d7dbd613'),\n",
      " 'address': {'building': '130',\n",
      "             'coord': [-73.984758, 40.7457939],\n",
      "             'street': 'Madison Avenue',\n",
      "             'zipcode': '10016'},\n",
      " 'borough': 'Manhattan',\n",
      " 'cuisine': 'Pizza/Italian',\n",
      " 'grades': [{'date': {'$date': 1419379200000}, 'grade': 'Z', 'score': 31},\n",
      "            {'date': {'$date': 1402963200000}, 'grade': 'C', 'score': 98},\n",
      "            {'date': {'$date': 1386806400000}, 'grade': 'C', 'score': 32},\n",
      "            {'date': {'$date': 1369180800000}, 'grade': 'B', 'score': 21},\n",
      "            {'date': {'$date': 1335916800000}, 'grade': 'A', 'score': 11}],\n",
      " 'name': 'Bella Napoli',\n",
      " 'restaurant_id': '40393488'}\n",
      "{'_id': ObjectId('6566166d88b337b1d7dbd4b0'),\n",
      " 'address': {'building': '345',\n",
      "             'coord': [-73.9864626, 40.7266739],\n",
      "             'street': 'East 6 Street',\n",
      "             'zipcode': '10003'},\n",
      " 'borough': 'Manhattan',\n",
      " 'cuisine': 'Indian',\n",
      " 'grades': [{'date': {'$date': 1410739200000}, 'grade': 'A', 'score': 5},\n",
      "            {'date': {'$date': 1389657600000}, 'grade': 'A', 'score': 8},\n",
      "            {'date': {'$date': 1369872000000}, 'grade': 'A', 'score': 12},\n",
      "            {'date': {'$date': 1366761600000}, 'grade': 'P', 'score': 2},\n",
      "            {'date': {'$date': 1349049600000}, 'grade': 'A', 'score': 9},\n",
      "            {'date': {'$date': 1333670400000}, 'grade': 'C', 'score': 92},\n",
      "            {'date': {'$date': 1320278400000}, 'grade': 'C', 'score': 41}],\n",
      " 'name': 'Gandhi',\n",
      " 'restaurant_id': '40381295'}\n",
      "{'_id': ObjectId('6566166d88b337b1d7dbde7f'),\n",
      " 'address': {'building': '',\n",
      "             'coord': [-74.0163793, 40.7167671],\n",
      "             'street': 'Hudson River',\n",
      "             'zipcode': '10282'},\n",
      " 'borough': 'Manhattan',\n",
      " 'cuisine': 'American ',\n",
      " 'grades': [{'date': {'$date': 1403827200000}, 'grade': 'C', 'score': 89},\n",
      "            {'date': {'$date': 1370476800000}, 'grade': 'A', 'score': 6},\n",
      "            {'date': {'$date': 1340064000000}, 'grade': 'A', 'score': 13}],\n",
      " 'name': 'West 79Th Street Boat Basin Cafe',\n",
      " 'restaurant_id': '40756344'}\n"
     ]
    }
   ],
   "source": [
    "# define query\n",
    "query_80_100 = { \"grades.score\": { \"$gt\": 80, \"$lt\": 100 } }\n",
    "\n",
    "# execute query\n",
    "rest_80_to_100 = rest_collection.find(query_80_100)\n",
    "\n",
    "# print results\n",
    "print_sample_and_total(rest_80_to_100)"
   ]
  },
  {
   "cell_type": "markdown",
   "id": "2141af2c-3530-4342-8aed-0e9bb6f51d89",
   "metadata": {},
   "source": [
    "## 11. Find the restaurants which locate in latitude (edit: longitude) value less than -95.754168\n",
    "\n",
    "In class, professor clarified this question should read 'longitude', and that coordinates are recorded as [\\<longitude\\>, \\<latitude\\>], I define a query to find all longitude values less than -95.754168. I then execute the query and print the results with my convenience function"
   ]
  },
  {
   "cell_type": "code",
   "execution_count": 42,
   "id": "8d643b44-ed77-4cd0-93cb-66a8b63bb6d5",
   "metadata": {
    "tags": []
   },
   "outputs": [
    {
     "name": "stdout",
     "output_type": "stream",
     "text": [
      "\n",
      "Total number of documents returned: 3\n",
      "\n",
      "Sample docs:\n",
      "\n",
      "{'_id': ObjectId('6566166d88b337b1d7dbdc64'),\n",
      " 'address': {'building': '15259',\n",
      "             'coord': [-119.6368672, 36.2504996],\n",
      "             'street': '10 Avenue',\n",
      "             'zipcode': '11357'},\n",
      " 'borough': 'Queens',\n",
      " 'cuisine': 'Italian',\n",
      " 'grades': [{'date': {'$date': 1409788800000}, 'grade': 'A', 'score': 11},\n",
      "            {'date': {'$date': 1395792000000}, 'grade': 'A', 'score': 8},\n",
      "            {'date': {'$date': 1362355200000}, 'grade': 'A', 'score': 10},\n",
      "            {'date': {'$date': 1348704000000}, 'grade': 'A', 'score': 10},\n",
      "            {'date': {'$date': 1334880000000}, 'grade': 'A', 'score': 7},\n",
      "            {'date': {'$date': 1322006400000}, 'grade': 'C', 'score': 34}],\n",
      " 'name': \"Cascarino'S\",\n",
      " 'restaurant_id': '40668681'}\n",
      "{'_id': ObjectId('6566166d88b337b1d7dbd8f9'),\n",
      " 'address': {'building': '3707',\n",
      "             'coord': [-101.8945214, 33.5197474],\n",
      "             'street': '82 Street',\n",
      "             'zipcode': '11372'},\n",
      " 'borough': 'Queens',\n",
      " 'cuisine': 'American ',\n",
      " 'grades': [{'date': {'$date': 1401840000000}, 'grade': 'A', 'score': 12},\n",
      "            {'date': {'$date': 1383782400000}, 'grade': 'B', 'score': 19},\n",
      "            {'date': {'$date': 1368748800000}, 'grade': 'A', 'score': 11},\n",
      "            {'date': {'$date': 1346198400000}, 'grade': 'A', 'score': 11},\n",
      "            {'date': {'$date': 1333411200000}, 'grade': 'A', 'score': 12},\n",
      "            {'date': {'$date': 1321401600000}, 'grade': 'A', 'score': 7}],\n",
      " 'name': 'Burger King',\n",
      " 'restaurant_id': '40534067'}\n",
      "{'_id': ObjectId('6566166d88b337b1d7dbe10a'),\n",
      " 'address': {'building': '60',\n",
      "             'coord': [-111.9975205, 42.0970258],\n",
      "             'street': 'West Side Highway',\n",
      "             'zipcode': '10006'},\n",
      " 'borough': 'Manhattan',\n",
      " 'cuisine': 'Japanese',\n",
      " 'grades': [{'date': {'$date': 1395273600000}, 'grade': 'A', 'score': 9},\n",
      "            {'date': {'$date': 1372377600000}, 'grade': 'A', 'score': 11},\n",
      "            {'date': {'$date': 1341446400000}, 'grade': 'A', 'score': 13},\n",
      "            {'date': {'$date': 1311724800000}, 'grade': 'A', 'score': 2}],\n",
      " 'name': 'Sports Center At Chelsea Piers (Sushi Bar)',\n",
      " 'restaurant_id': '40882356'}\n"
     ]
    }
   ],
   "source": [
    "# define query\n",
    "query_lat = {\"address.coord.0\" : {\"$lt\": -95.754168} }\n",
    "\n",
    "# execute query\n",
    "rest_lat_95 = rest_collection.find(query_lat)\n",
    "\n",
    "# print results\n",
    "print_sample_and_total(rest_lat_95)"
   ]
  },
  {
   "cell_type": "markdown",
   "id": "e8ab782d-0bb9-4b93-b4d3-188836cb09f0",
   "metadata": {
    "tags": []
   },
   "source": [
    "## 12. Find the restaurants that do not prepare any cuisine of 'American' and their grade score more than 70 and latitude (edit: longitude) less than -65.754168.\n",
    "\n",
    "Chained queries to meet all criteria. Noticed some restaurants had \"American \" cuisine with an extra whitespace at end, so manually removed to avoid mistakenly filtering out cuisine such as 'South & Central American'. Then executed query and printed results. Note that again, professor clarified this question should read longitude, not latitude"
   ]
  },
  {
   "cell_type": "code",
   "execution_count": 43,
   "id": "498a08f2-d132-4a62-aeec-bf6e39c7980a",
   "metadata": {
    "tags": []
   },
   "outputs": [
    {
     "name": "stdout",
     "output_type": "stream",
     "text": [
      "\n",
      "Total number of documents returned: 5\n",
      "\n",
      "Sample docs:\n",
      "\n",
      "{'_id': ObjectId('6566166d88b337b1d7dbd613'),\n",
      " 'address': {'building': '130',\n",
      "             'coord': [-73.984758, 40.7457939],\n",
      "             'street': 'Madison Avenue',\n",
      "             'zipcode': '10016'},\n",
      " 'borough': 'Manhattan',\n",
      " 'cuisine': 'Pizza/Italian',\n",
      " 'grades': [{'date': {'$date': 1419379200000}, 'grade': 'Z', 'score': 31},\n",
      "            {'date': {'$date': 1402963200000}, 'grade': 'C', 'score': 98},\n",
      "            {'date': {'$date': 1386806400000}, 'grade': 'C', 'score': 32},\n",
      "            {'date': {'$date': 1369180800000}, 'grade': 'B', 'score': 21},\n",
      "            {'date': {'$date': 1335916800000}, 'grade': 'A', 'score': 11}],\n",
      " 'name': 'Bella Napoli',\n",
      " 'restaurant_id': '40393488'}\n",
      "{'_id': ObjectId('6566166d88b337b1d7dbd4b0'),\n",
      " 'address': {'building': '345',\n",
      "             'coord': [-73.9864626, 40.7266739],\n",
      "             'street': 'East 6 Street',\n",
      "             'zipcode': '10003'},\n",
      " 'borough': 'Manhattan',\n",
      " 'cuisine': 'Indian',\n",
      " 'grades': [{'date': {'$date': 1410739200000}, 'grade': 'A', 'score': 5},\n",
      "            {'date': {'$date': 1389657600000}, 'grade': 'A', 'score': 8},\n",
      "            {'date': {'$date': 1369872000000}, 'grade': 'A', 'score': 12},\n",
      "            {'date': {'$date': 1366761600000}, 'grade': 'P', 'score': 2},\n",
      "            {'date': {'$date': 1349049600000}, 'grade': 'A', 'score': 9},\n",
      "            {'date': {'$date': 1333670400000}, 'grade': 'C', 'score': 92},\n",
      "            {'date': {'$date': 1320278400000}, 'grade': 'C', 'score': 41}],\n",
      " 'name': 'Gandhi',\n",
      " 'restaurant_id': '40381295'}\n",
      "{'_id': ObjectId('6566166d88b337b1d7dbd61e'),\n",
      " 'address': {'building': '101',\n",
      "             'coord': [-73.9243061, 40.8276297],\n",
      "             'street': 'East 161 Street',\n",
      "             'zipcode': '10451'},\n",
      " 'borough': 'Bronx',\n",
      " 'cuisine': 'Latin (Cuban, Dominican, Puerto Rican, South & Central American)',\n",
      " 'grades': [{'date': {'$date': 1397088000000}, 'grade': 'A', 'score': 10},\n",
      "            {'date': {'$date': 1380585600000}, 'grade': 'A', 'score': 6},\n",
      "            {'date': {'$date': 1365638400000}, 'grade': 'B', 'score': 25},\n",
      "            {'date': {'$date': 1351123200000}, 'grade': 'A', 'score': 12},\n",
      "            {'date': {'$date': 1349827200000}, 'grade': 'P', 'score': 12},\n",
      "            {'date': {'$date': 1337904000000}, 'grade': 'B', 'score': 14},\n",
      "            {'date': {'$date': 1315958400000}, 'grade': 'B', 'score': 26},\n",
      "            {'date': {'$date': 1303689600000}, 'grade': 'C', 'score': 76}],\n",
      " 'name': 'El Molino Rojo Restaurant',\n",
      " 'restaurant_id': '40393688'}\n",
      "{'_id': ObjectId('6566166d88b337b1d7dbd76e'),\n",
      " 'address': {'building': '289',\n",
      "             'coord': [-73.94610279999999, 40.7137587],\n",
      "             'street': 'Manhattan Avenue',\n",
      "             'zipcode': '11211'},\n",
      " 'borough': 'Brooklyn',\n",
      " 'cuisine': 'Bakery',\n",
      " 'grades': [{'date': {'$date': 1395187200000}, 'grade': 'A', 'score': 10},\n",
      "            {'date': {'$date': 1381363200000}, 'grade': 'A', 'score': 10},\n",
      "            {'date': {'$date': 1367884800000}, 'grade': 'A', 'score': 13},\n",
      "            {'date': {'$date': 1347321600000}, 'grade': 'B', 'score': 18},\n",
      "            {'date': {'$date': 1334707200000}, 'grade': 'A', 'score': 9},\n",
      "            {'date': {'$date': 1317081600000}, 'grade': 'A', 'score': 8},\n",
      "            {'date': {'$date': 1304380800000}, 'grade': 'C', 'score': 77}],\n",
      " 'name': 'Fortunato Bros Cafe & Bakery',\n",
      " 'restaurant_id': '40400561'}\n",
      "{'_id': ObjectId('6566166d88b337b1d7dbdd98'),\n",
      " 'address': {'building': '231',\n",
      "             'coord': [-73.9772294, 40.7527262],\n",
      "             'street': 'Grand Central Station',\n",
      "             'zipcode': '10017'},\n",
      " 'borough': 'Manhattan',\n",
      " 'cuisine': 'Italian',\n",
      " 'grades': [{'date': {'$date': 1420588800000}, 'grade': 'Z', 'score': 20},\n",
      "            {'date': {'$date': 1404345600000}, 'grade': 'B', 'score': 14},\n",
      "            {'date': {'$date': 1387584000000}, 'grade': 'A', 'score': 13},\n",
      "            {'date': {'$date': 1368748800000}, 'grade': 'C', 'score': 76},\n",
      "            {'date': {'$date': 1334880000000}, 'grade': 'A', 'score': 12}],\n",
      " 'name': 'Two Boots Grand Central',\n",
      " 'restaurant_id': '40725591'}\n"
     ]
    }
   ],
   "source": [
    "# define query\n",
    "query_cuisine_score_lat = {\n",
    "    \"$and\": [\n",
    "        {\"cuisine\": {\"$ne\": \"American\", \"$ne\": \"American \"}},\n",
    "        {\"grades.score\": {\"$gt\": 70}},\n",
    "        {\"address.coord.0\": {\"$lt\": 60}}\n",
    "    ]\n",
    "}\n",
    "\n",
    "# execute query\n",
    "rest_cuisine_score_lat = rest_collection.find(query_cuisine_score_lat)\n",
    "\n",
    "# print results\n",
    "print_sample_and_total(rest_cuisine_score_lat)"
   ]
  },
  {
   "cell_type": "markdown",
   "id": "2b0ad7e2-4c5a-4465-8a05-d38ed642d073",
   "metadata": {},
   "source": [
    "## 13. Find the restaurants which do not prepare any cuisine of 'American' and achieved a score more than 70 and located in the longitude less than -65.754168. (without using $and operator)\n",
    "\n",
    "Largely the same as 12, just changed the syntax to remove the $and operator and extra brackets. Professor clarified that 'longitude' in this question is correct"
   ]
  },
  {
   "cell_type": "code",
   "execution_count": 15,
   "id": "d4f2d57b-15a7-4107-ba42-5cae685f6696",
   "metadata": {
    "tags": []
   },
   "outputs": [
    {
     "name": "stdout",
     "output_type": "stream",
     "text": [
      "\n",
      "Total number of documents returned: 5\n",
      "\n",
      "Sample docs:\n",
      "\n",
      "{'_id': ObjectId('6566166d88b337b1d7dbd613'),\n",
      " 'address': {'building': '130',\n",
      "             'coord': [-73.984758, 40.7457939],\n",
      "             'street': 'Madison Avenue',\n",
      "             'zipcode': '10016'},\n",
      " 'borough': 'Manhattan',\n",
      " 'cuisine': 'Pizza/Italian',\n",
      " 'grades': [{'date': {'$date': 1419379200000}, 'grade': 'Z', 'score': 31},\n",
      "            {'date': {'$date': 1402963200000}, 'grade': 'C', 'score': 98},\n",
      "            {'date': {'$date': 1386806400000}, 'grade': 'C', 'score': 32},\n",
      "            {'date': {'$date': 1369180800000}, 'grade': 'B', 'score': 21},\n",
      "            {'date': {'$date': 1335916800000}, 'grade': 'A', 'score': 11}],\n",
      " 'name': 'Bella Napoli',\n",
      " 'restaurant_id': '40393488'}\n",
      "{'_id': ObjectId('6566166d88b337b1d7dbd4b0'),\n",
      " 'address': {'building': '345',\n",
      "             'coord': [-73.9864626, 40.7266739],\n",
      "             'street': 'East 6 Street',\n",
      "             'zipcode': '10003'},\n",
      " 'borough': 'Manhattan',\n",
      " 'cuisine': 'Indian',\n",
      " 'grades': [{'date': {'$date': 1410739200000}, 'grade': 'A', 'score': 5},\n",
      "            {'date': {'$date': 1389657600000}, 'grade': 'A', 'score': 8},\n",
      "            {'date': {'$date': 1369872000000}, 'grade': 'A', 'score': 12},\n",
      "            {'date': {'$date': 1366761600000}, 'grade': 'P', 'score': 2},\n",
      "            {'date': {'$date': 1349049600000}, 'grade': 'A', 'score': 9},\n",
      "            {'date': {'$date': 1333670400000}, 'grade': 'C', 'score': 92},\n",
      "            {'date': {'$date': 1320278400000}, 'grade': 'C', 'score': 41}],\n",
      " 'name': 'Gandhi',\n",
      " 'restaurant_id': '40381295'}\n",
      "{'_id': ObjectId('6566166d88b337b1d7dbd61e'),\n",
      " 'address': {'building': '101',\n",
      "             'coord': [-73.9243061, 40.8276297],\n",
      "             'street': 'East 161 Street',\n",
      "             'zipcode': '10451'},\n",
      " 'borough': 'Bronx',\n",
      " 'cuisine': 'Latin (Cuban, Dominican, Puerto Rican, South & Central American)',\n",
      " 'grades': [{'date': {'$date': 1397088000000}, 'grade': 'A', 'score': 10},\n",
      "            {'date': {'$date': 1380585600000}, 'grade': 'A', 'score': 6},\n",
      "            {'date': {'$date': 1365638400000}, 'grade': 'B', 'score': 25},\n",
      "            {'date': {'$date': 1351123200000}, 'grade': 'A', 'score': 12},\n",
      "            {'date': {'$date': 1349827200000}, 'grade': 'P', 'score': 12},\n",
      "            {'date': {'$date': 1337904000000}, 'grade': 'B', 'score': 14},\n",
      "            {'date': {'$date': 1315958400000}, 'grade': 'B', 'score': 26},\n",
      "            {'date': {'$date': 1303689600000}, 'grade': 'C', 'score': 76}],\n",
      " 'name': 'El Molino Rojo Restaurant',\n",
      " 'restaurant_id': '40393688'}\n",
      "{'_id': ObjectId('6566166d88b337b1d7dbd76e'),\n",
      " 'address': {'building': '289',\n",
      "             'coord': [-73.94610279999999, 40.7137587],\n",
      "             'street': 'Manhattan Avenue',\n",
      "             'zipcode': '11211'},\n",
      " 'borough': 'Brooklyn',\n",
      " 'cuisine': 'Bakery',\n",
      " 'grades': [{'date': {'$date': 1395187200000}, 'grade': 'A', 'score': 10},\n",
      "            {'date': {'$date': 1381363200000}, 'grade': 'A', 'score': 10},\n",
      "            {'date': {'$date': 1367884800000}, 'grade': 'A', 'score': 13},\n",
      "            {'date': {'$date': 1347321600000}, 'grade': 'B', 'score': 18},\n",
      "            {'date': {'$date': 1334707200000}, 'grade': 'A', 'score': 9},\n",
      "            {'date': {'$date': 1317081600000}, 'grade': 'A', 'score': 8},\n",
      "            {'date': {'$date': 1304380800000}, 'grade': 'C', 'score': 77}],\n",
      " 'name': 'Fortunato Bros Cafe & Bakery',\n",
      " 'restaurant_id': '40400561'}\n",
      "{'_id': ObjectId('6566166d88b337b1d7dbdd98'),\n",
      " 'address': {'building': '231',\n",
      "             'coord': [-73.9772294, 40.7527262],\n",
      "             'street': 'Grand Central Station',\n",
      "             'zipcode': '10017'},\n",
      " 'borough': 'Manhattan',\n",
      " 'cuisine': 'Italian',\n",
      " 'grades': [{'date': {'$date': 1420588800000}, 'grade': 'Z', 'score': 20},\n",
      "            {'date': {'$date': 1404345600000}, 'grade': 'B', 'score': 14},\n",
      "            {'date': {'$date': 1387584000000}, 'grade': 'A', 'score': 13},\n",
      "            {'date': {'$date': 1368748800000}, 'grade': 'C', 'score': 76},\n",
      "            {'date': {'$date': 1334880000000}, 'grade': 'A', 'score': 12}],\n",
      " 'name': 'Two Boots Grand Central',\n",
      " 'restaurant_id': '40725591'}\n"
     ]
    }
   ],
   "source": [
    "# define query\n",
    "query_cuisine_score_lat = {\n",
    "        \"cuisine\": {\"$ne\": \"American\", \"$ne\": \"American \"},\n",
    "        \"grades.score\": {\"$gt\": 70},\n",
    "        \"address.coord.0\": {\"$lt\": 60}\n",
    "}\n",
    "\n",
    "# execute query\n",
    "rest_cuisine_score_lat = rest_collection.find(query_cuisine_score_lat)\n",
    "\n",
    "# print results\n",
    "print_sample_and_total(rest_cuisine_score_lat)"
   ]
  },
  {
   "cell_type": "markdown",
   "id": "39db4804-b8ee-4a90-a234-1ae93d9371ec",
   "metadata": {},
   "source": [
    "## 14. Find the restaurants which do not prepare any cuisine of 'American ' and achieved a grade point 'A' and not in the borough of Brooklyn, sorted by cuisine in descending order.\n",
    "\n",
    "Query filters out any documents with \"American\" or \"American \" cuisine or in Brooklyn. Also filters out any documents if they have not achieved at least one rating of A. I then execute the query and sort on \"cuisine\", passing -1 as the second parameter to specify descending order."
   ]
  },
  {
   "cell_type": "code",
   "execution_count": 16,
   "id": "8a8c14e9-de65-4b5e-a8aa-90fea68f9bc6",
   "metadata": {
    "tags": []
   },
   "outputs": [
    {
     "name": "stdout",
     "output_type": "stream",
     "text": [
      "\n",
      "Total number of documents returned: 2017\n",
      "\n",
      "Sample docs:\n",
      "\n",
      "{'_id': ObjectId('6566166d88b337b1d7dbd9bd'),\n",
      " 'address': {'building': '89',\n",
      "             'coord': [-73.9995899, 40.7168015],\n",
      "             'street': 'Baxter Street',\n",
      "             'zipcode': '10013'},\n",
      " 'borough': 'Manhattan',\n",
      " 'cuisine': 'Vietnamese/Cambodian/Malaysia',\n",
      " 'grades': [{'date': {'$date': 1408579200000}, 'grade': 'A', 'score': 13},\n",
      "            {'date': {'$date': 1377907200000}, 'grade': 'A', 'score': 13},\n",
      "            {'date': {'$date': 1365638400000}, 'grade': 'C', 'score': 3},\n",
      "            {'date': {'$date': 1350432000000}, 'grade': 'A', 'score': 4},\n",
      "            {'date': {'$date': 1337040000000}, 'grade': 'A', 'score': 10}],\n",
      " 'name': 'Thai Son',\n",
      " 'restaurant_id': '40559606'}\n",
      "{'_id': ObjectId('6566166d88b337b1d7dbda76'),\n",
      " 'address': {'building': '8278',\n",
      "             'coord': [-73.88143509999999, 40.7412552],\n",
      "             'street': 'Broadway',\n",
      "             'zipcode': '11373'},\n",
      " 'borough': 'Queens',\n",
      " 'cuisine': 'Vietnamese/Cambodian/Malaysia',\n",
      " 'grades': [{'date': {'$date': 1402531200000}, 'grade': 'B', 'score': 21},\n",
      "            {'date': {'$date': 1369008000000}, 'grade': 'A', 'score': 13},\n",
      "            {'date': {'$date': 1356480000000}, 'grade': 'A', 'score': 10},\n",
      "            {'date': {'$date': 1354492800000}, 'grade': 'P', 'score': 5},\n",
      "            {'date': {'$date': 1336089600000}, 'grade': 'B', 'score': 27}],\n",
      " 'name': 'Pho Bac Vietnamese Seafood Cuisine',\n",
      " 'restaurant_id': '40578058'}\n",
      "{'_id': ObjectId('6566166d88b337b1d7dbde5f'),\n",
      " 'address': {'building': '148',\n",
      "             'coord': [-74.000254, 40.7172727],\n",
      "             'street': 'Centre Street',\n",
      "             'zipcode': '10013'},\n",
      " 'borough': 'Manhattan',\n",
      " 'cuisine': 'Vietnamese/Cambodian/Malaysia',\n",
      " 'grades': [{'date': {'$date': 1412121600000}, 'grade': 'A', 'score': 7},\n",
      "            {'date': {'$date': 1400457600000}, 'grade': 'C', 'score': 5},\n",
      "            {'date': {'$date': 1384473600000}, 'grade': 'B', 'score': 14},\n",
      "            {'date': {'$date': 1362700800000}, 'grade': 'B', 'score': 25},\n",
      "            {'date': {'$date': 1337644800000}, 'grade': 'B', 'score': 23},\n",
      "            {'date': {'$date': 1319673600000}, 'grade': 'A', 'score': 9}],\n",
      " 'name': 'Nha-Trang Centre Vietnam Restaurant',\n",
      " 'restaurant_id': '40751226'}\n",
      "{'_id': ObjectId('6566166d88b337b1d7dbd561'),\n",
      " 'address': {'building': '300',\n",
      "             'coord': [-73.985568, 40.7307496],\n",
      "             'street': 'East 12 Street',\n",
      "             'zipcode': '10003'},\n",
      " 'borough': 'Manhattan',\n",
      " 'cuisine': 'Vegetarian',\n",
      " 'grades': [{'date': {'$date': 1391558400000}, 'grade': 'A', 'score': 13},\n",
      "            {'date': {'$date': 1366761600000}, 'grade': 'B', 'score': 19},\n",
      "            {'date': {'$date': 1326758400000}, 'grade': 'A', 'score': 12},\n",
      "            {'date': {'$date': 1311552000000}, 'grade': 'A', 'score': 10}],\n",
      " 'name': 'Angelica Kitchen',\n",
      " 'restaurant_id': '40388281'}\n",
      "{'_id': ObjectId('6566166d88b337b1d7dbd87e'),\n",
      " 'address': {'building': '547',\n",
      "             'coord': [-92.7292446, 41.7461746],\n",
      "             'street': '6 Avenue',\n",
      "             'zipcode': '10011'},\n",
      " 'borough': 'Manhattan',\n",
      " 'cuisine': 'Vegetarian',\n",
      " 'grades': [{'date': {'$date': 1411689600000}, 'grade': 'A', 'score': 12},\n",
      "            {'date': {'$date': 1396828800000}, 'grade': 'A', 'score': 12},\n",
      "            {'date': {'$date': 1380758400000}, 'grade': 'A', 'score': 13},\n",
      "            {'date': {'$date': 1347235200000}, 'grade': 'A', 'score': 7},\n",
      "            {'date': {'$date': 1335744000000}, 'grade': 'A', 'score': 13},\n",
      "            {'date': {'$date': 1322611200000}, 'grade': 'A', 'score': 11}],\n",
      " 'name': 'Village Yogurt',\n",
      " 'restaurant_id': '40512123'}\n"
     ]
    }
   ],
   "source": [
    "# define query\n",
    "query_not_american_brooklyn = {\n",
    "        \"cuisine\": {\"$ne\": \"American\", \"$ne\": \"American \"},\n",
    "        \"grades.grade\": {\"$eq\": 'A'},\n",
    "        \"borough\": {\"$ne\": \"Brooklyn\"}\n",
    "}\n",
    "\n",
    "# execute query. Sorted by cuisine, -1 for descending order\n",
    "rest_not_american_brooklyn = rest_collection.find(query_not_american_brooklyn)\\\n",
    "                                            .sort([(\"cuisine\", -1)])\n",
    "\n",
    "# print results\n",
    "print_sample_and_total(rest_not_american_brooklyn)"
   ]
  },
  {
   "cell_type": "markdown",
   "id": "5727c6e2-3c91-498a-8934-01eaedcfa157",
   "metadata": {},
   "source": [
    "## 15. Find the restaurant Id, name, borough and cuisine for those restaurants which contain 'Wil' as first three letters for its name.\n",
    "\n",
    "I define a new fields argument equal to Q4 because I am paranoid about the way Jupyter handles variables. I also define a query using Mongo's regex operator, then execute the query and print the results"
   ]
  },
  {
   "cell_type": "code",
   "execution_count": 17,
   "id": "b0fae59f-1433-4561-aefb-0e63bb09973a",
   "metadata": {
    "tags": []
   },
   "outputs": [
    {
     "name": "stdout",
     "output_type": "stream",
     "text": [
      "\n",
      "Total number of documents returned: 3\n",
      "\n",
      "Sample docs:\n",
      "\n",
      "{'borough': 'Brooklyn',\n",
      " 'cuisine': 'Delicatessen',\n",
      " 'name': \"Wilken'S Fine Food\",\n",
      " 'restaurant_id': '40356483'}\n",
      "{'borough': 'Bronx',\n",
      " 'cuisine': 'American ',\n",
      " 'name': 'Wild Asia',\n",
      " 'restaurant_id': '40357217'}\n",
      "{'borough': 'Bronx',\n",
      " 'cuisine': 'Pizza',\n",
      " 'name': 'Wilbel Pizza',\n",
      " 'restaurant_id': '40871979'}\n"
     ]
    }
   ],
   "source": [
    "# define query to find name's starting with \"Wil\"\n",
    "query_wil = {\"name\": {\"$regex\": \"^Wil\"}}\n",
    "\n",
    "# define fields parameter as per criteria\n",
    "fields_wil = {\"_id\": 0, \"restaurant_id\": 1, \"name\": 1, \"borough\": 1, \"cuisine\": 1}\n",
    "\n",
    "# execute query\n",
    "rest_wil = rest_collection.find(query_wil, fields_wil)\n",
    "\n",
    "# print results\n",
    "print_sample_and_total(rest_wil)"
   ]
  },
  {
   "cell_type": "markdown",
   "id": "13e2b36e-f72b-40f4-91c7-68408f60c927",
   "metadata": {},
   "source": [
    "## 16. Find the restaurant Id, name, borough and cuisine for those restaurants which contain 'ces' as last three letters for its name.\n",
    "\n",
    "Similar to Q15, but I change the regex to search for names ending in \"ces\". I then add the optional num_to_print argument in my convenience function in order to print all 6 documents returned by the query"
   ]
  },
  {
   "cell_type": "code",
   "execution_count": 44,
   "id": "c7886799-9d26-4241-8c59-6fc80ae4018d",
   "metadata": {
    "tags": []
   },
   "outputs": [
    {
     "name": "stdout",
     "output_type": "stream",
     "text": [
      "\n",
      "Total number of documents returned: 6\n",
      "\n",
      "Sample docs:\n",
      "\n",
      "{'borough': 'Manhattan',\n",
      " 'cuisine': 'American ',\n",
      " 'name': 'Good Shepherd Services',\n",
      " 'restaurant_id': '40403989'}\n",
      "{'borough': 'Manhattan',\n",
      " 'cuisine': 'American ',\n",
      " 'name': 'Pieces',\n",
      " 'restaurant_id': '40399910'}\n",
      "{'borough': 'Queens',\n",
      " 'cuisine': 'American ',\n",
      " 'name': 'S.M.R Restaurant Services',\n",
      " 'restaurant_id': '40403857'}\n",
      "{'borough': 'Manhattan',\n",
      " 'cuisine': 'American ',\n",
      " 'name': 'Re: Sources',\n",
      " 'restaurant_id': '40876068'}\n",
      "{'borough': 'Queens',\n",
      " 'cuisine': 'Ice Cream, Gelato, Yogurt, Ices',\n",
      " 'name': \"The Ice Box-Ralph'S Famous Italian Ices\",\n",
      " 'restaurant_id': '40690899'}\n",
      "{'borough': 'Brooklyn',\n",
      " 'cuisine': 'Jewish/Kosher',\n",
      " 'name': 'Alices',\n",
      " 'restaurant_id': '40782042'}\n"
     ]
    }
   ],
   "source": [
    "# define query to find name's ending with \"ces\"\n",
    "query_ces = {\"name\": {\"$regex\": \"ces$\"}}\n",
    "\n",
    "# define fields parameter as per criteria\n",
    "fields_ces = {\"_id\": 0, \"restaurant_id\": 1, \"name\": 1, \"borough\": 1, \"cuisine\": 1}\n",
    "\n",
    "# execute query\n",
    "rest_ces = rest_collection.find(query_ces, fields_ces)\n",
    "\n",
    "# print results, specify 6 as num_to_print to show all 6 documents\n",
    "print_sample_and_total(rest_ces, 6)"
   ]
  },
  {
   "cell_type": "markdown",
   "id": "6a395e82-401a-4d87-a896-9f4389ad2cca",
   "metadata": {},
   "source": [
    "## 17. Find the restaurant Id, name, borough and cuisine for those restaurants which contain 'Reg' as three letters somewhere in its name.\n",
    "\n",
    "Similar to Q15 and Q16, just changed the regex statement as per criteria and added 7 to convenience function to print all results. "
   ]
  },
  {
   "cell_type": "code",
   "execution_count": 19,
   "id": "1254cdd8-b2cd-4bf7-bee1-64111e3b1db4",
   "metadata": {
    "tags": []
   },
   "outputs": [
    {
     "name": "stdout",
     "output_type": "stream",
     "text": [
      "\n",
      "Total number of documents returned: 7\n",
      "\n",
      "Sample docs:\n",
      "\n",
      "{'borough': 'Brooklyn',\n",
      " 'cuisine': 'American ',\n",
      " 'name': 'Regina Caterers',\n",
      " 'restaurant_id': '40356649'}\n",
      "{'borough': 'Manhattan',\n",
      " 'cuisine': 'Café/Coffee/Tea',\n",
      " 'name': 'Caffe Reggio',\n",
      " 'restaurant_id': '40369418'}\n",
      "{'borough': 'Manhattan',\n",
      " 'cuisine': 'American ',\n",
      " 'name': 'Regency Hotel',\n",
      " 'restaurant_id': '40382679'}\n",
      "{'borough': 'Manhattan',\n",
      " 'cuisine': 'American ',\n",
      " 'name': 'Regency Whist Club',\n",
      " 'restaurant_id': '40402377'}\n",
      "{'borough': 'Queens',\n",
      " 'cuisine': 'American ',\n",
      " 'name': 'Rego Park Cafe',\n",
      " 'restaurant_id': '40523342'}\n",
      "{'borough': 'Queens',\n",
      " 'cuisine': 'Pizza',\n",
      " 'name': 'Regina Pizza',\n",
      " 'restaurant_id': '40801325'}\n",
      "{'borough': 'Manhattan',\n",
      " 'cuisine': 'American ',\n",
      " 'name': 'Regal Entertainment Group',\n",
      " 'restaurant_id': '40891782'}\n"
     ]
    }
   ],
   "source": [
    "# define query to find name's starting with \"Wil\"\n",
    "query_reg = {\"name\": {\"$regex\": \"Reg\"}}\n",
    "\n",
    "# define fields parameter as per criteria\n",
    "fields_reg = {\"_id\": 0, \"restaurant_id\": 1, \"name\": 1, \"borough\": 1, \"cuisine\": 1}\n",
    "\n",
    "# execute query\n",
    "rest_reg = rest_collection.find(query_reg, fields_reg)\n",
    "\n",
    "# print results, specify 7 as num_to_print to show all 7 documents\n",
    "print_sample_and_total(rest_reg, 7)"
   ]
  },
  {
   "cell_type": "markdown",
   "id": "b448e587-7a64-44b1-a5de-0f438d07d8ab",
   "metadata": {},
   "source": [
    "## 18. Find the restaurants which belong to the borough Bronx and prepared either American or Chinese dish\n",
    "\n",
    "I use the in operator to find all restaurants which serve American or Chinese cuisine, accounting for the \"American \" restaurants, and filter all restaurants not in the Bronx. I then execute the query and print out 5 sample documents as well as the total number of restaurants returned by the query using my convenience function"
   ]
  },
  {
   "cell_type": "code",
   "execution_count": 20,
   "id": "437c4435-6c6e-49c7-b87b-72ca51fca601",
   "metadata": {
    "tags": []
   },
   "outputs": [
    {
     "name": "stdout",
     "output_type": "stream",
     "text": [
      "\n",
      "Total number of documents returned: 91\n",
      "\n",
      "Sample docs:\n",
      "\n",
      "{'_id': ObjectId('6566166d88b337b1d7dbd38a'),\n",
      " 'address': {'building': '2300',\n",
      "             'coord': [-73.8786113, 40.8502883],\n",
      "             'street': 'Southern Boulevard',\n",
      "             'zipcode': '10460'},\n",
      " 'borough': 'Bronx',\n",
      " 'cuisine': 'American ',\n",
      " 'grades': [{'date': {'$date': 1400630400000}, 'grade': 'A', 'score': 2},\n",
      "            {'date': {'$date': 1369180800000}, 'grade': 'A', 'score': 11},\n",
      "            {'date': {'$date': 1337212800000}, 'grade': 'A', 'score': 12},\n",
      "            {'date': {'$date': 1307491200000}, 'grade': 'A', 'score': 5}],\n",
      " 'name': 'Cool Zone',\n",
      " 'restaurant_id': '40368022'}\n",
      "{'_id': ObjectId('6566166d88b337b1d7dbd3be'),\n",
      " 'address': {'building': '2375',\n",
      "             'coord': [-73.85534559999999, 40.8426433],\n",
      "             'street': 'East Tremont Avenue',\n",
      "             'zipcode': '10462'},\n",
      " 'borough': 'Bronx',\n",
      " 'cuisine': 'American ',\n",
      " 'grades': [{'date': {'$date': 1413244800000}, 'grade': 'A', 'score': 13},\n",
      "            {'date': {'$date': 1396915200000}, 'grade': 'A', 'score': 8},\n",
      "            {'date': {'$date': 1383523200000}, 'grade': 'C', 'score': 45},\n",
      "            {'date': {'$date': 1369267200000}, 'grade': 'A', 'score': 10},\n",
      "            {'date': {'$date': 1350518400000}, 'grade': 'B', 'score': 15},\n",
      "            {'date': {'$date': 1349395200000}, 'grade': 'P', 'score': 12},\n",
      "            {'date': {'$date': 1336953600000}, 'grade': 'A', 'score': 12},\n",
      "            {'date': {'$date': 1324425600000}, 'grade': 'A', 'score': 11}],\n",
      " 'name': 'Bronx Grill',\n",
      " 'restaurant_id': '40369601'}\n",
      "{'_id': ObjectId('6566166d88b337b1d7dbd362'),\n",
      " 'address': {'building': '2894',\n",
      "             'coord': [-73.815175, 40.8137649],\n",
      "             'street': 'Schurz Ave',\n",
      "             'zipcode': '10465'},\n",
      " 'borough': 'Bronx',\n",
      " 'cuisine': 'American ',\n",
      " 'grades': [{'date': {'$date': 1414713600000}, 'grade': 'B', 'score': 18},\n",
      "            {'date': {'$date': 1392854400000}, 'grade': 'A', 'score': 4},\n",
      "            {'date': {'$date': 1370563200000}, 'grade': 'A', 'score': 12},\n",
      "            {'date': {'$date': 1337212800000}, 'grade': 'A', 'score': 2}],\n",
      " 'name': 'Marina Delray',\n",
      " 'restaurant_id': '40367161'}\n",
      "{'_id': ObjectId('6566166d88b337b1d7dbd306'),\n",
      " 'address': {'building': '2222',\n",
      "             'coord': [-73.84971759999999, 40.8304811],\n",
      "             'street': 'Haviland Avenue',\n",
      "             'zipcode': '10462'},\n",
      " 'borough': 'Bronx',\n",
      " 'cuisine': 'American ',\n",
      " 'grades': [{'date': {'$date': 1418860800000}, 'grade': 'A', 'score': 7},\n",
      "            {'date': {'$date': 1398902400000}, 'grade': 'B', 'score': 17},\n",
      "            {'date': {'$date': 1363219200000}, 'grade': 'A', 'score': 12},\n",
      "            {'date': {'$date': 1348099200000}, 'grade': 'A', 'score': 9},\n",
      "            {'date': {'$date': 1328659200000}, 'grade': 'B', 'score': 19}],\n",
      " 'name': 'The New Starling Athletic Club Of The Bronx',\n",
      " 'restaurant_id': '40364956'}\n",
      "{'_id': ObjectId('6566166d88b337b1d7dbd38b'),\n",
      " 'address': {'building': '2300',\n",
      "             'coord': [-73.8786113, 40.8502883],\n",
      "             'street': 'Southern Boulevard',\n",
      "             'zipcode': '10460'},\n",
      " 'borough': 'Bronx',\n",
      " 'cuisine': 'American ',\n",
      " 'grades': [{'date': {'$date': 1400630400000}, 'grade': 'A', 'score': 11},\n",
      "            {'date': {'$date': 1369785600000}, 'grade': 'A', 'score': 10},\n",
      "            {'date': {'$date': 1339718400000}, 'grade': 'A', 'score': 2},\n",
      "            {'date': {'$date': 1307491200000}, 'grade': 'A', 'score': 0}],\n",
      " 'name': 'Beaver Pond',\n",
      " 'restaurant_id': '40368025'}\n"
     ]
    }
   ],
   "source": [
    "# define query using in operator\n",
    "query_bronx_us_chinese = {\n",
    "    \"borough\": {\"$eq\": \"Bronx\"},\n",
    "    \"cuisine\": {\"$in\": [\"American\", \"American \", \"Chinese\"]}\n",
    "}\n",
    "\n",
    "# execute query\n",
    "rest_bronx_us_chinese = rest_collection.find(query_bronx_us_chinese)\n",
    "\n",
    "# print results\n",
    "print_sample_and_total(rest_bronx_us_chinese)"
   ]
  },
  {
   "cell_type": "markdown",
   "id": "4c86ccbf-45bb-45f3-b889-5cbbe888702f",
   "metadata": {},
   "source": [
    "## 19. Find the restaurant Id, name, borough and cuisine for those restaurants which belong to the boroughs of Staten Island or Queens or Bronx or Brooklyn.\n",
    "\n",
    "I use the in operator to construct a query which will find all restaurants in any of the four specified boroughs, then add the fields argument, execute and print. For this dataset, we could return the same set of documents by just excluding the borough of Manhattan instead of including these four boroughs, but the query as is would apply to datasets which include restaurants outside of NYC as well"
   ]
  },
  {
   "cell_type": "code",
   "execution_count": 21,
   "id": "367bd564-5202-427d-b0cb-9259fe1285fa",
   "metadata": {
    "tags": []
   },
   "outputs": [
    {
     "name": "stdout",
     "output_type": "stream",
     "text": [
      "\n",
      "Total number of documents returned: 1889\n",
      "\n",
      "Sample docs:\n",
      "\n",
      "{'borough': 'Brooklyn',\n",
      " 'cuisine': 'American ',\n",
      " 'name': 'Regina Caterers',\n",
      " 'restaurant_id': '40356649'}\n",
      "{'borough': 'Bronx',\n",
      " 'cuisine': 'Bakery',\n",
      " 'name': 'Morris Park Bake Shop',\n",
      " 'restaurant_id': '30075445'}\n",
      "{'borough': 'Brooklyn',\n",
      " 'cuisine': 'Polish',\n",
      " 'name': 'Polish National Home',\n",
      " 'restaurant_id': '40364404'}\n",
      "{'borough': 'Queens',\n",
      " 'cuisine': 'Italian',\n",
      " 'name': 'Parkside Restaurant',\n",
      " 'restaurant_id': '40365841'}\n",
      "{'borough': 'Bronx',\n",
      " 'cuisine': 'American ',\n",
      " 'name': 'Cool Zone',\n",
      " 'restaurant_id': '40368022'}\n"
     ]
    }
   ],
   "source": [
    "query_boroughs = {\"borough\": {\"$in\": [\"Staten Island\", \"Queens\", \"Bronx\", \"Brooklyn\"]}}\n",
    "\n",
    "# define fields parameter as per criteria\n",
    "fields_boroughs = {\"_id\": 0, \"restaurant_id\": 1, \"name\": 1, \"borough\": 1, \"cuisine\": 1}\n",
    "\n",
    "# execute query\n",
    "rest_boroughs = rest_collection.find(query_boroughs, fields_boroughs)\n",
    "\n",
    "# print results\n",
    "print_sample_and_total(rest_boroughs)"
   ]
  },
  {
   "cell_type": "markdown",
   "id": "0a2f68c4-2e74-422e-a622-dcc8a38d8de7",
   "metadata": {},
   "source": [
    "## 20. Find the restaurant Id, name, borough and cuisine for those restaurants which are not belonging to the borough Staten Island or Queens or Bronx or Brooklyn\n",
    "\n",
    "Only difference from Q19 is the use of the nin operator instead of the in operator. As a sanity check, the total number of documents returned by the two queries is 1883 + 1889 = 3772, which is the total number of documents in the DB, as expected"
   ]
  },
  {
   "cell_type": "code",
   "execution_count": 22,
   "id": "2bfe99b3-a2a9-4f67-a0de-89bd7066f32c",
   "metadata": {
    "tags": []
   },
   "outputs": [
    {
     "name": "stdout",
     "output_type": "stream",
     "text": [
      "\n",
      "Total number of documents returned: 1883\n",
      "\n",
      "Sample docs:\n",
      "\n",
      "{'borough': 'Manhattan',\n",
      " 'cuisine': 'American ',\n",
      " 'name': '21 Club',\n",
      " 'restaurant_id': '40364362'}\n",
      "{'borough': 'Manhattan',\n",
      " 'cuisine': 'American ',\n",
      " 'name': 'Cafe Metro',\n",
      " 'restaurant_id': '40363298'}\n",
      "{'borough': 'Manhattan',\n",
      " 'cuisine': 'American ',\n",
      " 'name': 'P & S Deli Grocery',\n",
      " 'restaurant_id': '40362264'}\n",
      "{'borough': 'Manhattan',\n",
      " 'cuisine': 'American ',\n",
      " 'name': '1 East 66Th Street Kitchen',\n",
      " 'restaurant_id': '40359480'}\n",
      "{'borough': 'Manhattan',\n",
      " 'cuisine': 'Irish',\n",
      " 'name': 'Dj Reynolds Pub And Restaurant',\n",
      " 'restaurant_id': '30191841'}\n"
     ]
    }
   ],
   "source": [
    "query_not_boroughs = {\"borough\": {\"$nin\": [\"Staten Island\", \"Queens\", \"Bronx\", \"Brooklyn\"]}}\n",
    "\n",
    "# execute query\n",
    "rest_not_boroughs = rest_collection.find(query_not_boroughs, fields_boroughs)\n",
    "\n",
    "# print results\n",
    "print_sample_and_total(rest_not_boroughs)"
   ]
  },
  {
   "cell_type": "markdown",
   "id": "cbb8b234-ec46-433f-b726-863dbe754f30",
   "metadata": {},
   "source": [
    "## 21. Find the restaurant Id, name, borough and cuisine for those restaurants which achieved a score below 10.\n",
    "\n",
    "I define a query which will return all restaurants which received at least one score less than 10. I then define the fields to be displayed, execute the query and print my results"
   ]
  },
  {
   "cell_type": "code",
   "execution_count": 23,
   "id": "296598c5-7830-4dd8-97a8-063a0d846645",
   "metadata": {
    "tags": []
   },
   "outputs": [
    {
     "name": "stdout",
     "output_type": "stream",
     "text": [
      "\n",
      "Total number of documents returned: 3245\n",
      "\n",
      "Sample docs:\n",
      "\n",
      "{'borough': 'Brooklyn',\n",
      " 'cuisine': 'American ',\n",
      " 'name': 'Regina Caterers',\n",
      " 'restaurant_id': '40356649'}\n",
      "{'borough': 'Manhattan',\n",
      " 'cuisine': 'American ',\n",
      " 'name': 'Cafe Metro',\n",
      " 'restaurant_id': '40363298'}\n",
      "{'borough': 'Bronx',\n",
      " 'cuisine': 'Bakery',\n",
      " 'name': 'Morris Park Bake Shop',\n",
      " 'restaurant_id': '30075445'}\n",
      "{'borough': 'Manhattan',\n",
      " 'cuisine': 'American ',\n",
      " 'name': 'P & S Deli Grocery',\n",
      " 'restaurant_id': '40362264'}\n",
      "{'borough': 'Manhattan',\n",
      " 'cuisine': 'American ',\n",
      " 'name': '1 East 66Th Street Kitchen',\n",
      " 'restaurant_id': '40359480'}\n"
     ]
    }
   ],
   "source": [
    "# define query for any score below 10\n",
    "query_below_10 = {\"grades.score\": {\"$lt\": 10}}\n",
    "\n",
    "# define fields parameter\n",
    "fields_below_10 = {\"_id\": 0, \"restaurant_id\": 1, \"name\": 1, \"borough\": 1, \"cuisine\": 1}\n",
    "\n",
    "# execute query\n",
    "rest_below_10 = rest_collection.find(query_below_10, fields_below_10)\n",
    "\n",
    "# print results\n",
    "print_sample_and_total(rest_below_10)"
   ]
  },
  {
   "cell_type": "markdown",
   "id": "af558eb5-1de5-4fd6-822b-915d3bbd33d5",
   "metadata": {},
   "source": [
    "## 22. Find the restaurant Id, name, borough and cuisine for those restaurants which prepared dish except 'American' and 'Chinese' or restaurant's name begins with letter 'Wil'.\n",
    "\n",
    "Query simply combines elements from previous questions, again taking care to avoid the \"American \" restaurants. I use the $or operator to return all restaurants that do not prepare American or Chinese cuisines and all restaurants whose names begin with 'Wil'"
   ]
  },
  {
   "cell_type": "code",
   "execution_count": 54,
   "id": "bf5e33e2-8013-4129-b15c-d289ec7eb2f5",
   "metadata": {
    "tags": []
   },
   "outputs": [
    {
     "name": "stdout",
     "output_type": "stream",
     "text": [
      "\n",
      "Total number of documents returned: 2403\n",
      "\n",
      "Sample docs:\n",
      "\n",
      "{'borough': 'Bronx',\n",
      " 'cuisine': 'Bakery',\n",
      " 'name': 'Morris Park Bake Shop',\n",
      " 'restaurant_id': '30075445'}\n",
      "{'borough': 'Manhattan',\n",
      " 'cuisine': 'Irish',\n",
      " 'name': 'Dj Reynolds Pub And Restaurant',\n",
      " 'restaurant_id': '30191841'}\n",
      "{'borough': 'Brooklyn',\n",
      " 'cuisine': 'Polish',\n",
      " 'name': 'Polish National Home',\n",
      " 'restaurant_id': '40364404'}\n",
      "{'borough': 'Manhattan',\n",
      " 'cuisine': 'Italian',\n",
      " 'name': \"Arturo'S\",\n",
      " 'restaurant_id': '40365387'}\n",
      "{'borough': 'Queens',\n",
      " 'cuisine': 'Italian',\n",
      " 'name': 'Parkside Restaurant',\n",
      " 'restaurant_id': '40365841'}\n"
     ]
    }
   ],
   "source": [
    "# define query, restaurants whose name begins with \"Wil\" and are not American or Chinese\n",
    "query_wil_not_us_chinese = {\n",
    "    \"$or\": [\n",
    "        {\"cuisine\": {\"$nin\": [\"American\", \"American \", \"Chinese\"] } },\n",
    "        {\"name\": {\"$regex\": \"^Wil\"} }\n",
    "    ]\n",
    "}\n",
    "\n",
    "# define fields parameter\n",
    "fields_wil_not_us_chinese = {\"_id\": 0, \"restaurant_id\": 1, \"name\": 1, \"borough\": 1, \"cuisine\": 1}\n",
    "\n",
    "# execute query\n",
    "rest_wil_not_us_chinese = rest_collection.find(query_wil_not_us_chinese, fields_wil_not_us_chinese)\n",
    "\n",
    "# print results\n",
    "print_sample_and_total(rest_wil_not_us_chinese)"
   ]
  },
  {
   "cell_type": "markdown",
   "id": "fc46a938-5857-4bb6-bbad-96a96f36b297",
   "metadata": {},
   "source": [
    "## 23. Find the restaurant Id, name, and grades for those restaurants which achieved a grade of \"A\" and scored 11 on an ISODate \"2014-08-11T00:00:00Z\" among many of survey dates."
   ]
  },
  {
   "cell_type": "code",
   "execution_count": 63,
   "id": "ab9ff416-9e7a-466c-b39d-f10f7349e6e6",
   "metadata": {
    "tags": []
   },
   "outputs": [
    {
     "name": "stdout",
     "output_type": "stream",
     "text": [
      "\n",
      "Total number of documents returned: 1\n",
      "\n",
      "Sample docs:\n",
      "\n",
      "{'grades': [{'date': {'$date': 1407715200000}, 'grade': 'A', 'score': 11},\n",
      "            {'date': {'$date': 1386633600000}, 'grade': 'A', 'score': 9},\n",
      "            {'date': {'$date': 1370822400000}, 'grade': 'A', 'score': 12},\n",
      "            {'date': {'$date': 1339113600000}, 'grade': 'A', 'score': 13},\n",
      "            {'date': {'$date': 1327449600000}, 'grade': 'A', 'score': 8},\n",
      "            {'date': {'$date': 1315872000000}, 'grade': 'A', 'score': 12}],\n",
      " 'name': 'Don Filippo Restaurant',\n",
      " 'restaurant_id': '40372417'}\n"
     ]
    }
   ],
   "source": [
    "# Convert ISODate from UTC timezone to unix timestamp\n",
    "datetime = datetime.strptime(\"2014-08-11T00:00:00Z\", \"%Y-%m-%dT%H:%M:%SZ\")\n",
    "\n",
    "# Set the UTC timezone\n",
    "utc_timezone = pytz.timezone('UTC')\n",
    "utc_datetime = utc_timezone.localize(datetime)\n",
    "\n",
    "# Convert to Unix timestamp and multiply by 1000 to convert to milliseconds\n",
    "unix_timestamp = int(utc_datetime.timestamp() ) * 1000\n",
    "\n",
    "query_isodate_11 = {\n",
    "    \"grades\": {\n",
    "        \"$elemMatch\": {\n",
    "            \"date.$date\": unix_timestamp,\n",
    "            \"grade\": 'A',\n",
    "            \"score\": 11\n",
    "        }\n",
    "    }\n",
    "}\n",
    "\n",
    "# define fields parameter\n",
    "fields_isodate = {\"_id\": 0, \"restaurant_id\": 1, \"name\": 1, \"grades\": 1}\n",
    "\n",
    "# execute query\n",
    "rest_isodate_11 = rest_collection.find(query_isodate_11, fields_isodate)\n",
    "\n",
    "# print results\n",
    "print_sample_and_total(rest_isodate_11)"
   ]
  },
  {
   "cell_type": "markdown",
   "id": "37ec05da-9465-4eb5-b3bb-0575efd3a7be",
   "metadata": {
    "tags": []
   },
   "source": [
    "## 24. Find the restaurant Id, name and grades for those restaurants where the 2nd element of grades array contains a grade of \"A\" and score 9 on an ISODate \"2014-08-11T00:00:00Z\"."
   ]
  },
  {
   "cell_type": "code",
   "execution_count": 67,
   "id": "a955373d-49a8-4949-ae5c-3c4ea657ab31",
   "metadata": {
    "tags": []
   },
   "outputs": [
    {
     "name": "stdout",
     "output_type": "stream",
     "text": [
      "\n",
      "Total number of documents returned: 1\n",
      "\n",
      "Sample docs:\n",
      "\n",
      "{'grades': [{'date': {'$date': 1421020800000}, 'grade': 'A', 'score': 10},\n",
      "            {'date': {'$date': 1407715200000}, 'grade': 'A', 'score': 9},\n",
      "            {'date': {'$date': 1389657600000}, 'grade': 'A', 'score': 13},\n",
      "            {'date': {'$date': 1360195200000}, 'grade': 'A', 'score': 10},\n",
      "            {'date': {'$date': 1335744000000}, 'grade': 'A', 'score': 11}],\n",
      " 'name': 'Club Macanudo (Cigar Bar)',\n",
      " 'restaurant_id': '40526406'}\n"
     ]
    }
   ],
   "source": [
    "# manually select 2nd element of grades array, query on same date as Q23 and specified criteria\n",
    "query_isodate_9 = {\n",
    "    \"grades.1.date.$date\": unix_timestamp,\n",
    "    \"grades.1.grade\": 'A',\n",
    "    \"grades.1.score\": 9\n",
    "    }\n",
    "\n",
    "# execute query\n",
    "rest_isodate_9 = rest_collection.find(query_isodate_9, fields_isodate)\n",
    "\n",
    "# print results\n",
    "print_sample_and_total(rest_isodate_9)"
   ]
  },
  {
   "cell_type": "markdown",
   "id": "0c773e5d-a406-4291-8654-338d1cedda2c",
   "metadata": {},
   "source": [
    "## 25. Find the restaurant Id, name, address and geographical location for those restaurants where 2nd element of coordinates array contains a value which is more than 42 and up to 52.\n",
    "\n",
    "Assuming 52 is inclusive, I find the second element of the coordinates array using dot notation, specify the fields to be displayed, then execute the query and print the results. I am interpreting \"address and geographical location\" as street address and coordinates, which are nested under \"address\""
   ]
  },
  {
   "cell_type": "code",
   "execution_count": 68,
   "id": "7201815c-32fb-4713-b850-09d26f626b87",
   "metadata": {
    "tags": []
   },
   "outputs": [
    {
     "name": "stdout",
     "output_type": "stream",
     "text": [
      "\n",
      "Total number of documents returned: 7\n",
      "\n",
      "Sample docs:\n",
      "\n",
      "{'address': {'building': '1',\n",
      "             'coord': [-0.7119979, 51.6514664],\n",
      "             'street': 'Pennplaza E, Penn Sta',\n",
      "             'zipcode': '10001'},\n",
      " 'name': 'T.G.I. Fridays',\n",
      " 'restaurant_id': '40388936'}\n",
      "{'address': {'building': '47',\n",
      "             'coord': [-78.877224, 42.89546199999999],\n",
      "             'street': 'Broadway @ Trinity Pl',\n",
      "             'zipcode': '10006'},\n",
      " 'name': \"T.G.I. Friday'S\",\n",
      " 'restaurant_id': '40387990'}\n",
      "{'address': {'building': '3000',\n",
      "             'coord': [-87.86567699999999, 42.61150920000001],\n",
      "             'street': '47 Avenue',\n",
      "             'zipcode': '11101'},\n",
      " 'name': \"Di Luvio'S Deli\",\n",
      " 'restaurant_id': '40402284'}\n",
      "{'address': {'building': '21972199',\n",
      "             'coord': [-78.589606, 42.8912372],\n",
      "             'street': 'Broadway',\n",
      "             'zipcode': '10024'},\n",
      " 'name': 'La Caridad 78',\n",
      " 'restaurant_id': '40568285'}\n",
      "{'address': {'building': '0',\n",
      "             'coord': [-88.0778799, 42.4154769],\n",
      "             'street': '& Grand Central',\n",
      "             'zipcode': '10017'},\n",
      " 'name': 'Hyatt, Ny Central/Room Service',\n",
      " 'restaurant_id': '40879243'}\n",
      "{'address': {'building': '60',\n",
      "             'coord': [-111.9975205, 42.0970258],\n",
      "             'street': 'West Side Highway',\n",
      "             'zipcode': '10006'},\n",
      " 'name': 'Sports Center At Chelsea Piers (Sushi Bar)',\n",
      " 'restaurant_id': '40882356'}\n",
      "{'address': {'building': '7981',\n",
      "             'coord': [-84.9751215, 45.4713351],\n",
      "             'street': 'Hoyt Street',\n",
      "             'zipcode': '11201'},\n",
      " 'name': \"Bijan'S\",\n",
      " 'restaurant_id': '40876618'}\n"
     ]
    }
   ],
   "source": [
    "query_geo = {\n",
    "    \"address.coord.1\": {'$gt': 42, '$lte': 52},\n",
    "}\n",
    "\n",
    "# define fields parameter\n",
    "fields_geo = {\"_id\": 0, \"restaurant_id\": 1, \"name\": 1, \"address\": 1}\n",
    "\n",
    "# execute query\n",
    "rest_geo = rest_collection.find(query_geo, fields_geo)\n",
    "\n",
    "# print results, specify 7 as num_to_print to print all results\n",
    "print_sample_and_total(rest_geo, 7)"
   ]
  },
  {
   "cell_type": "markdown",
   "id": "c6b5bb7e-c669-41f9-9c31-d10113317e20",
   "metadata": {},
   "source": [
    "## EC 1. (historical-events.json): Count the number of events per year\n",
    "The trick to this question is that the raw data includes 2 separate date formats: YYY and YYY(Y)/MM/DD. Given we only actually need the year, I solve this problem by extracting only the year from each entry and uploading it as an integer. This is more efficient than converting everything to a datetime object, which would require further conversions when uploading and querying the database, and allows for a simpler query as well. In this first cell, I modify the JSON records accordingly before uploading to the database, and then print out the number of records in the JSON array and count the number of documents in the database to ensure I have uploaded the full historical events file. Note that, as with Q1, the dataset can be chunked and inserted in chunks to accomodate datasets that do not fit in memory. I also again commented out the insert_many function in order to avoid mistakenly reinserting the data"
   ]
  },
  {
   "cell_type": "code",
   "execution_count": 69,
   "id": "5e9edf7b-a188-40b1-b0c3-48b06afef2d1",
   "metadata": {
    "tags": []
   },
   "outputs": [
    {
     "name": "stdout",
     "output_type": "stream",
     "text": [
      "Events in historical_events JSON array: 30781\n",
      "Documents uploaded to dh3382.historical_events: 30781\n"
     ]
    }
   ],
   "source": [
    "# read in restaurant data file, convert to list of JSON records to upload to DB\n",
    "historical_events = []\n",
    "i = 0\n",
    "with open(HISTORICAL_PATH, 'r') as file:\n",
    "    for line in file:\n",
    "        line_json = json.loads(line)\n",
    "        # extract only year from dates formatted YYY(Y)/MM/DD\n",
    "        if('/' in line_json[\"date\"]):\n",
    "            line_json[\"date\"] = int(line_json[\"date\"].split('/')[0])\n",
    "            historical_events.append(line_json)\n",
    "\n",
    "# find or create collection\n",
    "historical_collection = db[\"historical_events\"]\n",
    "\n",
    "# upload to db, commented out to avoid reinserting data\n",
    "# historical_collection.insert_many(historical_events)\n",
    "\n",
    "# ensure correct number of events uploaded to DB\n",
    "print(\"Events in historical_events JSON array: \" + str(len(historical_events) ) )\n",
    "print(\"Documents uploaded to dh3382.historical_events: \" + str(historical_collection.count_documents({}) ) )"
   ]
  },
  {
   "cell_type": "markdown",
   "id": "a2bead78-2cf2-4b86-9bfe-276139415ee7",
   "metadata": {},
   "source": [
    "### EC 1 continued\n",
    "\n",
    "In this cell, I define an aggregate query to group by date (in this case, an integer representing only the year), and count each entry by date. I use the $project feature to create an alias, \"Year\", for the group's \\_id field for readability"
   ]
  },
  {
   "cell_type": "code",
   "execution_count": 71,
   "id": "a48bafb5-8c18-4021-bfe2-1a2c1e4c27d2",
   "metadata": {
    "tags": []
   },
   "outputs": [
    {
     "name": "stdout",
     "output_type": "stream",
     "text": [
      "\n",
      "Total number of documents returned: 1321\n",
      "\n",
      "Sample docs:\n",
      "\n",
      "{'Year': 1888, 'count': 67}\n",
      "{'Year': 1946, 'count': 154}\n",
      "{'Year': 864, 'count': 6}\n",
      "{'Year': 1957, 'count': 150}\n",
      "{'Year': 161, 'count': 5}\n",
      "{'Year': 1504, 'count': 22}\n",
      "{'Year': 1514, 'count': 11}\n",
      "{'Year': 872, 'count': 1}\n",
      "{'Year': 1361, 'count': 6}\n",
      "{'Year': 1590, 'count': 15}\n",
      "{'Year': -241, 'count': 6}\n",
      "{'Year': 706, 'count': 3}\n",
      "{'Year': 1967, 'count': 283}\n",
      "{'Year': 380, 'count': 15}\n",
      "{'Year': 1595, 'count': 10}\n",
      "{'Year': 1258, 'count': 9}\n",
      "{'Year': 1485, 'count': 8}\n",
      "{'Year': 1743, 'count': 9}\n",
      "{'Year': 1777, 'count': 24}\n",
      "{'Year': 976, 'count': 6}\n"
     ]
    }
   ],
   "source": [
    "# define agg query that counts events by year, renames _id field 'Year'\n",
    "agg_query_events_per_year = [\n",
    "    {\n",
    "        \"$group\": {\n",
    "            \"_id\": \"$date\",\n",
    "            \"count\": {\"$sum\": 1}\n",
    "        }\n",
    "    },\n",
    "    {\n",
    "        \"$project\": {\n",
    "            \"Year\":\"$_id\",\n",
    "            \"count\": 1,\n",
    "            \"_id\": 0\n",
    "        }\n",
    "    }\n",
    "]\n",
    "    \n",
    "# execute aggregate query\n",
    "result = historical_collection.aggregate(agg_query_events_per_year)\n",
    "\n",
    "# print 20 sample results and total number of documents returned\n",
    "# Note that the total number can be verified by counting distinct date entries, which also comes to 1321\n",
    "print_sample_and_total(result, 20)"
   ]
  }
 ],
 "metadata": {
  "kernelspec": {
   "display_name": "Python [conda env:bigdata]",
   "language": "python",
   "name": "conda-env-bigdata-py"
  },
  "language_info": {
   "codemirror_mode": {
    "name": "ipython",
    "version": 3
   },
   "file_extension": ".py",
   "mimetype": "text/x-python",
   "name": "python",
   "nbconvert_exporter": "python",
   "pygments_lexer": "ipython3",
   "version": "3.10.12"
  }
 },
 "nbformat": 4,
 "nbformat_minor": 5
}
