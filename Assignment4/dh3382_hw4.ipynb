{
 "cells": [
  {
   "cell_type": "code",
   "execution_count": 3,
   "id": "d4b638c3-35f2-48f2-aed0-78f00a3f5220",
   "metadata": {
    "tags": []
   },
   "outputs": [
    {
     "name": "stdout",
     "output_type": "stream",
     "text": [
      "Pinged your deployment. You successfully connected to MongoDB!\n"
     ]
    }
   ],
   "source": [
    "from pymongo.mongo_client import MongoClient\n",
    "from pymongo.server_api import ServerApi\n",
    "from pprint import pprint\n",
    "import json\n",
    "\n",
    "# read in URI string from file to avoid showing password in plain text\n",
    "with open(\"mongo-config.txt\", 'r') as config:\n",
    "        URI = config.read()\n",
    "\n",
    "# Create a new client and connect to the server\n",
    "client = MongoClient(URI, server_api=ServerApi('1'))\n",
    "\n",
    "# Send a ping to test connection\n",
    "try:\n",
    "    client.admin.command('ping')\n",
    "    print(\"Pinged your deployment. You successfully connected to MongoDB!\")\n",
    "except Exception as e:\n",
    "    print(e)\n",
    "    \n",
    "RESTAURANT_PATH = \"restaurants.json\""
   ]
  },
  {
   "cell_type": "code",
   "execution_count": 23,
   "id": "7494b480-342b-4a95-8eb3-9c22d989ef94",
   "metadata": {
    "tags": []
   },
   "outputs": [
    {
     "data": {
      "text/plain": [
       "DeleteResult({'n': 15088, 'electionId': ObjectId('7fffffff00000000000000e5'), 'opTime': {'ts': Timestamp(1701189224, 10270), 't': 229}, 'ok': 1.0, '$clusterTime': {'clusterTime': Timestamp(1701189224, 10270), 'signature': {'hash': b'k\\x08\\xecDfbdaJ\\xf7:\\x82G!\\xe91\\x92\\xac\\xa1,', 'keyId': 7261225766799540226}}, 'operationTime': Timestamp(1701189224, 10270)}, acknowledged=True)"
      ]
     },
     "execution_count": 23,
     "metadata": {},
     "output_type": "execute_result"
    }
   ],
   "source": [
    "# remove all items in collection\n",
    "\"\"\"\n",
    "db = client[\"dh3382\"]\n",
    "rest_collection = db[\"rest_data\"]\n",
    "rest_collection.delete_many({})\n",
    "\"\"\""
   ]
  },
  {
   "cell_type": "code",
   "execution_count": 4,
   "id": "60f7028f-07fa-4e5f-94d0-96e6376726ca",
   "metadata": {
    "tags": []
   },
   "outputs": [],
   "source": [
    "# convenience function to print out num_to_print sample records and number of docs in cursor\n",
    "def print_sample_and_total(cursor, num_to_print=5):\n",
    "    num_docs = 0\n",
    "    docs_to_print = []\n",
    "    for doc in cursor:\n",
    "        if(num_docs < num_to_print):\n",
    "            docs_to_print.append(doc)\n",
    "        num_docs = num_docs + 1\n",
    "\n",
    "    # print number of docs returned by find() query\n",
    "    print(\"\\nTotal number of documents returned: \" + str(num_docs) )\n",
    "    print(\"\\nSample docs:\\n\")\n",
    "\n",
    "    for doc in docs_to_print:\n",
    "        # easier to read JSON formatting\n",
    "        pprint(doc)"
   ]
  },
  {
   "cell_type": "markdown",
   "id": "233f0706-3115-4fae-9e1c-6d64398defe4",
   "metadata": {},
   "source": [
    "## 1. Load the restaurants data into a collection\n",
    "\n",
    "restaurants.json file is loaded into an array of JSON records and uploaded to remote MongoDB collection dh3382.rest_data. insert_many statement is commented out to avoid mistakenly uploading duplicate records"
   ]
  },
  {
   "cell_type": "code",
   "execution_count": 5,
   "id": "836fc80c-470d-46bb-8d69-ebb8de111c57",
   "metadata": {
    "tags": []
   },
   "outputs": [],
   "source": [
    "# read in restaurant data file, convert to list of JSON records to upload to DB\n",
    "rest_data = []\n",
    "with open(RESTAURANT_PATH, 'r') as file:\n",
    "    for line in file:\n",
    "        rest_data.append(json.loads(line) )\n",
    "        \n",
    "# find or create database \n",
    "db = client[\"dh3382\"]\n",
    "\n",
    "# find or create collection\n",
    "rest_collection = db[\"rest_data\"]\n",
    "\n",
    "# commented out to avoid reinserting data\n",
    "# rest_collection.insert_many(rest_data)"
   ]
  },
  {
   "cell_type": "markdown",
   "id": "c7490a04-8e74-4fca-9a46-f57364ac63a8",
   "metadata": {},
   "source": [
    "## 2. Count the number of documents in the collection\n",
    "\n",
    "I first print out the length of the array of JSON records to ensure it matches up with the records uploaded to dh3382.rest_data. I then call count_documents on the rest_data collection object with an empty query to return a full count"
   ]
  },
  {
   "cell_type": "code",
   "execution_count": 6,
   "id": "2235084e-e183-473b-96ae-0f5cd8ad1566",
   "metadata": {
    "tags": []
   },
   "outputs": [
    {
     "name": "stdout",
     "output_type": "stream",
     "text": [
      "Number of records in rest_data array: 3772\n",
      "Number of records in MongoDB dh3382.rest_data collection: 3772\n"
     ]
    }
   ],
   "source": [
    "# first check number of records in JSON array \n",
    "print(\"Number of records in rest_data array: \" + str(len(rest_data) ) )\n",
    "\n",
    "# count number of records uploaded to dh3382.rest_data and make sure it matches\n",
    "print(\"Number of records in MongoDB dh3382.rest_data collection: \" + str(rest_collection.count_documents({}) ) )"
   ]
  },
  {
   "cell_type": "markdown",
   "id": "fe04ef34-c16a-45d3-a605-7f77d1aee507",
   "metadata": {},
   "source": [
    "## 3. Find all the documents in the collection\n",
    "\n",
    "I use find() with an empty query to return a cursor pointing to the entire dh3382.rest_data collection. I then print out 5 documents to check that full documents were indeed returned, and count the number of documents returned to ensure that it matches up with the total count calculated in the previous cell"
   ]
  },
  {
   "cell_type": "code",
   "execution_count": 7,
   "id": "c0b9e9b9-2762-4102-9d88-2dc036598a8e",
   "metadata": {
    "tags": []
   },
   "outputs": [
    {
     "name": "stdout",
     "output_type": "stream",
     "text": [
      "\n",
      "Total number of documents returned: 3772\n",
      "\n",
      "Sample docs:\n",
      "\n",
      "{'_id': ObjectId('6566166d88b337b1d7dbd2b1'),\n",
      " 'address': {'building': '1007',\n",
      "             'coord': [-73.856077, 40.848447],\n",
      "             'street': 'Morris Park Ave',\n",
      "             'zipcode': '10462'},\n",
      " 'borough': 'Bronx',\n",
      " 'cuisine': 'Bakery',\n",
      " 'grades': [{'date': {'$date': 1393804800000}, 'grade': 'A', 'score': 2},\n",
      "            {'date': {'$date': 1378857600000}, 'grade': 'A', 'score': 6},\n",
      "            {'date': {'$date': 1358985600000}, 'grade': 'A', 'score': 10},\n",
      "            {'date': {'$date': 1322006400000}, 'grade': 'A', 'score': 9},\n",
      "            {'date': {'$date': 1299715200000}, 'grade': 'B', 'score': 14}],\n",
      " 'name': 'Morris Park Bake Shop',\n",
      " 'restaurant_id': '30075445'}\n",
      "{'_id': ObjectId('6566166d88b337b1d7dbd2b2'),\n",
      " 'address': {'building': '469',\n",
      "             'coord': [-73.961704, 40.662942],\n",
      "             'street': 'Flatbush Avenue',\n",
      "             'zipcode': '11225'},\n",
      " 'borough': 'Brooklyn',\n",
      " 'cuisine': 'Hamburgers',\n",
      " 'grades': [{'date': {'$date': 1419897600000}, 'grade': 'A', 'score': 8},\n",
      "            {'date': {'$date': 1404172800000}, 'grade': 'B', 'score': 23},\n",
      "            {'date': {'$date': 1367280000000}, 'grade': 'A', 'score': 12},\n",
      "            {'date': {'$date': 1336435200000}, 'grade': 'A', 'score': 12}],\n",
      " 'name': \"Wendy'S\",\n",
      " 'restaurant_id': '30112340'}\n",
      "{'_id': ObjectId('6566166d88b337b1d7dbd2b3'),\n",
      " 'address': {'building': '351',\n",
      "             'coord': [-73.98513559999999, 40.7676919],\n",
      "             'street': 'West   57 Street',\n",
      "             'zipcode': '10019'},\n",
      " 'borough': 'Manhattan',\n",
      " 'cuisine': 'Irish',\n",
      " 'grades': [{'date': {'$date': 1409961600000}, 'grade': 'A', 'score': 2},\n",
      "            {'date': {'$date': 1374451200000}, 'grade': 'A', 'score': 11},\n",
      "            {'date': {'$date': 1343692800000}, 'grade': 'A', 'score': 12},\n",
      "            {'date': {'$date': 1325116800000}, 'grade': 'A', 'score': 12}],\n",
      " 'name': 'Dj Reynolds Pub And Restaurant',\n",
      " 'restaurant_id': '30191841'}\n",
      "{'_id': ObjectId('6566166d88b337b1d7dbd2b4'),\n",
      " 'address': {'building': '2780',\n",
      "             'coord': [-73.98241999999999, 40.579505],\n",
      "             'street': 'Stillwell Avenue',\n",
      "             'zipcode': '11224'},\n",
      " 'borough': 'Brooklyn',\n",
      " 'cuisine': 'American ',\n",
      " 'grades': [{'date': {'$date': 1402358400000}, 'grade': 'A', 'score': 5},\n",
      "            {'date': {'$date': 1370390400000}, 'grade': 'A', 'score': 7},\n",
      "            {'date': {'$date': 1334275200000}, 'grade': 'A', 'score': 12},\n",
      "            {'date': {'$date': 1318377600000}, 'grade': 'A', 'score': 12}],\n",
      " 'name': 'Riviera Caterer',\n",
      " 'restaurant_id': '40356018'}\n",
      "{'_id': ObjectId('6566166d88b337b1d7dbd2b5'),\n",
      " 'address': {'building': '97-22',\n",
      "             'coord': [-73.8601152, 40.7311739],\n",
      "             'street': '63 Road',\n",
      "             'zipcode': '11374'},\n",
      " 'borough': 'Queens',\n",
      " 'cuisine': 'Jewish/Kosher',\n",
      " 'grades': [{'date': {'$date': 1416787200000}, 'grade': 'Z', 'score': 20},\n",
      "            {'date': {'$date': 1358380800000}, 'grade': 'A', 'score': 13},\n",
      "            {'date': {'$date': 1343865600000}, 'grade': 'A', 'score': 13},\n",
      "            {'date': {'$date': 1323907200000}, 'grade': 'B', 'score': 25}],\n",
      " 'name': 'Tov Kosher Kitchen',\n",
      " 'restaurant_id': '40356068'}\n"
     ]
    }
   ],
   "source": [
    "# returns a cursor to all documents in dh3382.rest_data collection\n",
    "all_docs_cursor = rest_collection.find({})\n",
    "\n",
    "# convenience function defined above, prints 5 documents by default and total number returned by query\n",
    "print_sample_and_total(all_docs_cursor)"
   ]
  },
  {
   "cell_type": "markdown",
   "id": "e0aada59-407c-424f-b495-01233297e6be",
   "metadata": {},
   "source": [
    "## 4. Display: restaurant_id, name, borough and cuisine, but exclude field _id, for all the documents in the collection\n",
    "\n",
    "I query with a dict defined as key: field, val: boolean as the second parameter in order to exclude the \\_id field and include only the restaurant_id, name, borough, and cuisine fields. I again print out 5 sample documents as well as the total number of documents returned to confirm the correct formatting and size of the query return val"
   ]
  },
  {
   "cell_type": "code",
   "execution_count": 8,
   "id": "947ce872-1e3d-4c05-9864-a488cc57487a",
   "metadata": {
    "tags": []
   },
   "outputs": [
    {
     "name": "stdout",
     "output_type": "stream",
     "text": [
      "\n",
      "Total number of documents returned: 3772\n",
      "\n",
      "Sample docs:\n",
      "\n",
      "{'borough': 'Bronx',\n",
      " 'cuisine': 'Bakery',\n",
      " 'name': 'Morris Park Bake Shop',\n",
      " 'restaurant_id': '30075445'}\n",
      "{'borough': 'Brooklyn',\n",
      " 'cuisine': 'Hamburgers',\n",
      " 'name': \"Wendy'S\",\n",
      " 'restaurant_id': '30112340'}\n",
      "{'borough': 'Manhattan',\n",
      " 'cuisine': 'Irish',\n",
      " 'name': 'Dj Reynolds Pub And Restaurant',\n",
      " 'restaurant_id': '30191841'}\n",
      "{'borough': 'Brooklyn',\n",
      " 'cuisine': 'American ',\n",
      " 'name': 'Riviera Caterer',\n",
      " 'restaurant_id': '40356018'}\n",
      "{'borough': 'Queens',\n",
      " 'cuisine': 'Jewish/Kosher',\n",
      " 'name': 'Tov Kosher Kitchen',\n",
      " 'restaurant_id': '40356068'}\n"
     ]
    }
   ],
   "source": [
    "# define fields that will be returned by query\n",
    "fields = {\"_id\": 0, \"restaurant_id\": 1, \"name\": 1, \"borough\": 1, \"cuisine\": 1}\n",
    "\n",
    "# query dh3382.rest_data\n",
    "all_docs_4_fields = rest_collection.find({}, fields)\n",
    "\n",
    "# convenience function defined above, prints 5 documents by default and total number returned by query\n",
    "print_sample_and_total(all_docs_4_fields)"
   ]
  },
  {
   "cell_type": "markdown",
   "id": "4f267058-0ba2-4210-a0b6-7ae92a7f6610",
   "metadata": {},
   "source": [
    "## 5. Display all the restaurants in the Bronx\n",
    "\n",
    "I define a dict using the mongoDB $eq operator, then execute the query to return all documents where the borough field is equal to \"Bronx\" and print out a sample as well as the total number of documents returned"
   ]
  },
  {
   "cell_type": "code",
   "execution_count": 9,
   "id": "db81cdd8-89d3-4816-bf92-c5e0e37ace43",
   "metadata": {
    "tags": []
   },
   "outputs": [
    {
     "name": "stdout",
     "output_type": "stream",
     "text": [
      "\n",
      "Total number of documents returned: 309\n",
      "\n",
      "Sample docs:\n",
      "\n",
      "{'_id': ObjectId('6566166d88b337b1d7dbd2b1'),\n",
      " 'address': {'building': '1007',\n",
      "             'coord': [-73.856077, 40.848447],\n",
      "             'street': 'Morris Park Ave',\n",
      "             'zipcode': '10462'},\n",
      " 'borough': 'Bronx',\n",
      " 'cuisine': 'Bakery',\n",
      " 'grades': [{'date': {'$date': 1393804800000}, 'grade': 'A', 'score': 2},\n",
      "            {'date': {'$date': 1378857600000}, 'grade': 'A', 'score': 6},\n",
      "            {'date': {'$date': 1358985600000}, 'grade': 'A', 'score': 10},\n",
      "            {'date': {'$date': 1322006400000}, 'grade': 'A', 'score': 9},\n",
      "            {'date': {'$date': 1299715200000}, 'grade': 'B', 'score': 14}],\n",
      " 'name': 'Morris Park Bake Shop',\n",
      " 'restaurant_id': '30075445'}\n",
      "{'_id': ObjectId('6566166d88b337b1d7dbd2bb'),\n",
      " 'address': {'building': '2300',\n",
      "             'coord': [-73.8786113, 40.8502883],\n",
      "             'street': 'Southern Boulevard',\n",
      "             'zipcode': '10460'},\n",
      " 'borough': 'Bronx',\n",
      " 'cuisine': 'American ',\n",
      " 'grades': [{'date': {'$date': 1401235200000}, 'grade': 'A', 'score': 11},\n",
      "            {'date': {'$date': 1371600000000}, 'grade': 'A', 'score': 4},\n",
      "            {'date': {'$date': 1339718400000}, 'grade': 'A', 'score': 3}],\n",
      " 'name': 'Wild Asia',\n",
      " 'restaurant_id': '40357217'}\n",
      "{'_id': ObjectId('6566166d88b337b1d7dbd2d0'),\n",
      " 'address': {'building': '1006',\n",
      "             'coord': [-73.84856870000002, 40.8903781],\n",
      "             'street': 'East 233 Street',\n",
      "             'zipcode': '10466'},\n",
      " 'borough': 'Bronx',\n",
      " 'cuisine': 'Ice Cream, Gelato, Yogurt, Ices',\n",
      " 'grades': [{'date': {'$date': 1398297600000}, 'grade': 'A', 'score': 10},\n",
      "            {'date': {'$date': 1378339200000}, 'grade': 'A', 'score': 10},\n",
      "            {'date': {'$date': 1361404800000}, 'grade': 'A', 'score': 9},\n",
      "            {'date': {'$date': 1341273600000}, 'grade': 'A', 'score': 11},\n",
      "            {'date': {'$date': 1310342400000}, 'grade': 'A', 'score': 5}],\n",
      " 'name': 'Carvel Ice Cream',\n",
      " 'restaurant_id': '40363093'}\n",
      "{'_id': ObjectId('6566166d88b337b1d7dbd2d4'),\n",
      " 'address': {'building': '1236',\n",
      "             'coord': [-73.8893654, 40.81376179999999],\n",
      "             'street': '238 Spofford Ave',\n",
      "             'zipcode': '10474'},\n",
      " 'borough': 'Bronx',\n",
      " 'cuisine': 'Chinese',\n",
      " 'grades': [{'date': {'$date': 1388361600000}, 'grade': 'A', 'score': 8},\n",
      "            {'date': {'$date': 1357603200000}, 'grade': 'A', 'score': 10},\n",
      "            {'date': {'$date': 1339459200000}, 'grade': 'B', 'score': 15}],\n",
      " 'name': 'Happy Garden',\n",
      " 'restaurant_id': '40363289'}\n",
      "{'_id': ObjectId('6566166d88b337b1d7dbd2e6'),\n",
      " 'address': {'building': '277',\n",
      "             'coord': [-73.8941893, 40.8634684],\n",
      "             'street': 'East Kingsbridge Road',\n",
      "             'zipcode': '10458'},\n",
      " 'borough': 'Bronx',\n",
      " 'cuisine': 'Chinese',\n",
      " 'grades': [{'date': {'$date': 1393804800000}, 'grade': 'A', 'score': 10},\n",
      "            {'date': {'$date': 1380153600000}, 'grade': 'A', 'score': 10},\n",
      "            {'date': {'$date': 1363651200000}, 'grade': 'A', 'score': 10},\n",
      "            {'date': {'$date': 1346198400000}, 'grade': 'A', 'score': 11},\n",
      "            {'date': {'$date': 1313539200000}, 'grade': 'A', 'score': 13}],\n",
      " 'name': 'Happy Garden',\n",
      " 'restaurant_id': '40364296'}\n"
     ]
    }
   ],
   "source": [
    "# define filter with equals function\n",
    "bronx = {\"borough\": {\"$eq\": \"Bronx\"} }\n",
    "\n",
    "# execute query with filter\n",
    "all_docs_bronx = rest_collection.find(bronx)\n",
    "\n",
    "# convenience function defined above, prints 5 documents by default and total number returned by query\n",
    "print_sample_and_total(all_docs_bronx)"
   ]
  },
  {
   "cell_type": "markdown",
   "id": "509e720c-90ad-4cba-95f4-b993ca8cd6b3",
   "metadata": {},
   "source": [
    "## 7. Display the first 5 restaurants in the Bronx\n",
    "I query the first 10 restaurants in the Bronx using the previous query paired with the limit function. I save the result of the query to a list in memory and print out the first 5 results, displaying only the name of the restaurants for readability"
   ]
  },
  {
   "cell_type": "code",
   "execution_count": 12,
   "id": "1aab1100-38d1-49b1-b85d-7654e7b5fa0b",
   "metadata": {
    "tags": []
   },
   "outputs": [
    {
     "name": "stdout",
     "output_type": "stream",
     "text": [
      "Morris Park Bake Shop\n",
      "Wild Asia\n",
      "Carvel Ice Cream\n",
      "Happy Garden\n",
      "Happy Garden\n"
     ]
    }
   ],
   "source": [
    "# rerun query with limit function added\n",
    "ten_docs_bronx = rest_collection.find(bronx).limit(10)\n",
    "\n",
    "# append each document from query in order to a list\n",
    "ten_docs_bronx_list = []\n",
    "for doc in ten_docs_bronx:\n",
    "    ten_docs_bronx_list.append(doc)\n",
    "\n",
    "# print out the restaurant name from the first 5 entries in the list\n",
    "for doc in ten_docs_bronx_list[:5]:\n",
    "    print(doc[\"name\"])"
   ]
  },
  {
   "cell_type": "markdown",
   "id": "f5017e19-a691-41f1-820f-cbbe626e2a8d",
   "metadata": {},
   "source": [
    "## 8. Display the second 5 restaurants (skipping the first 5) in the Bronx\n",
    "I simply print out the remaining documents in the list from the previous question"
   ]
  },
  {
   "cell_type": "code",
   "execution_count": 13,
   "id": "52db1982-9f5d-4876-8dd2-4e458afaf82a",
   "metadata": {
    "tags": []
   },
   "outputs": [
    {
     "name": "stdout",
     "output_type": "stream",
     "text": [
      "Manhem Club\n",
      "The New Starling Athletic Club Of The Bronx\n",
      "Yankee Tavern\n",
      "Mcdwyers Pub\n",
      "The Punch Bowl\n"
     ]
    }
   ],
   "source": [
    "# print out the last 5 items in the list from previous question\n",
    "for doc in ten_docs_bronx_list[5:]:\n",
    "    print(doc[\"name\"])"
   ]
  },
  {
   "cell_type": "markdown",
   "id": "020417fb-ba2e-4678-9c9d-4348806771ad",
   "metadata": {
    "tags": []
   },
   "source": [
    "## 9. Find the restaurants with a score more than 85\n",
    "Interpreted as find the restaurants with at least one score strictly greater than 85, use dot notation to evaluate all scores of each restaurant and the $gt operator to return restaurants with at least one score greater than 85. Use my convenience function to print out the results, in this case all of them because there were only four restaurants in total"
   ]
  },
  {
   "cell_type": "code",
   "execution_count": 30,
   "id": "0e9de6b7-c780-4b98-8889-5552e0c0a496",
   "metadata": {
    "tags": []
   },
   "outputs": [
    {
     "name": "stdout",
     "output_type": "stream",
     "text": [
      "\n",
      "Total number of documents returned: 4\n",
      "\n",
      "Sample docs:\n",
      "\n",
      "{'_id': ObjectId('6566166d88b337b1d7dbd40f'),\n",
      " 'address': {'building': '65',\n",
      "             'coord': [-73.9782725, 40.7624022],\n",
      "             'street': 'West   54 Street',\n",
      "             'zipcode': '10019'},\n",
      " 'borough': 'Manhattan',\n",
      " 'cuisine': 'American ',\n",
      " 'grades': [{'date': {'$date': 1408665600000}, 'grade': 'A', 'score': 11},\n",
      "            {'date': {'$date': 1395964800000}, 'grade': 'C', 'score': 131},\n",
      "            {'date': {'$date': 1380067200000}, 'grade': 'A', 'score': 11},\n",
      "            {'date': {'$date': 1365379200000}, 'grade': 'B', 'score': 25},\n",
      "            {'date': {'$date': 1350259200000}, 'grade': 'A', 'score': 11},\n",
      "            {'date': {'$date': 1318982400000}, 'grade': 'A', 'score': 13}],\n",
      " 'name': \"Murals On 54/Randolphs'S\",\n",
      " 'restaurant_id': '40372466'}\n",
      "{'_id': ObjectId('6566166d88b337b1d7dbd4b0'),\n",
      " 'address': {'building': '345',\n",
      "             'coord': [-73.9864626, 40.7266739],\n",
      "             'street': 'East 6 Street',\n",
      "             'zipcode': '10003'},\n",
      " 'borough': 'Manhattan',\n",
      " 'cuisine': 'Indian',\n",
      " 'grades': [{'date': {'$date': 1410739200000}, 'grade': 'A', 'score': 5},\n",
      "            {'date': {'$date': 1389657600000}, 'grade': 'A', 'score': 8},\n",
      "            {'date': {'$date': 1369872000000}, 'grade': 'A', 'score': 12},\n",
      "            {'date': {'$date': 1366761600000}, 'grade': 'P', 'score': 2},\n",
      "            {'date': {'$date': 1349049600000}, 'grade': 'A', 'score': 9},\n",
      "            {'date': {'$date': 1333670400000}, 'grade': 'C', 'score': 92},\n",
      "            {'date': {'$date': 1320278400000}, 'grade': 'C', 'score': 41}],\n",
      " 'name': 'Gandhi',\n",
      " 'restaurant_id': '40381295'}\n",
      "{'_id': ObjectId('6566166d88b337b1d7dbd613'),\n",
      " 'address': {'building': '130',\n",
      "             'coord': [-73.984758, 40.7457939],\n",
      "             'street': 'Madison Avenue',\n",
      "             'zipcode': '10016'},\n",
      " 'borough': 'Manhattan',\n",
      " 'cuisine': 'Pizza/Italian',\n",
      " 'grades': [{'date': {'$date': 1419379200000}, 'grade': 'Z', 'score': 31},\n",
      "            {'date': {'$date': 1402963200000}, 'grade': 'C', 'score': 98},\n",
      "            {'date': {'$date': 1386806400000}, 'grade': 'C', 'score': 32},\n",
      "            {'date': {'$date': 1369180800000}, 'grade': 'B', 'score': 21},\n",
      "            {'date': {'$date': 1335916800000}, 'grade': 'A', 'score': 11}],\n",
      " 'name': 'Bella Napoli',\n",
      " 'restaurant_id': '40393488'}\n",
      "{'_id': ObjectId('6566166d88b337b1d7dbde7f'),\n",
      " 'address': {'building': '',\n",
      "             'coord': [-74.0163793, 40.7167671],\n",
      "             'street': 'Hudson River',\n",
      "             'zipcode': '10282'},\n",
      " 'borough': 'Manhattan',\n",
      " 'cuisine': 'American ',\n",
      " 'grades': [{'date': {'$date': 1403827200000}, 'grade': 'C', 'score': 89},\n",
      "            {'date': {'$date': 1370476800000}, 'grade': 'A', 'score': 6},\n",
      "            {'date': {'$date': 1340064000000}, 'grade': 'A', 'score': 13}],\n",
      " 'name': 'West 79Th Street Boat Basin Cafe',\n",
      " 'restaurant_id': '40756344'}\n"
     ]
    }
   ],
   "source": [
    "# query all restaurants with at least one score greater than 85\n",
    "rest_over_85 = rest_collection.find({\"grades.score\": {\"$gt\": 85}})\n",
    "\n",
    "# print results\n",
    "print_sample_and_total(rest_over_85)"
   ]
  },
  {
   "cell_type": "markdown",
   "id": "c6fdf279-7914-4635-a764-81ec247c4f79",
   "metadata": {},
   "source": [
    "## 10. Find the restaurants that achieved a score, more than 80 but less than 100."
   ]
  },
  {
   "cell_type": "code",
   "execution_count": 41,
   "id": "ce269bde-6dc3-4049-a895-9a9d98fb9705",
   "metadata": {
    "tags": []
   },
   "outputs": [
    {
     "name": "stdout",
     "output_type": "stream",
     "text": [
      "\n",
      "Total number of documents returned: 4\n",
      "\n",
      "Sample docs:\n",
      "\n",
      "{'_id': ObjectId('6566166d88b337b1d7dbd40f'),\n",
      " 'address': {'building': '65',\n",
      "             'coord': [-73.9782725, 40.7624022],\n",
      "             'street': 'West   54 Street',\n",
      "             'zipcode': '10019'},\n",
      " 'borough': 'Manhattan',\n",
      " 'cuisine': 'American ',\n",
      " 'grades': [{'date': {'$date': 1408665600000}, 'grade': 'A', 'score': 11},\n",
      "            {'date': {'$date': 1395964800000}, 'grade': 'C', 'score': 131},\n",
      "            {'date': {'$date': 1380067200000}, 'grade': 'A', 'score': 11},\n",
      "            {'date': {'$date': 1365379200000}, 'grade': 'B', 'score': 25},\n",
      "            {'date': {'$date': 1350259200000}, 'grade': 'A', 'score': 11},\n",
      "            {'date': {'$date': 1318982400000}, 'grade': 'A', 'score': 13}],\n",
      " 'name': \"Murals On 54/Randolphs'S\",\n",
      " 'restaurant_id': '40372466'}\n",
      "{'_id': ObjectId('6566166d88b337b1d7dbd4b0'),\n",
      " 'address': {'building': '345',\n",
      "             'coord': [-73.9864626, 40.7266739],\n",
      "             'street': 'East 6 Street',\n",
      "             'zipcode': '10003'},\n",
      " 'borough': 'Manhattan',\n",
      " 'cuisine': 'Indian',\n",
      " 'grades': [{'date': {'$date': 1410739200000}, 'grade': 'A', 'score': 5},\n",
      "            {'date': {'$date': 1389657600000}, 'grade': 'A', 'score': 8},\n",
      "            {'date': {'$date': 1369872000000}, 'grade': 'A', 'score': 12},\n",
      "            {'date': {'$date': 1366761600000}, 'grade': 'P', 'score': 2},\n",
      "            {'date': {'$date': 1349049600000}, 'grade': 'A', 'score': 9},\n",
      "            {'date': {'$date': 1333670400000}, 'grade': 'C', 'score': 92},\n",
      "            {'date': {'$date': 1320278400000}, 'grade': 'C', 'score': 41}],\n",
      " 'name': 'Gandhi',\n",
      " 'restaurant_id': '40381295'}\n",
      "{'_id': ObjectId('6566166d88b337b1d7dbd613'),\n",
      " 'address': {'building': '130',\n",
      "             'coord': [-73.984758, 40.7457939],\n",
      "             'street': 'Madison Avenue',\n",
      "             'zipcode': '10016'},\n",
      " 'borough': 'Manhattan',\n",
      " 'cuisine': 'Pizza/Italian',\n",
      " 'grades': [{'date': {'$date': 1419379200000}, 'grade': 'Z', 'score': 31},\n",
      "            {'date': {'$date': 1402963200000}, 'grade': 'C', 'score': 98},\n",
      "            {'date': {'$date': 1386806400000}, 'grade': 'C', 'score': 32},\n",
      "            {'date': {'$date': 1369180800000}, 'grade': 'B', 'score': 21},\n",
      "            {'date': {'$date': 1335916800000}, 'grade': 'A', 'score': 11}],\n",
      " 'name': 'Bella Napoli',\n",
      " 'restaurant_id': '40393488'}\n",
      "{'_id': ObjectId('6566166d88b337b1d7dbde7f'),\n",
      " 'address': {'building': '',\n",
      "             'coord': [-74.0163793, 40.7167671],\n",
      "             'street': 'Hudson River',\n",
      "             'zipcode': '10282'},\n",
      " 'borough': 'Manhattan',\n",
      " 'cuisine': 'American ',\n",
      " 'grades': [{'date': {'$date': 1403827200000}, 'grade': 'C', 'score': 89},\n",
      "            {'date': {'$date': 1370476800000}, 'grade': 'A', 'score': 6},\n",
      "            {'date': {'$date': 1340064000000}, 'grade': 'A', 'score': 13}],\n",
      " 'name': 'West 79Th Street Boat Basin Cafe',\n",
      " 'restaurant_id': '40756344'}\n"
     ]
    }
   ],
   "source": [
    "# define query\n",
    "query_80_100 = { \"grades.score\": {\"$gt\": 80, \"$lt\": 100} }\n",
    "\n",
    "# execute query\n",
    "rest_80_to_100 = rest_collection.find(query_80_100)\n",
    "\n",
    "# print results\n",
    "print_sample_and_total(rest_80_to_100)"
   ]
  },
  {
   "cell_type": "markdown",
   "id": "2141af2c-3530-4342-8aed-0e9bb6f51d89",
   "metadata": {},
   "source": [
    "## 11. Find the restaurants which locate in latitude value less than -95.754168\n",
    "\n",
    "Assuming coordinates are recorded as [\\<latitude\\>, \\<longitude\\>], I define a query to find all lat values less than -95.754168. I then execute the query and print the results with my convenience function"
   ]
  },
  {
   "cell_type": "code",
   "execution_count": 52,
   "id": "8d643b44-ed77-4cd0-93cb-66a8b63bb6d5",
   "metadata": {
    "tags": []
   },
   "outputs": [
    {
     "name": "stdout",
     "output_type": "stream",
     "text": [
      "\n",
      "Total number of documents returned: 3\n",
      "\n",
      "Sample docs:\n",
      "\n",
      "{'_id': ObjectId('6566166d88b337b1d7dbd8f9'),\n",
      " 'address': {'building': '3707',\n",
      "             'coord': [-101.8945214, 33.5197474],\n",
      "             'street': '82 Street',\n",
      "             'zipcode': '11372'},\n",
      " 'borough': 'Queens',\n",
      " 'cuisine': 'American ',\n",
      " 'grades': [{'date': {'$date': 1401840000000}, 'grade': 'A', 'score': 12},\n",
      "            {'date': {'$date': 1383782400000}, 'grade': 'B', 'score': 19},\n",
      "            {'date': {'$date': 1368748800000}, 'grade': 'A', 'score': 11},\n",
      "            {'date': {'$date': 1346198400000}, 'grade': 'A', 'score': 11},\n",
      "            {'date': {'$date': 1333411200000}, 'grade': 'A', 'score': 12},\n",
      "            {'date': {'$date': 1321401600000}, 'grade': 'A', 'score': 7}],\n",
      " 'name': 'Burger King',\n",
      " 'restaurant_id': '40534067'}\n",
      "{'_id': ObjectId('6566166d88b337b1d7dbdc64'),\n",
      " 'address': {'building': '15259',\n",
      "             'coord': [-119.6368672, 36.2504996],\n",
      "             'street': '10 Avenue',\n",
      "             'zipcode': '11357'},\n",
      " 'borough': 'Queens',\n",
      " 'cuisine': 'Italian',\n",
      " 'grades': [{'date': {'$date': 1409788800000}, 'grade': 'A', 'score': 11},\n",
      "            {'date': {'$date': 1395792000000}, 'grade': 'A', 'score': 8},\n",
      "            {'date': {'$date': 1362355200000}, 'grade': 'A', 'score': 10},\n",
      "            {'date': {'$date': 1348704000000}, 'grade': 'A', 'score': 10},\n",
      "            {'date': {'$date': 1334880000000}, 'grade': 'A', 'score': 7},\n",
      "            {'date': {'$date': 1322006400000}, 'grade': 'C', 'score': 34}],\n",
      " 'name': \"Cascarino'S\",\n",
      " 'restaurant_id': '40668681'}\n",
      "{'_id': ObjectId('6566166d88b337b1d7dbe10a'),\n",
      " 'address': {'building': '60',\n",
      "             'coord': [-111.9975205, 42.0970258],\n",
      "             'street': 'West Side Highway',\n",
      "             'zipcode': '10006'},\n",
      " 'borough': 'Manhattan',\n",
      " 'cuisine': 'Japanese',\n",
      " 'grades': [{'date': {'$date': 1395273600000}, 'grade': 'A', 'score': 9},\n",
      "            {'date': {'$date': 1372377600000}, 'grade': 'A', 'score': 11},\n",
      "            {'date': {'$date': 1341446400000}, 'grade': 'A', 'score': 13},\n",
      "            {'date': {'$date': 1311724800000}, 'grade': 'A', 'score': 2}],\n",
      " 'name': 'Sports Center At Chelsea Piers (Sushi Bar)',\n",
      " 'restaurant_id': '40882356'}\n"
     ]
    }
   ],
   "source": [
    "# define query\n",
    "query_lat = {\"address.coord.0\" : {\"$lt\": -95.754168} }\n",
    "\n",
    "# execute query\n",
    "rest_lat_95 = rest_collection.find(query_lat)\n",
    "\n",
    "# print results\n",
    "print_sample_and_total(rest_lat_95)"
   ]
  },
  {
   "cell_type": "markdown",
   "id": "e8ab782d-0bb9-4b93-b4d3-188836cb09f0",
   "metadata": {
    "tags": []
   },
   "source": [
    "## 12. Find the restaurants that do not prepare any cuisine of 'American' and their grade score more than 70 and latitude less than -65.754168.\n",
    "\n",
    "Chained queries to meet all criteria. Noticed some restaurants had \"American \" cuisine with an extra whitespace at end, so manually removed to avoid mistakenly filtering out cuisine such as 'South & Central American'. Then executed query and printed results "
   ]
  },
  {
   "cell_type": "code",
   "execution_count": 71,
   "id": "498a08f2-d132-4a62-aeec-bf6e39c7980a",
   "metadata": {
    "tags": []
   },
   "outputs": [
    {
     "name": "stdout",
     "output_type": "stream",
     "text": [
      "\n",
      "Total number of documents returned: 5\n",
      "\n",
      "Sample docs:\n",
      "\n",
      "{'_id': ObjectId('6566166d88b337b1d7dbd4b0'),\n",
      " 'address': {'building': '345',\n",
      "             'coord': [-73.9864626, 40.7266739],\n",
      "             'street': 'East 6 Street',\n",
      "             'zipcode': '10003'},\n",
      " 'borough': 'Manhattan',\n",
      " 'cuisine': 'Indian',\n",
      " 'grades': [{'date': {'$date': 1410739200000}, 'grade': 'A', 'score': 5},\n",
      "            {'date': {'$date': 1389657600000}, 'grade': 'A', 'score': 8},\n",
      "            {'date': {'$date': 1369872000000}, 'grade': 'A', 'score': 12},\n",
      "            {'date': {'$date': 1366761600000}, 'grade': 'P', 'score': 2},\n",
      "            {'date': {'$date': 1349049600000}, 'grade': 'A', 'score': 9},\n",
      "            {'date': {'$date': 1333670400000}, 'grade': 'C', 'score': 92},\n",
      "            {'date': {'$date': 1320278400000}, 'grade': 'C', 'score': 41}],\n",
      " 'name': 'Gandhi',\n",
      " 'restaurant_id': '40381295'}\n",
      "{'_id': ObjectId('6566166d88b337b1d7dbd613'),\n",
      " 'address': {'building': '130',\n",
      "             'coord': [-73.984758, 40.7457939],\n",
      "             'street': 'Madison Avenue',\n",
      "             'zipcode': '10016'},\n",
      " 'borough': 'Manhattan',\n",
      " 'cuisine': 'Pizza/Italian',\n",
      " 'grades': [{'date': {'$date': 1419379200000}, 'grade': 'Z', 'score': 31},\n",
      "            {'date': {'$date': 1402963200000}, 'grade': 'C', 'score': 98},\n",
      "            {'date': {'$date': 1386806400000}, 'grade': 'C', 'score': 32},\n",
      "            {'date': {'$date': 1369180800000}, 'grade': 'B', 'score': 21},\n",
      "            {'date': {'$date': 1335916800000}, 'grade': 'A', 'score': 11}],\n",
      " 'name': 'Bella Napoli',\n",
      " 'restaurant_id': '40393488'}\n",
      "{'_id': ObjectId('6566166d88b337b1d7dbd61e'),\n",
      " 'address': {'building': '101',\n",
      "             'coord': [-73.9243061, 40.8276297],\n",
      "             'street': 'East 161 Street',\n",
      "             'zipcode': '10451'},\n",
      " 'borough': 'Bronx',\n",
      " 'cuisine': 'Latin (Cuban, Dominican, Puerto Rican, South & Central American)',\n",
      " 'grades': [{'date': {'$date': 1397088000000}, 'grade': 'A', 'score': 10},\n",
      "            {'date': {'$date': 1380585600000}, 'grade': 'A', 'score': 6},\n",
      "            {'date': {'$date': 1365638400000}, 'grade': 'B', 'score': 25},\n",
      "            {'date': {'$date': 1351123200000}, 'grade': 'A', 'score': 12},\n",
      "            {'date': {'$date': 1349827200000}, 'grade': 'P', 'score': 12},\n",
      "            {'date': {'$date': 1337904000000}, 'grade': 'B', 'score': 14},\n",
      "            {'date': {'$date': 1315958400000}, 'grade': 'B', 'score': 26},\n",
      "            {'date': {'$date': 1303689600000}, 'grade': 'C', 'score': 76}],\n",
      " 'name': 'El Molino Rojo Restaurant',\n",
      " 'restaurant_id': '40393688'}\n",
      "{'_id': ObjectId('6566166d88b337b1d7dbd76e'),\n",
      " 'address': {'building': '289',\n",
      "             'coord': [-73.94610279999999, 40.7137587],\n",
      "             'street': 'Manhattan Avenue',\n",
      "             'zipcode': '11211'},\n",
      " 'borough': 'Brooklyn',\n",
      " 'cuisine': 'Bakery',\n",
      " 'grades': [{'date': {'$date': 1395187200000}, 'grade': 'A', 'score': 10},\n",
      "            {'date': {'$date': 1381363200000}, 'grade': 'A', 'score': 10},\n",
      "            {'date': {'$date': 1367884800000}, 'grade': 'A', 'score': 13},\n",
      "            {'date': {'$date': 1347321600000}, 'grade': 'B', 'score': 18},\n",
      "            {'date': {'$date': 1334707200000}, 'grade': 'A', 'score': 9},\n",
      "            {'date': {'$date': 1317081600000}, 'grade': 'A', 'score': 8},\n",
      "            {'date': {'$date': 1304380800000}, 'grade': 'C', 'score': 77}],\n",
      " 'name': 'Fortunato Bros Cafe & Bakery',\n",
      " 'restaurant_id': '40400561'}\n",
      "{'_id': ObjectId('6566166d88b337b1d7dbdd98'),\n",
      " 'address': {'building': '231',\n",
      "             'coord': [-73.9772294, 40.7527262],\n",
      "             'street': 'Grand Central Station',\n",
      "             'zipcode': '10017'},\n",
      " 'borough': 'Manhattan',\n",
      " 'cuisine': 'Italian',\n",
      " 'grades': [{'date': {'$date': 1420588800000}, 'grade': 'Z', 'score': 20},\n",
      "            {'date': {'$date': 1404345600000}, 'grade': 'B', 'score': 14},\n",
      "            {'date': {'$date': 1387584000000}, 'grade': 'A', 'score': 13},\n",
      "            {'date': {'$date': 1368748800000}, 'grade': 'C', 'score': 76},\n",
      "            {'date': {'$date': 1334880000000}, 'grade': 'A', 'score': 12}],\n",
      " 'name': 'Two Boots Grand Central',\n",
      " 'restaurant_id': '40725591'}\n"
     ]
    }
   ],
   "source": [
    "# define query\n",
    "query_cuisine_score_lat = {\n",
    "    \"$and\": [\n",
    "        {\"cuisine\": {\"$ne\": \"American\", \"$ne\": \"American \"}},\n",
    "        {\"grades.score\": {\"$gt\": 70}},\n",
    "        {\"address.coord.0\": {\"$lt\": 60}}\n",
    "    ]\n",
    "}\n",
    "\n",
    "# execute query\n",
    "rest_cuisine_score_lat = rest_collection.find(query_cuisine_score_lat)\n",
    "\n",
    "# print results\n",
    "print_sample_and_total(rest_cuisine_score_lat)"
   ]
  },
  {
   "cell_type": "markdown",
   "id": "2b0ad7e2-4c5a-4465-8a05-d38ed642d073",
   "metadata": {},
   "source": [
    "## 13. Find the restaurants which do not prepare any cuisine of 'American' and achieved a score more than 70 and located in the longitude less than -65.754168. (without using $and operator)\n",
    "\n",
    "Largely the same as 12, just change the syntax to remove the $and operator and extra brackets"
   ]
  },
  {
   "cell_type": "code",
   "execution_count": 72,
   "id": "d4f2d57b-15a7-4107-ba42-5cae685f6696",
   "metadata": {
    "tags": []
   },
   "outputs": [
    {
     "name": "stdout",
     "output_type": "stream",
     "text": [
      "\n",
      "Total number of documents returned: 5\n",
      "\n",
      "Sample docs:\n",
      "\n",
      "{'_id': ObjectId('6566166d88b337b1d7dbd4b0'),\n",
      " 'address': {'building': '345',\n",
      "             'coord': [-73.9864626, 40.7266739],\n",
      "             'street': 'East 6 Street',\n",
      "             'zipcode': '10003'},\n",
      " 'borough': 'Manhattan',\n",
      " 'cuisine': 'Indian',\n",
      " 'grades': [{'date': {'$date': 1410739200000}, 'grade': 'A', 'score': 5},\n",
      "            {'date': {'$date': 1389657600000}, 'grade': 'A', 'score': 8},\n",
      "            {'date': {'$date': 1369872000000}, 'grade': 'A', 'score': 12},\n",
      "            {'date': {'$date': 1366761600000}, 'grade': 'P', 'score': 2},\n",
      "            {'date': {'$date': 1349049600000}, 'grade': 'A', 'score': 9},\n",
      "            {'date': {'$date': 1333670400000}, 'grade': 'C', 'score': 92},\n",
      "            {'date': {'$date': 1320278400000}, 'grade': 'C', 'score': 41}],\n",
      " 'name': 'Gandhi',\n",
      " 'restaurant_id': '40381295'}\n",
      "{'_id': ObjectId('6566166d88b337b1d7dbd613'),\n",
      " 'address': {'building': '130',\n",
      "             'coord': [-73.984758, 40.7457939],\n",
      "             'street': 'Madison Avenue',\n",
      "             'zipcode': '10016'},\n",
      " 'borough': 'Manhattan',\n",
      " 'cuisine': 'Pizza/Italian',\n",
      " 'grades': [{'date': {'$date': 1419379200000}, 'grade': 'Z', 'score': 31},\n",
      "            {'date': {'$date': 1402963200000}, 'grade': 'C', 'score': 98},\n",
      "            {'date': {'$date': 1386806400000}, 'grade': 'C', 'score': 32},\n",
      "            {'date': {'$date': 1369180800000}, 'grade': 'B', 'score': 21},\n",
      "            {'date': {'$date': 1335916800000}, 'grade': 'A', 'score': 11}],\n",
      " 'name': 'Bella Napoli',\n",
      " 'restaurant_id': '40393488'}\n",
      "{'_id': ObjectId('6566166d88b337b1d7dbd61e'),\n",
      " 'address': {'building': '101',\n",
      "             'coord': [-73.9243061, 40.8276297],\n",
      "             'street': 'East 161 Street',\n",
      "             'zipcode': '10451'},\n",
      " 'borough': 'Bronx',\n",
      " 'cuisine': 'Latin (Cuban, Dominican, Puerto Rican, South & Central American)',\n",
      " 'grades': [{'date': {'$date': 1397088000000}, 'grade': 'A', 'score': 10},\n",
      "            {'date': {'$date': 1380585600000}, 'grade': 'A', 'score': 6},\n",
      "            {'date': {'$date': 1365638400000}, 'grade': 'B', 'score': 25},\n",
      "            {'date': {'$date': 1351123200000}, 'grade': 'A', 'score': 12},\n",
      "            {'date': {'$date': 1349827200000}, 'grade': 'P', 'score': 12},\n",
      "            {'date': {'$date': 1337904000000}, 'grade': 'B', 'score': 14},\n",
      "            {'date': {'$date': 1315958400000}, 'grade': 'B', 'score': 26},\n",
      "            {'date': {'$date': 1303689600000}, 'grade': 'C', 'score': 76}],\n",
      " 'name': 'El Molino Rojo Restaurant',\n",
      " 'restaurant_id': '40393688'}\n",
      "{'_id': ObjectId('6566166d88b337b1d7dbd76e'),\n",
      " 'address': {'building': '289',\n",
      "             'coord': [-73.94610279999999, 40.7137587],\n",
      "             'street': 'Manhattan Avenue',\n",
      "             'zipcode': '11211'},\n",
      " 'borough': 'Brooklyn',\n",
      " 'cuisine': 'Bakery',\n",
      " 'grades': [{'date': {'$date': 1395187200000}, 'grade': 'A', 'score': 10},\n",
      "            {'date': {'$date': 1381363200000}, 'grade': 'A', 'score': 10},\n",
      "            {'date': {'$date': 1367884800000}, 'grade': 'A', 'score': 13},\n",
      "            {'date': {'$date': 1347321600000}, 'grade': 'B', 'score': 18},\n",
      "            {'date': {'$date': 1334707200000}, 'grade': 'A', 'score': 9},\n",
      "            {'date': {'$date': 1317081600000}, 'grade': 'A', 'score': 8},\n",
      "            {'date': {'$date': 1304380800000}, 'grade': 'C', 'score': 77}],\n",
      " 'name': 'Fortunato Bros Cafe & Bakery',\n",
      " 'restaurant_id': '40400561'}\n",
      "{'_id': ObjectId('6566166d88b337b1d7dbdd98'),\n",
      " 'address': {'building': '231',\n",
      "             'coord': [-73.9772294, 40.7527262],\n",
      "             'street': 'Grand Central Station',\n",
      "             'zipcode': '10017'},\n",
      " 'borough': 'Manhattan',\n",
      " 'cuisine': 'Italian',\n",
      " 'grades': [{'date': {'$date': 1420588800000}, 'grade': 'Z', 'score': 20},\n",
      "            {'date': {'$date': 1404345600000}, 'grade': 'B', 'score': 14},\n",
      "            {'date': {'$date': 1387584000000}, 'grade': 'A', 'score': 13},\n",
      "            {'date': {'$date': 1368748800000}, 'grade': 'C', 'score': 76},\n",
      "            {'date': {'$date': 1334880000000}, 'grade': 'A', 'score': 12}],\n",
      " 'name': 'Two Boots Grand Central',\n",
      " 'restaurant_id': '40725591'}\n"
     ]
    }
   ],
   "source": [
    "# define query\n",
    "query_cuisine_score_lat = {\n",
    "        \"cuisine\": {\"$ne\": \"American\", \"$ne\": \"American \"},\n",
    "        \"grades.score\": {\"$gt\": 70},\n",
    "        \"address.coord.0\": {\"$lt\": 60}\n",
    "}\n",
    "\n",
    "# execute query\n",
    "rest_cuisine_score_lat = rest_collection.find(query_cuisine_score_lat)\n",
    "\n",
    "# print results\n",
    "print_sample_and_total(rest_cuisine_score_lat)"
   ]
  },
  {
   "cell_type": "markdown",
   "id": "39db4804-b8ee-4a90-a234-1ae93d9371ec",
   "metadata": {},
   "source": [
    "## 14. Find the restaurants which do not prepare any cuisine of 'American ' and achieved a grade point 'A' and not in the borough of Brooklyn, sorted by cuisine in descending order."
   ]
  },
  {
   "cell_type": "code",
   "execution_count": null,
   "id": "8a8c14e9-de65-4b5e-a8aa-90fea68f9bc6",
   "metadata": {},
   "outputs": [],
   "source": []
  }
 ],
 "metadata": {
  "kernelspec": {
   "display_name": "Python [conda env:bigdata]",
   "language": "python",
   "name": "conda-env-bigdata-py"
  },
  "language_info": {
   "codemirror_mode": {
    "name": "ipython",
    "version": 3
   },
   "file_extension": ".py",
   "mimetype": "text/x-python",
   "name": "python",
   "nbconvert_exporter": "python",
   "pygments_lexer": "ipython3",
   "version": "3.10.12"
  }
 },
 "nbformat": 4,
 "nbformat_minor": 5
}
