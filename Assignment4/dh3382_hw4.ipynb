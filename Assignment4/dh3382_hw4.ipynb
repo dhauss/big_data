{
 "cells": [
  {
   "cell_type": "code",
   "execution_count": 128,
   "id": "d4b638c3-35f2-48f2-aed0-78f00a3f5220",
   "metadata": {
    "tags": []
   },
   "outputs": [
    {
     "name": "stdout",
     "output_type": "stream",
     "text": [
      "Pinged your deployment. You successfully connected to MongoDB!\n"
     ]
    }
   ],
   "source": [
    "from pymongo.mongo_client import MongoClient\n",
    "from pymongo.server_api import ServerApi\n",
    "from pprint import pprint\n",
    "import json\n",
    "\n",
    "# read in URI string from file to avoid showing password in plain text\n",
    "with open(\"mongo-config.txt\", 'r') as config:\n",
    "        URI = config.read()\n",
    "\n",
    "# Create a new client and connect to the server\n",
    "client = MongoClient(URI, server_api=ServerApi('1'))\n",
    "\n",
    "# Send a ping to test connection\n",
    "try:\n",
    "    client.admin.command('ping')\n",
    "    print(\"Pinged your deployment. You successfully connected to MongoDB!\")\n",
    "except Exception as e:\n",
    "    print(e)\n",
    "    \n",
    "RESTAURANT_PATH = \"restaurants.json\""
   ]
  },
  {
   "cell_type": "code",
   "execution_count": 23,
   "id": "7494b480-342b-4a95-8eb3-9c22d989ef94",
   "metadata": {
    "tags": []
   },
   "outputs": [
    {
     "data": {
      "text/plain": [
       "DeleteResult({'n': 15088, 'electionId': ObjectId('7fffffff00000000000000e5'), 'opTime': {'ts': Timestamp(1701189224, 10270), 't': 229}, 'ok': 1.0, '$clusterTime': {'clusterTime': Timestamp(1701189224, 10270), 'signature': {'hash': b'k\\x08\\xecDfbdaJ\\xf7:\\x82G!\\xe91\\x92\\xac\\xa1,', 'keyId': 7261225766799540226}}, 'operationTime': Timestamp(1701189224, 10270)}, acknowledged=True)"
      ]
     },
     "execution_count": 23,
     "metadata": {},
     "output_type": "execute_result"
    }
   ],
   "source": [
    "# remove all items in collection\n",
    "\"\"\"\n",
    "db = client[\"dh3382\"]\n",
    "rest_collection = db[\"rest_data\"]\n",
    "rest_collection.delete_many({})\n",
    "\"\"\""
   ]
  },
  {
   "cell_type": "code",
   "execution_count": 129,
   "id": "60f7028f-07fa-4e5f-94d0-96e6376726ca",
   "metadata": {
    "tags": []
   },
   "outputs": [],
   "source": [
    "# convenience function to print out num_to_print sample records and number of docs in cursor\n",
    "def print_sample_and_total(cursor, num_to_print=5):    \n",
    "    num_docs = 0\n",
    "    docs_to_print = []\n",
    "    for doc in cursor:\n",
    "        if(num_docs < num_to_print):\n",
    "            docs_to_print.append(doc)\n",
    "        num_docs = num_docs + 1\n",
    "\n",
    "    # print number of docs returned by find() query\n",
    "    print(\"\\nTotal number of documents returned: \" + str(num_docs) )\n",
    "    print(\"\\nSample docs:\\n\")\n",
    "\n",
    "    for doc in docs_to_print:\n",
    "        # easier to read JSON formatting\n",
    "        pprint(doc)"
   ]
  },
  {
   "cell_type": "markdown",
   "id": "233f0706-3115-4fae-9e1c-6d64398defe4",
   "metadata": {},
   "source": [
    "## 1. Load the restaurants data into a collection\n",
    "\n",
    "restaurants.json file is loaded into an array of JSON records and uploaded to remote MongoDB collection dh3382.rest_data. insert_many statement is commented out to avoid mistakenly uploading duplicate records"
   ]
  },
  {
   "cell_type": "code",
   "execution_count": 130,
   "id": "836fc80c-470d-46bb-8d69-ebb8de111c57",
   "metadata": {
    "tags": []
   },
   "outputs": [],
   "source": [
    "# read in restaurant data file, convert to list of JSON records to upload to DB\n",
    "rest_data = []\n",
    "with open(RESTAURANT_PATH, 'r') as file:\n",
    "    for line in file:\n",
    "        rest_data.append(json.loads(line) )\n",
    "        \n",
    "# find or create database \n",
    "db = client[\"dh3382\"]\n",
    "\n",
    "# find or create collection\n",
    "rest_collection = db[\"rest_data\"]\n",
    "\n",
    "# commented out to avoid reinserting data\n",
    "# rest_collection.insert_many(rest_data)"
   ]
  },
  {
   "cell_type": "markdown",
   "id": "c7490a04-8e74-4fca-9a46-f57364ac63a8",
   "metadata": {},
   "source": [
    "## 2. Count the number of documents in the collection\n",
    "\n",
    "I first print out the length of the array of JSON records to ensure it matches up with the records uploaded to dh3382.rest_data. I then call count_documents on the rest_data collection object with an empty query to return a full count"
   ]
  },
  {
   "cell_type": "code",
   "execution_count": 131,
   "id": "2235084e-e183-473b-96ae-0f5cd8ad1566",
   "metadata": {
    "tags": []
   },
   "outputs": [
    {
     "name": "stdout",
     "output_type": "stream",
     "text": [
      "Number of records in rest_data array: 3772\n",
      "Number of records in MongoDB dh3382.rest_data collection: 3772\n"
     ]
    }
   ],
   "source": [
    "# first check number of records in JSON array \n",
    "print(\"Number of records in rest_data array: \" + str(len(rest_data) ) )\n",
    "\n",
    "# count number of records uploaded to dh3382.rest_data and make sure it matches\n",
    "print(\"Number of records in MongoDB dh3382.rest_data collection: \" + str(rest_collection.count_documents({}) ) )"
   ]
  },
  {
   "cell_type": "markdown",
   "id": "fe04ef34-c16a-45d3-a605-7f77d1aee507",
   "metadata": {},
   "source": [
    "## 3. Find all the documents in the collection\n",
    "\n",
    "I use find() with an empty query to return a cursor pointing to the entire dh3382.rest_data collection. I then print out 5 documents to check that full documents were indeed returned, and count the number of documents returned to ensure that it matches up with the total count calculated in the previous cell"
   ]
  },
  {
   "cell_type": "code",
   "execution_count": 132,
   "id": "c0b9e9b9-2762-4102-9d88-2dc036598a8e",
   "metadata": {
    "tags": []
   },
   "outputs": [
    {
     "name": "stdout",
     "output_type": "stream",
     "text": [
      "\n",
      "Total number of documents returned: 3772\n",
      "\n",
      "Sample docs:\n",
      "\n",
      "{'_id': ObjectId('6566166d88b337b1d7dbd2b1'),\n",
      " 'address': {'building': '1007',\n",
      "             'coord': [-73.856077, 40.848447],\n",
      "             'street': 'Morris Park Ave',\n",
      "             'zipcode': '10462'},\n",
      " 'borough': 'Bronx',\n",
      " 'cuisine': 'Bakery',\n",
      " 'grades': [{'date': {'$date': 1393804800000}, 'grade': 'A', 'score': 2},\n",
      "            {'date': {'$date': 1378857600000}, 'grade': 'A', 'score': 6},\n",
      "            {'date': {'$date': 1358985600000}, 'grade': 'A', 'score': 10},\n",
      "            {'date': {'$date': 1322006400000}, 'grade': 'A', 'score': 9},\n",
      "            {'date': {'$date': 1299715200000}, 'grade': 'B', 'score': 14}],\n",
      " 'name': 'Morris Park Bake Shop',\n",
      " 'restaurant_id': '30075445'}\n",
      "{'_id': ObjectId('6566166d88b337b1d7dbd2b2'),\n",
      " 'address': {'building': '469',\n",
      "             'coord': [-73.961704, 40.662942],\n",
      "             'street': 'Flatbush Avenue',\n",
      "             'zipcode': '11225'},\n",
      " 'borough': 'Brooklyn',\n",
      " 'cuisine': 'Hamburgers',\n",
      " 'grades': [{'date': {'$date': 1419897600000}, 'grade': 'A', 'score': 8},\n",
      "            {'date': {'$date': 1404172800000}, 'grade': 'B', 'score': 23},\n",
      "            {'date': {'$date': 1367280000000}, 'grade': 'A', 'score': 12},\n",
      "            {'date': {'$date': 1336435200000}, 'grade': 'A', 'score': 12}],\n",
      " 'name': \"Wendy'S\",\n",
      " 'restaurant_id': '30112340'}\n",
      "{'_id': ObjectId('6566166d88b337b1d7dbd2b3'),\n",
      " 'address': {'building': '351',\n",
      "             'coord': [-73.98513559999999, 40.7676919],\n",
      "             'street': 'West   57 Street',\n",
      "             'zipcode': '10019'},\n",
      " 'borough': 'Manhattan',\n",
      " 'cuisine': 'Irish',\n",
      " 'grades': [{'date': {'$date': 1409961600000}, 'grade': 'A', 'score': 2},\n",
      "            {'date': {'$date': 1374451200000}, 'grade': 'A', 'score': 11},\n",
      "            {'date': {'$date': 1343692800000}, 'grade': 'A', 'score': 12},\n",
      "            {'date': {'$date': 1325116800000}, 'grade': 'A', 'score': 12}],\n",
      " 'name': 'Dj Reynolds Pub And Restaurant',\n",
      " 'restaurant_id': '30191841'}\n",
      "{'_id': ObjectId('6566166d88b337b1d7dbd2b4'),\n",
      " 'address': {'building': '2780',\n",
      "             'coord': [-73.98241999999999, 40.579505],\n",
      "             'street': 'Stillwell Avenue',\n",
      "             'zipcode': '11224'},\n",
      " 'borough': 'Brooklyn',\n",
      " 'cuisine': 'American ',\n",
      " 'grades': [{'date': {'$date': 1402358400000}, 'grade': 'A', 'score': 5},\n",
      "            {'date': {'$date': 1370390400000}, 'grade': 'A', 'score': 7},\n",
      "            {'date': {'$date': 1334275200000}, 'grade': 'A', 'score': 12},\n",
      "            {'date': {'$date': 1318377600000}, 'grade': 'A', 'score': 12}],\n",
      " 'name': 'Riviera Caterer',\n",
      " 'restaurant_id': '40356018'}\n",
      "{'_id': ObjectId('6566166d88b337b1d7dbd2b5'),\n",
      " 'address': {'building': '97-22',\n",
      "             'coord': [-73.8601152, 40.7311739],\n",
      "             'street': '63 Road',\n",
      "             'zipcode': '11374'},\n",
      " 'borough': 'Queens',\n",
      " 'cuisine': 'Jewish/Kosher',\n",
      " 'grades': [{'date': {'$date': 1416787200000}, 'grade': 'Z', 'score': 20},\n",
      "            {'date': {'$date': 1358380800000}, 'grade': 'A', 'score': 13},\n",
      "            {'date': {'$date': 1343865600000}, 'grade': 'A', 'score': 13},\n",
      "            {'date': {'$date': 1323907200000}, 'grade': 'B', 'score': 25}],\n",
      " 'name': 'Tov Kosher Kitchen',\n",
      " 'restaurant_id': '40356068'}\n"
     ]
    }
   ],
   "source": [
    "# returns a cursor to all documents in dh3382.rest_data collection\n",
    "all_docs_cursor = rest_collection.find({})\n",
    "\n",
    "# convenience function defined above, prints 5 documents by default and total number returned by query\n",
    "print_sample_and_total(all_docs_cursor)"
   ]
  },
  {
   "cell_type": "markdown",
   "id": "e0aada59-407c-424f-b495-01233297e6be",
   "metadata": {},
   "source": [
    "## 4. Display: restaurant_id, name, borough and cuisine, but exclude field _id, for all the documents in the collection\n",
    "\n",
    "I query with a dict defined as key: field, val: boolean as the second parameter in order to exclude the \\_id field and include only the restaurant_id, name, borough, and cuisine fields. I again print out 5 sample documents as well as the total number of documents returned to confirm the correct formatting and size of the query return val"
   ]
  },
  {
   "cell_type": "code",
   "execution_count": 133,
   "id": "947ce872-1e3d-4c05-9864-a488cc57487a",
   "metadata": {
    "tags": []
   },
   "outputs": [
    {
     "name": "stdout",
     "output_type": "stream",
     "text": [
      "\n",
      "Total number of documents returned: 3772\n",
      "\n",
      "Sample docs:\n",
      "\n",
      "{'borough': 'Bronx',\n",
      " 'cuisine': 'Bakery',\n",
      " 'name': 'Morris Park Bake Shop',\n",
      " 'restaurant_id': '30075445'}\n",
      "{'borough': 'Brooklyn',\n",
      " 'cuisine': 'Hamburgers',\n",
      " 'name': \"Wendy'S\",\n",
      " 'restaurant_id': '30112340'}\n",
      "{'borough': 'Manhattan',\n",
      " 'cuisine': 'Irish',\n",
      " 'name': 'Dj Reynolds Pub And Restaurant',\n",
      " 'restaurant_id': '30191841'}\n",
      "{'borough': 'Brooklyn',\n",
      " 'cuisine': 'American ',\n",
      " 'name': 'Riviera Caterer',\n",
      " 'restaurant_id': '40356018'}\n",
      "{'borough': 'Queens',\n",
      " 'cuisine': 'Jewish/Kosher',\n",
      " 'name': 'Tov Kosher Kitchen',\n",
      " 'restaurant_id': '40356068'}\n"
     ]
    }
   ],
   "source": [
    "# define fields that will be returned by query\n",
    "fields = {\"_id\": 0, \"restaurant_id\": 1, \"name\": 1, \"borough\": 1, \"cuisine\": 1}\n",
    "\n",
    "# query dh3382.rest_data\n",
    "all_docs_4_fields = rest_collection.find({}, fields)\n",
    "\n",
    "# convenience function defined above, prints 5 documents by default and total number returned by query\n",
    "print_sample_and_total(all_docs_4_fields)"
   ]
  },
  {
   "cell_type": "markdown",
   "id": "4f267058-0ba2-4210-a0b6-7ae92a7f6610",
   "metadata": {},
   "source": [
    "## 5. Display all the restaurants in the Bronx\n",
    "\n",
    "I define a dict using the mongoDB $eq operator, then execute the query to return all documents where the borough field is equal to \"Bronx\" and print out a sample as well as the total number of documents returned"
   ]
  },
  {
   "cell_type": "code",
   "execution_count": 134,
   "id": "db81cdd8-89d3-4816-bf92-c5e0e37ace43",
   "metadata": {
    "tags": []
   },
   "outputs": [
    {
     "name": "stdout",
     "output_type": "stream",
     "text": [
      "\n",
      "Total number of documents returned: 309\n",
      "\n",
      "Sample docs:\n",
      "\n",
      "{'_id': ObjectId('6566166d88b337b1d7dbd2b1'),\n",
      " 'address': {'building': '1007',\n",
      "             'coord': [-73.856077, 40.848447],\n",
      "             'street': 'Morris Park Ave',\n",
      "             'zipcode': '10462'},\n",
      " 'borough': 'Bronx',\n",
      " 'cuisine': 'Bakery',\n",
      " 'grades': [{'date': {'$date': 1393804800000}, 'grade': 'A', 'score': 2},\n",
      "            {'date': {'$date': 1378857600000}, 'grade': 'A', 'score': 6},\n",
      "            {'date': {'$date': 1358985600000}, 'grade': 'A', 'score': 10},\n",
      "            {'date': {'$date': 1322006400000}, 'grade': 'A', 'score': 9},\n",
      "            {'date': {'$date': 1299715200000}, 'grade': 'B', 'score': 14}],\n",
      " 'name': 'Morris Park Bake Shop',\n",
      " 'restaurant_id': '30075445'}\n",
      "{'_id': ObjectId('6566166d88b337b1d7dbd2bb'),\n",
      " 'address': {'building': '2300',\n",
      "             'coord': [-73.8786113, 40.8502883],\n",
      "             'street': 'Southern Boulevard',\n",
      "             'zipcode': '10460'},\n",
      " 'borough': 'Bronx',\n",
      " 'cuisine': 'American ',\n",
      " 'grades': [{'date': {'$date': 1401235200000}, 'grade': 'A', 'score': 11},\n",
      "            {'date': {'$date': 1371600000000}, 'grade': 'A', 'score': 4},\n",
      "            {'date': {'$date': 1339718400000}, 'grade': 'A', 'score': 3}],\n",
      " 'name': 'Wild Asia',\n",
      " 'restaurant_id': '40357217'}\n",
      "{'_id': ObjectId('6566166d88b337b1d7dbd2d0'),\n",
      " 'address': {'building': '1006',\n",
      "             'coord': [-73.84856870000002, 40.8903781],\n",
      "             'street': 'East 233 Street',\n",
      "             'zipcode': '10466'},\n",
      " 'borough': 'Bronx',\n",
      " 'cuisine': 'Ice Cream, Gelato, Yogurt, Ices',\n",
      " 'grades': [{'date': {'$date': 1398297600000}, 'grade': 'A', 'score': 10},\n",
      "            {'date': {'$date': 1378339200000}, 'grade': 'A', 'score': 10},\n",
      "            {'date': {'$date': 1361404800000}, 'grade': 'A', 'score': 9},\n",
      "            {'date': {'$date': 1341273600000}, 'grade': 'A', 'score': 11},\n",
      "            {'date': {'$date': 1310342400000}, 'grade': 'A', 'score': 5}],\n",
      " 'name': 'Carvel Ice Cream',\n",
      " 'restaurant_id': '40363093'}\n",
      "{'_id': ObjectId('6566166d88b337b1d7dbd2d4'),\n",
      " 'address': {'building': '1236',\n",
      "             'coord': [-73.8893654, 40.81376179999999],\n",
      "             'street': '238 Spofford Ave',\n",
      "             'zipcode': '10474'},\n",
      " 'borough': 'Bronx',\n",
      " 'cuisine': 'Chinese',\n",
      " 'grades': [{'date': {'$date': 1388361600000}, 'grade': 'A', 'score': 8},\n",
      "            {'date': {'$date': 1357603200000}, 'grade': 'A', 'score': 10},\n",
      "            {'date': {'$date': 1339459200000}, 'grade': 'B', 'score': 15}],\n",
      " 'name': 'Happy Garden',\n",
      " 'restaurant_id': '40363289'}\n",
      "{'_id': ObjectId('6566166d88b337b1d7dbd2e6'),\n",
      " 'address': {'building': '277',\n",
      "             'coord': [-73.8941893, 40.8634684],\n",
      "             'street': 'East Kingsbridge Road',\n",
      "             'zipcode': '10458'},\n",
      " 'borough': 'Bronx',\n",
      " 'cuisine': 'Chinese',\n",
      " 'grades': [{'date': {'$date': 1393804800000}, 'grade': 'A', 'score': 10},\n",
      "            {'date': {'$date': 1380153600000}, 'grade': 'A', 'score': 10},\n",
      "            {'date': {'$date': 1363651200000}, 'grade': 'A', 'score': 10},\n",
      "            {'date': {'$date': 1346198400000}, 'grade': 'A', 'score': 11},\n",
      "            {'date': {'$date': 1313539200000}, 'grade': 'A', 'score': 13}],\n",
      " 'name': 'Happy Garden',\n",
      " 'restaurant_id': '40364296'}\n"
     ]
    }
   ],
   "source": [
    "# define filter with equals function\n",
    "bronx = {\"borough\": {\"$eq\": \"Bronx\"} }\n",
    "\n",
    "# execute query with filter\n",
    "all_docs_bronx = rest_collection.find(bronx)\n",
    "\n",
    "# convenience function defined above, prints 5 documents by default and total number returned by query\n",
    "print_sample_and_total(all_docs_bronx)"
   ]
  },
  {
   "cell_type": "markdown",
   "id": "509e720c-90ad-4cba-95f4-b993ca8cd6b3",
   "metadata": {},
   "source": [
    "## 7. Display the first 5 restaurants in the Bronx"
   ]
  },
  {
   "cell_type": "code",
   "execution_count": 126,
   "id": "1aab1100-38d1-49b1-b85d-7654e7b5fa0b",
   "metadata": {
    "tags": []
   },
   "outputs": [],
   "source": [
    "# grab the cursor, iterate through first 5 then iterate through the rest for Q8"
   ]
  }
 ],
 "metadata": {
  "kernelspec": {
   "display_name": "Python [conda env:bigdata]",
   "language": "python",
   "name": "conda-env-bigdata-py"
  },
  "language_info": {
   "codemirror_mode": {
    "name": "ipython",
    "version": 3
   },
   "file_extension": ".py",
   "mimetype": "text/x-python",
   "name": "python",
   "nbconvert_exporter": "python",
   "pygments_lexer": "ipython3",
   "version": "3.10.12"
  }
 },
 "nbformat": 4,
 "nbformat_minor": 5
}
