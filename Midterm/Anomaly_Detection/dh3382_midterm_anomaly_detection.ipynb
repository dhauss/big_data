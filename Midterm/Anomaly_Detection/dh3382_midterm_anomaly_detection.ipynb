{
 "cells": [
  {
   "cell_type": "markdown",
   "metadata": {
    "application/vnd.databricks.v1+cell": {
     "cellMetadata": {},
     "inputWidgets": {},
     "nuid": "6df96bd9-3a00-4406-9cf7-61015eef3f52",
     "showTitle": false,
     "title": ""
    }
   },
   "source": [
    "<h1 style=\"text-align: center;\">\n",
    "Anomaly Detection \n",
    "</h1>\n",
    "\n",
    "1. For each model, compute the bi-monthly failure rate R per model: F = number of failures per model, O = number of cumulative days in operation per model, D = number of days between Jan 1, 2019 and March 28, 2019, inclusive:\n",
    "\n",
    "\n",
    "\\\\[R = 100.0 * \\left(\\frac{1.0 * F}{O \\div D}\\right)\\\\]\n",
    "\n",
    "\n",
    "2. Given R per model, find the mean M and standard deviation S\n",
    "\n",
    "3. Use M, S to predict which models in operation on March 29, 2019 will fail, with failure\n",
    "predicted if the model’s R exceeds M + 1S\n",
    "\n",
    "Log data from Backblaze\\\n",
    "Source: https://www.backblaze.com/blog/backblaze-hard-drive-stats-q1-2019/ \\\n",
    "Reference: https://www.backblaze.com/cloud-storage/resources/hard-drive-test-data\\"
   ]
  },
  {
   "cell_type": "code",
   "execution_count": 0,
   "metadata": {
    "application/vnd.databricks.v1+cell": {
     "cellMetadata": {
      "byteLimit": 2048000,
      "rowLimit": 10000
     },
     "inputWidgets": {},
     "nuid": "85ed5b21-0139-4f61-a628-4d0300c19329",
     "showTitle": false,
     "title": ""
    }
   },
   "outputs": [],
   "source": [
    "from pyspark.sql import SparkSession\n",
    "from pyspark.sql.functions import col, count, lit, mean, stddev, when\n",
    "\n",
    "from datetime import datetime as dt\n",
    "\n",
    "spark = SparkSession.builder.appName('dh3382-midterm-anomaly-detection').getOrCreate()\n",
    "\n",
    "LOG_DIR_PATH = '/FileStore/tables/drive_stats_2019_Q1'\n",
    "\n",
    "# specified date range\n",
    "DATE_RANGE = ('2019-1-1', '2019-3-28')\n",
    "\n",
    "# calculate number of days in date range for D variable in failure rate (R)\n",
    "DATE_RANGE_DAYS = (dt.strptime(DATE_RANGE[1], \"%Y-%m-%d\") - dt.strptime(DATE_RANGE[0], \"%Y-%m-%d\")).days"
   ]
  },
  {
   "cell_type": "markdown",
   "metadata": {
    "application/vnd.databricks.v1+cell": {
     "cellMetadata": {},
     "inputWidgets": {},
     "nuid": "e394290a-6bb2-48bd-b84b-6733ac5d4544",
     "showTitle": false,
     "title": ""
    }
   },
   "source": [
    "<h3 style=\"text-align: center;\">\n",
    "Basic Data Cleaning\n",
    "</h3>\n",
    "Reads in the raw data, selects only the columns needed for anomaly detection analysis and filters out all rows outside of specified date range"
   ]
  },
  {
   "cell_type": "code",
   "execution_count": 0,
   "metadata": {
    "application/vnd.databricks.v1+cell": {
     "cellMetadata": {
      "byteLimit": 2048000,
      "rowLimit": 10000
     },
     "inputWidgets": {},
     "nuid": "3b00fa36-0d7b-45e4-a137-d6e3b98c152a",
     "showTitle": false,
     "title": ""
    }
   },
   "outputs": [
    {
     "output_type": "display_data",
     "data": {
      "text/html": [
       "<div>\n",
       "<style scoped>\n",
       "    .dataframe tbody tr th:only-of-type {\n",
       "        vertical-align: middle;\n",
       "    }\n",
       "\n",
       "    .dataframe tbody tr th {\n",
       "        vertical-align: top;\n",
       "    }\n",
       "\n",
       "    .dataframe thead th {\n",
       "        text-align: right;\n",
       "    }\n",
       "</style>\n",
       "<table border=\"1\" class=\"dataframe\">\n",
       "  <thead>\n",
       "    <tr style=\"text-align: right;\">\n",
       "      <th></th>\n",
       "      <th>date</th>\n",
       "      <th>serial_number</th>\n",
       "      <th>model</th>\n",
       "      <th>failure</th>\n",
       "    </tr>\n",
       "  </thead>\n",
       "  <tbody>\n",
       "    <tr>\n",
       "      <th>0</th>\n",
       "      <td>2019-03-05</td>\n",
       "      <td>Z305B2QN</td>\n",
       "      <td>ST4000DM000</td>\n",
       "      <td>0</td>\n",
       "    </tr>\n",
       "    <tr>\n",
       "      <th>1</th>\n",
       "      <td>2019-03-05</td>\n",
       "      <td>ZJV0XJQ4</td>\n",
       "      <td>ST12000NM0007</td>\n",
       "      <td>0</td>\n",
       "    </tr>\n",
       "    <tr>\n",
       "      <th>2</th>\n",
       "      <td>2019-03-05</td>\n",
       "      <td>ZJV0XJQ3</td>\n",
       "      <td>ST12000NM0007</td>\n",
       "      <td>0</td>\n",
       "    </tr>\n",
       "    <tr>\n",
       "      <th>3</th>\n",
       "      <td>2019-03-05</td>\n",
       "      <td>ZJV0XJQ0</td>\n",
       "      <td>ST12000NM0007</td>\n",
       "      <td>0</td>\n",
       "    </tr>\n",
       "    <tr>\n",
       "      <th>4</th>\n",
       "      <td>2019-03-05</td>\n",
       "      <td>PL1331LAHG1S4H</td>\n",
       "      <td>HGST HMS5C4040ALE640</td>\n",
       "      <td>0</td>\n",
       "    </tr>\n",
       "    <tr>\n",
       "      <th>...</th>\n",
       "      <td>...</td>\n",
       "      <td>...</td>\n",
       "      <td>...</td>\n",
       "      <td>...</td>\n",
       "    </tr>\n",
       "    <tr>\n",
       "      <th>8617817</th>\n",
       "      <td>2019-02-27</td>\n",
       "      <td>PL1331LAHD1AWH</td>\n",
       "      <td>HGST HMS5C4040BLE640</td>\n",
       "      <td>0</td>\n",
       "    </tr>\n",
       "    <tr>\n",
       "      <th>8617818</th>\n",
       "      <td>2019-02-27</td>\n",
       "      <td>ZA10MCEQ</td>\n",
       "      <td>ST8000DM002</td>\n",
       "      <td>0</td>\n",
       "    </tr>\n",
       "    <tr>\n",
       "      <th>8617819</th>\n",
       "      <td>2019-02-27</td>\n",
       "      <td>ZCH0CRTK</td>\n",
       "      <td>ST12000NM0007</td>\n",
       "      <td>0</td>\n",
       "    </tr>\n",
       "    <tr>\n",
       "      <th>8617820</th>\n",
       "      <td>2019-02-27</td>\n",
       "      <td>PL1331LAHD1T5H</td>\n",
       "      <td>HGST HMS5C4040BLE640</td>\n",
       "      <td>0</td>\n",
       "    </tr>\n",
       "    <tr>\n",
       "      <th>8617821</th>\n",
       "      <td>2019-02-27</td>\n",
       "      <td>Z30271GD</td>\n",
       "      <td>ST4000DM000</td>\n",
       "      <td>0</td>\n",
       "    </tr>\n",
       "  </tbody>\n",
       "</table>\n",
       "<p>8617822 rows × 4 columns</p>\n",
       "</div>"
      ]
     },
     "metadata": {
      "application/vnd.databricks.v1+output": {
       "addedWidgets": {},
       "arguments": {},
       "data": "<div>\n<style scoped>\n    .dataframe tbody tr th:only-of-type {\n        vertical-align: middle;\n    }\n\n    .dataframe tbody tr th {\n        vertical-align: top;\n    }\n\n    .dataframe thead th {\n        text-align: right;\n    }\n</style>\n<table border=\"1\" class=\"dataframe\">\n  <thead>\n    <tr style=\"text-align: right;\">\n      <th></th>\n      <th>date</th>\n      <th>serial_number</th>\n      <th>model</th>\n      <th>failure</th>\n    </tr>\n  </thead>\n  <tbody>\n    <tr>\n      <th>0</th>\n      <td>2019-03-05</td>\n      <td>Z305B2QN</td>\n      <td>ST4000DM000</td>\n      <td>0</td>\n    </tr>\n    <tr>\n      <th>1</th>\n      <td>2019-03-05</td>\n      <td>ZJV0XJQ4</td>\n      <td>ST12000NM0007</td>\n      <td>0</td>\n    </tr>\n    <tr>\n      <th>2</th>\n      <td>2019-03-05</td>\n      <td>ZJV0XJQ3</td>\n      <td>ST12000NM0007</td>\n      <td>0</td>\n    </tr>\n    <tr>\n      <th>3</th>\n      <td>2019-03-05</td>\n      <td>ZJV0XJQ0</td>\n      <td>ST12000NM0007</td>\n      <td>0</td>\n    </tr>\n    <tr>\n      <th>4</th>\n      <td>2019-03-05</td>\n      <td>PL1331LAHG1S4H</td>\n      <td>HGST HMS5C4040ALE640</td>\n      <td>0</td>\n    </tr>\n    <tr>\n      <th>...</th>\n      <td>...</td>\n      <td>...</td>\n      <td>...</td>\n      <td>...</td>\n    </tr>\n    <tr>\n      <th>8617817</th>\n      <td>2019-02-27</td>\n      <td>PL1331LAHD1AWH</td>\n      <td>HGST HMS5C4040BLE640</td>\n      <td>0</td>\n    </tr>\n    <tr>\n      <th>8617818</th>\n      <td>2019-02-27</td>\n      <td>ZA10MCEQ</td>\n      <td>ST8000DM002</td>\n      <td>0</td>\n    </tr>\n    <tr>\n      <th>8617819</th>\n      <td>2019-02-27</td>\n      <td>ZCH0CRTK</td>\n      <td>ST12000NM0007</td>\n      <td>0</td>\n    </tr>\n    <tr>\n      <th>8617820</th>\n      <td>2019-02-27</td>\n      <td>PL1331LAHD1T5H</td>\n      <td>HGST HMS5C4040BLE640</td>\n      <td>0</td>\n    </tr>\n    <tr>\n      <th>8617821</th>\n      <td>2019-02-27</td>\n      <td>Z30271GD</td>\n      <td>ST4000DM000</td>\n      <td>0</td>\n    </tr>\n  </tbody>\n</table>\n<p>8617822 rows × 4 columns</p>\n</div>",
       "datasetInfos": [],
       "metadata": {},
       "removedWidgets": [],
       "textData": null,
       "type": "htmlSandbox"
      }
     },
     "output_type": "display_data"
    }
   ],
   "source": [
    "# read in raw log data\n",
    "log_df_raw = spark.read.options(header=True, inferSchema=True).csv(LOG_DIR_PATH)\n",
    "\n",
    "# select only necessary columns\n",
    "log_df = log_df_raw.select('date', 'model', 'failure')\n",
    "\n",
    "# filter entries outside of specified date range. Initially checked for nulls but found none\n",
    "log_df = log_df.filter(log_df.date.between(*DATE_RANGE) )\n",
    "\n",
    "log_df.toPandas()"
   ]
  },
  {
   "cell_type": "markdown",
   "metadata": {
    "application/vnd.databricks.v1+cell": {
     "cellMetadata": {},
     "inputWidgets": {},
     "nuid": "761c4fcb-011b-4a5d-be38-191ebfe82c51",
     "showTitle": false,
     "title": ""
    }
   },
   "source": [
    "<h3 style=\"text-align: center;\">\n",
    "Calculate Failures (F) and Accumulated Days of Operation (O)\n",
    "</h3>\n",
    "\n",
    "Groups by model, then adds two columns: every entry where a model does not fail is counted as one day of operation (O), every entry where a model fails is counted as a failure (F). Earlier data exploration showed that hard disks do not have logs for every day between their first entry and their failure entry, so assumption is that the hard disks were only active on days for which they have logs. Dataframe is then persisted as all subsequent actions will require this dataframe, and this avoids having to continuously recalculate the log_df_grouped dataframe from the significantly larger log_df_raw dataset"
   ]
  },
  {
   "cell_type": "code",
   "execution_count": 0,
   "metadata": {
    "application/vnd.databricks.v1+cell": {
     "cellMetadata": {
      "byteLimit": 2048000,
      "rowLimit": 10000
     },
     "inputWidgets": {},
     "nuid": "4227e720-5fa1-4001-9fbc-441852fecb76",
     "showTitle": false,
     "title": ""
    }
   },
   "outputs": [
    {
     "output_type": "display_data",
     "data": {
      "text/html": [
       "<div>\n",
       "<style scoped>\n",
       "    .dataframe tbody tr th:only-of-type {\n",
       "        vertical-align: middle;\n",
       "    }\n",
       "\n",
       "    .dataframe tbody tr th {\n",
       "        vertical-align: top;\n",
       "    }\n",
       "\n",
       "    .dataframe thead th {\n",
       "        text-align: right;\n",
       "    }\n",
       "</style>\n",
       "<table border=\"1\" class=\"dataframe\">\n",
       "  <thead>\n",
       "    <tr style=\"text-align: right;\">\n",
       "      <th></th>\n",
       "      <th>model</th>\n",
       "      <th>F</th>\n",
       "      <th>O</th>\n",
       "    </tr>\n",
       "  </thead>\n",
       "  <tbody>\n",
       "    <tr>\n",
       "      <th>0</th>\n",
       "      <td>ST4000DM000</td>\n",
       "      <td>97</td>\n",
       "      <td>1795336</td>\n",
       "    </tr>\n",
       "    <tr>\n",
       "      <th>1</th>\n",
       "      <td>ST12000NM0007</td>\n",
       "      <td>164</td>\n",
       "      <td>2654525</td>\n",
       "    </tr>\n",
       "    <tr>\n",
       "      <th>2</th>\n",
       "      <td>ST8000DM005</td>\n",
       "      <td>0</td>\n",
       "      <td>2025</td>\n",
       "    </tr>\n",
       "    <tr>\n",
       "      <th>3</th>\n",
       "      <td>ST320LT007</td>\n",
       "      <td>0</td>\n",
       "      <td>79</td>\n",
       "    </tr>\n",
       "    <tr>\n",
       "      <th>4</th>\n",
       "      <td>TOSHIBA MQ01ABF050M</td>\n",
       "      <td>3</td>\n",
       "      <td>29319</td>\n",
       "    </tr>\n",
       "  </tbody>\n",
       "</table>\n",
       "</div>"
      ]
     },
     "metadata": {
      "application/vnd.databricks.v1+output": {
       "addedWidgets": {},
       "arguments": {},
       "data": "<div>\n<style scoped>\n    .dataframe tbody tr th:only-of-type {\n        vertical-align: middle;\n    }\n\n    .dataframe tbody tr th {\n        vertical-align: top;\n    }\n\n    .dataframe thead th {\n        text-align: right;\n    }\n</style>\n<table border=\"1\" class=\"dataframe\">\n  <thead>\n    <tr style=\"text-align: right;\">\n      <th></th>\n      <th>model</th>\n      <th>F</th>\n      <th>O</th>\n    </tr>\n  </thead>\n  <tbody>\n    <tr>\n      <th>0</th>\n      <td>ST4000DM000</td>\n      <td>97</td>\n      <td>1795336</td>\n    </tr>\n    <tr>\n      <th>1</th>\n      <td>ST12000NM0007</td>\n      <td>164</td>\n      <td>2654525</td>\n    </tr>\n    <tr>\n      <th>2</th>\n      <td>ST8000DM005</td>\n      <td>0</td>\n      <td>2025</td>\n    </tr>\n    <tr>\n      <th>3</th>\n      <td>ST320LT007</td>\n      <td>0</td>\n      <td>79</td>\n    </tr>\n    <tr>\n      <th>4</th>\n      <td>TOSHIBA MQ01ABF050M</td>\n      <td>3</td>\n      <td>29319</td>\n    </tr>\n  </tbody>\n</table>\n</div>",
       "datasetInfos": [],
       "metadata": {},
       "removedWidgets": [],
       "textData": null,
       "type": "htmlSandbox"
      }
     },
     "output_type": "display_data"
    }
   ],
   "source": [
    "# count failures as number of times failure is logged per model, cumulative days as number of times non-failure\n",
    "# activity is logged per model\n",
    "log_df_grouped = log_df.groupBy('model').agg(\\\n",
    "    count(when(col(\"failure\") == 1, True) ).alias(\"F\"),\n",
    "    count(when(col(\"failure\") == 0, True) ).alias(\"O\") )\n",
    "\n",
    "# persist so that subsequent actions avoid recalculations with large table (8500000+ rows)\n",
    "log_df_grouped.persist()\n",
    "\n",
    "log_df_grouped.toPandas().head()"
   ]
  },
  {
   "cell_type": "markdown",
   "metadata": {
    "application/vnd.databricks.v1+cell": {
     "cellMetadata": {},
     "inputWidgets": {},
     "nuid": "8332cdf0-f477-4a4e-956d-06e03b99bbf7",
     "showTitle": false,
     "title": ""
    }
   },
   "source": [
    "<h3 style=\"text-align: center;\">\n",
    "Calculate failure rate\n",
    "</h3>\n",
    "Failure rate is calculated according to formula provided in prompt using the lit function to insert the DATE_RANGE_DAYS const calculated in cmd 2"
   ]
  },
  {
   "cell_type": "code",
   "execution_count": 0,
   "metadata": {
    "application/vnd.databricks.v1+cell": {
     "cellMetadata": {
      "byteLimit": 2048000,
      "rowLimit": 10000
     },
     "inputWidgets": {},
     "nuid": "fe3fab37-246e-46f1-b4e6-48bfd7daec6a",
     "showTitle": false,
     "title": ""
    }
   },
   "outputs": [
    {
     "output_type": "display_data",
     "data": {
      "text/html": [
       "<div>\n",
       "<style scoped>\n",
       "    .dataframe tbody tr th:only-of-type {\n",
       "        vertical-align: middle;\n",
       "    }\n",
       "\n",
       "    .dataframe tbody tr th {\n",
       "        vertical-align: top;\n",
       "    }\n",
       "\n",
       "    .dataframe thead th {\n",
       "        text-align: right;\n",
       "    }\n",
       "</style>\n",
       "<table border=\"1\" class=\"dataframe\">\n",
       "  <thead>\n",
       "    <tr style=\"text-align: right;\">\n",
       "      <th></th>\n",
       "      <th>model</th>\n",
       "      <th>F</th>\n",
       "      <th>O</th>\n",
       "      <th>R</th>\n",
       "    </tr>\n",
       "  </thead>\n",
       "  <tbody>\n",
       "    <tr>\n",
       "      <th>0</th>\n",
       "      <td>ST4000DM000</td>\n",
       "      <td>97</td>\n",
       "      <td>1795336</td>\n",
       "      <td>0.464648</td>\n",
       "    </tr>\n",
       "    <tr>\n",
       "      <th>1</th>\n",
       "      <td>ST12000NM0007</td>\n",
       "      <td>164</td>\n",
       "      <td>2654525</td>\n",
       "      <td>0.531319</td>\n",
       "    </tr>\n",
       "    <tr>\n",
       "      <th>2</th>\n",
       "      <td>ST8000DM005</td>\n",
       "      <td>0</td>\n",
       "      <td>2025</td>\n",
       "      <td>0.000000</td>\n",
       "    </tr>\n",
       "    <tr>\n",
       "      <th>3</th>\n",
       "      <td>ST320LT007</td>\n",
       "      <td>0</td>\n",
       "      <td>79</td>\n",
       "      <td>0.000000</td>\n",
       "    </tr>\n",
       "    <tr>\n",
       "      <th>4</th>\n",
       "      <td>TOSHIBA MQ01ABF050M</td>\n",
       "      <td>3</td>\n",
       "      <td>29319</td>\n",
       "      <td>0.879975</td>\n",
       "    </tr>\n",
       "  </tbody>\n",
       "</table>\n",
       "</div>"
      ]
     },
     "metadata": {
      "application/vnd.databricks.v1+output": {
       "addedWidgets": {},
       "arguments": {},
       "data": "<div>\n<style scoped>\n    .dataframe tbody tr th:only-of-type {\n        vertical-align: middle;\n    }\n\n    .dataframe tbody tr th {\n        vertical-align: top;\n    }\n\n    .dataframe thead th {\n        text-align: right;\n    }\n</style>\n<table border=\"1\" class=\"dataframe\">\n  <thead>\n    <tr style=\"text-align: right;\">\n      <th></th>\n      <th>model</th>\n      <th>F</th>\n      <th>O</th>\n      <th>R</th>\n    </tr>\n  </thead>\n  <tbody>\n    <tr>\n      <th>0</th>\n      <td>ST4000DM000</td>\n      <td>97</td>\n      <td>1795336</td>\n      <td>0.464648</td>\n    </tr>\n    <tr>\n      <th>1</th>\n      <td>ST12000NM0007</td>\n      <td>164</td>\n      <td>2654525</td>\n      <td>0.531319</td>\n    </tr>\n    <tr>\n      <th>2</th>\n      <td>ST8000DM005</td>\n      <td>0</td>\n      <td>2025</td>\n      <td>0.000000</td>\n    </tr>\n    <tr>\n      <th>3</th>\n      <td>ST320LT007</td>\n      <td>0</td>\n      <td>79</td>\n      <td>0.000000</td>\n    </tr>\n    <tr>\n      <th>4</th>\n      <td>TOSHIBA MQ01ABF050M</td>\n      <td>3</td>\n      <td>29319</td>\n      <td>0.879975</td>\n    </tr>\n  </tbody>\n</table>\n</div>",
       "datasetInfos": [],
       "metadata": {},
       "removedWidgets": [],
       "textData": null,
       "type": "htmlSandbox"
      }
     },
     "output_type": "display_data"
    }
   ],
   "source": [
    "# calculate failure rate\n",
    "log_df_fail_rate = log_df_grouped.withColumn('R', lit(100) * (col('F') / (col('O')/lit(DATE_RANGE_DAYS) ) ) )\n",
    "\n",
    "log_df_fail_rate.toPandas().head()"
   ]
  },
  {
   "cell_type": "markdown",
   "metadata": {
    "application/vnd.databricks.v1+cell": {
     "cellMetadata": {},
     "inputWidgets": {},
     "nuid": "9a4fc302-f9ad-4564-b7ae-51b04f5c5479",
     "showTitle": false,
     "title": ""
    }
   },
   "source": [
    "<h3 style=\"text-align: center;\">\n",
    "Calculate Mean, Standard Deviation, Failure Prediction Threshold\n",
    "</h3>\n",
    "\n",
    "Mean and standard deviation are calculated using built-in PySpark functions and saved to a dataframe. They are then saved as const variables, summed and assigned to the FAIL_PREDICT const variable in order to create dataframe of failure predictions in the final cell. The final lines of the cell simply prints each variable for manual error checking"
   ]
  },
  {
   "cell_type": "code",
   "execution_count": 0,
   "metadata": {
    "application/vnd.databricks.v1+cell": {
     "cellMetadata": {
      "byteLimit": 2048000,
      "rowLimit": 10000
     },
     "inputWidgets": {},
     "nuid": "da1982b6-c9dc-4841-88ca-8c2931592e74",
     "showTitle": false,
     "title": ""
    }
   },
   "outputs": [
    {
     "output_type": "stream",
     "name": "stdout",
     "output_type": "stream",
     "text": [
      "Mean: 0.4006754240974075\nStandard Deviation: 1.0769376594635043\nFailure Prediction Threshold: 1.4776130835609118\n"
     ]
    }
   ],
   "source": [
    "# calculate mean and stddev and save to variables\n",
    "\n",
    "log_df_mean_stddev = log_df_fail_rate.select(mean(col('R') ).alias('mean'), stddev(col('R') ).alias('stddev') )\n",
    "\n",
    "# mean\n",
    "LOG_MEAN = log_df_mean_stddev.collect()[0]['mean']\n",
    "\n",
    "# standard deviation\n",
    "LOG_STDDEV = log_df_mean_stddev.collect()[0]['stddev']\n",
    "\n",
    "# mean + 1 * standard deviation calculate as failure prediction threshold\n",
    "FAIL_PREDICT = LOG_MEAN + LOG_STDDEV\n",
    "\n",
    "# print results\n",
    "print(\"Mean: \" + str(LOG_MEAN) )\n",
    "print(\"Standard Deviation: \" + str(LOG_STDDEV) )\n",
    "print(\"Failure Prediction Threshold: \" + str(FAIL_PREDICT) )"
   ]
  },
  {
   "cell_type": "markdown",
   "metadata": {
    "application/vnd.databricks.v1+cell": {
     "cellMetadata": {
      "byteLimit": 2048000,
      "rowLimit": 10000
     },
     "inputWidgets": {},
     "nuid": "b8bca5b9-6623-46d6-a65e-2bf876acafc1",
     "showTitle": false,
     "title": ""
    }
   },
   "source": [
    "<h2 style=\"text-align: center;\">\n",
    "Hard Drive Failure Prediction Final Result\n",
    "</h2>\n",
    "\n",
    "The final result is calculated by simply filtering out all models at or below the failure rate threshold and showing the resulting dataframe, sorted in descending order by likelihood of failure"
   ]
  },
  {
   "cell_type": "code",
   "execution_count": 0,
   "metadata": {
    "application/vnd.databricks.v1+cell": {
     "cellMetadata": {
      "byteLimit": 2048000,
      "rowLimit": 10000
     },
     "inputWidgets": {},
     "nuid": "d76461ce-069f-4ea9-8b51-cb28391eb0a7",
     "showTitle": false,
     "title": ""
    }
   },
   "outputs": [
    {
     "output_type": "display_data",
     "data": {
      "text/html": [
       "<div>\n",
       "<style scoped>\n",
       "    .dataframe tbody tr th:only-of-type {\n",
       "        vertical-align: middle;\n",
       "    }\n",
       "\n",
       "    .dataframe tbody tr th {\n",
       "        vertical-align: top;\n",
       "    }\n",
       "\n",
       "    .dataframe thead th {\n",
       "        text-align: right;\n",
       "    }\n",
       "</style>\n",
       "<table border=\"1\" class=\"dataframe\">\n",
       "  <thead>\n",
       "    <tr style=\"text-align: right;\">\n",
       "      <th></th>\n",
       "      <th>model</th>\n",
       "      <th>F</th>\n",
       "      <th>O</th>\n",
       "      <th>R</th>\n",
       "    </tr>\n",
       "  </thead>\n",
       "  <tbody>\n",
       "    <tr>\n",
       "      <th>0</th>\n",
       "      <td>ST500LM030</td>\n",
       "      <td>9</td>\n",
       "      <td>12934</td>\n",
       "      <td>5.984228</td>\n",
       "    </tr>\n",
       "    <tr>\n",
       "      <th>1</th>\n",
       "      <td>WDC WD5000LPCX</td>\n",
       "      <td>2</td>\n",
       "      <td>4427</td>\n",
       "      <td>3.885250</td>\n",
       "    </tr>\n",
       "    <tr>\n",
       "      <th>2</th>\n",
       "      <td>TOSHIBA MQ01ABF050</td>\n",
       "      <td>12</td>\n",
       "      <td>42274</td>\n",
       "      <td>2.441217</td>\n",
       "    </tr>\n",
       "    <tr>\n",
       "      <th>3</th>\n",
       "      <td>ST500LM012 HN</td>\n",
       "      <td>10</td>\n",
       "      <td>45658</td>\n",
       "      <td>1.883569</td>\n",
       "    </tr>\n",
       "  </tbody>\n",
       "</table>\n",
       "</div>"
      ]
     },
     "metadata": {
      "application/vnd.databricks.v1+output": {
       "addedWidgets": {},
       "arguments": {},
       "data": "<div>\n<style scoped>\n    .dataframe tbody tr th:only-of-type {\n        vertical-align: middle;\n    }\n\n    .dataframe tbody tr th {\n        vertical-align: top;\n    }\n\n    .dataframe thead th {\n        text-align: right;\n    }\n</style>\n<table border=\"1\" class=\"dataframe\">\n  <thead>\n    <tr style=\"text-align: right;\">\n      <th></th>\n      <th>model</th>\n      <th>F</th>\n      <th>O</th>\n      <th>R</th>\n    </tr>\n  </thead>\n  <tbody>\n    <tr>\n      <th>0</th>\n      <td>ST500LM030</td>\n      <td>9</td>\n      <td>12934</td>\n      <td>5.984228</td>\n    </tr>\n    <tr>\n      <th>1</th>\n      <td>WDC WD5000LPCX</td>\n      <td>2</td>\n      <td>4427</td>\n      <td>3.885250</td>\n    </tr>\n    <tr>\n      <th>2</th>\n      <td>TOSHIBA MQ01ABF050</td>\n      <td>12</td>\n      <td>42274</td>\n      <td>2.441217</td>\n    </tr>\n    <tr>\n      <th>3</th>\n      <td>ST500LM012 HN</td>\n      <td>10</td>\n      <td>45658</td>\n      <td>1.883569</td>\n    </tr>\n  </tbody>\n</table>\n</div>",
       "datasetInfos": [],
       "metadata": {},
       "removedWidgets": [],
       "textData": null,
       "type": "htmlSandbox"
      }
     },
     "output_type": "display_data"
    }
   ],
   "source": [
    "# filter out models unlikely to fail\n",
    "log_df_failure_prediction = log_df_fail_rate.filter(col('R') > lit(FAIL_PREDICT) )\n",
    "\n",
    "# print out result, sorted by likeliness to fail\n",
    "log_df_failure_prediction.sort('R', ascending=False).toPandas()"
   ]
  }
 ],
 "metadata": {
  "application/vnd.databricks.v1+notebook": {
   "dashboards": [],
   "language": "python",
   "notebookMetadata": {
    "pythonIndentUnit": 4
   },
   "notebookName": "dh3382_midterm_anomaly_detection",
   "widgets": {}
  }
 },
 "nbformat": 4,
 "nbformat_minor": 0
}
