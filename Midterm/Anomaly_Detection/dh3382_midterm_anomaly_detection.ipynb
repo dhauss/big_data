{
 "cells": [
  {
   "cell_type": "markdown",
   "id": "b0beab7e-564e-4b67-ac30-c19c1a11eca5",
   "metadata": {
    "tags": []
   },
   "source": [
    "<h1 style=\"text-align: center;\">\n",
    "Anomaly Detection \n",
    "</h1>\n",
    "\n",
    "1. For each model, compute the bi-monthly failure rate R per model: F = number of failures per model, O = number of cumulative days in operation per model, D = number of days between Jan 1, 2019 and March 28, 2019, inclusive:\n",
    "\n",
    "\n",
    "\\\\[R = 100.0 * \\left(\\frac{1.0 * F}{O \\div D}\\right)\\\\]\n",
    "\n",
    "\n",
    "2. Given R per model, find the mean M and standard deviation S\n",
    "\n",
    "3. Use M, S to predict which models in operation on March 29, 2019 will fail, with failure\n",
    "predicted if the model’s R exceeds M + 1S\n",
    "\n",
    "Log data from Backblaze\\\n",
    "Source: https://www.backblaze.com/blog/backblaze-hard-drive-stats-q1-2019/ \\\n",
    "Reference: https://www.backblaze.com/cloud-storage/resources/hard-drive-test-data\\"
   ]
  },
  {
   "cell_type": "code",
   "execution_count": 4,
   "id": "fa5b2eb7-4376-474a-9cc4-783753329418",
   "metadata": {
    "tags": []
   },
   "outputs": [
    {
     "name": "stdout",
     "output_type": "stream",
     "text": [
      "Number of days in range: 87\n"
     ]
    }
   ],
   "source": [
    "from pyspark.sql import SparkSession\n",
    "from pyspark.sql.functions import col, count, lit, mean, stddev, when\n",
    "\n",
    "from datetime import datetime as dt\n",
    "\n",
    "spark = SparkSession.builder.appName('dh3382-midterm-anomaly-detection').getOrCreate()\n",
    "\n",
    "LOG_DIR_PATH = 'shared/midterm/drive_stats_2019_Q1'\n",
    "\n",
    "# specified date range, end date is inclusive\n",
    "DATE_RANGE = ('2019-1-1', '2019-3-28')\n",
    "\n",
    "# calculate number of days in date range for D variable in failure rate (R), add 1 because end date is excluded in count\n",
    "DATE_RANGE_DAYS = (dt.strptime(DATE_RANGE[1], \"%Y-%m-%d\") - dt.strptime(DATE_RANGE[0], \"%Y-%m-%d\") ).days + 1\n",
    "print(\"Number of days in range: \" + str(DATE_RANGE_DAYS) )"
   ]
  },
  {
   "cell_type": "markdown",
   "id": "fcfe2e28-b557-4a41-9b50-b02094b3b846",
   "metadata": {},
   "source": [
    "<h3 style=\"text-align: center;\">\n",
    "Basic Data Cleaning\n",
    "</h3>\n",
    "Reads in the raw data, selects only the columns needed for anomaly detection analysis and filters out all rows outside of specified date range"
   ]
  },
  {
   "cell_type": "code",
   "execution_count": 5,
   "id": "dd1d9b38-fd41-4771-92dc-e9f6ab3dd706",
   "metadata": {
    "tags": []
   },
   "outputs": [
    {
     "name": "stderr",
     "output_type": "stream",
     "text": [
      "                                                                                \r"
     ]
    },
    {
     "data": {
      "text/html": [
       "<div>\n",
       "<style scoped>\n",
       "    .dataframe tbody tr th:only-of-type {\n",
       "        vertical-align: middle;\n",
       "    }\n",
       "\n",
       "    .dataframe tbody tr th {\n",
       "        vertical-align: top;\n",
       "    }\n",
       "\n",
       "    .dataframe thead th {\n",
       "        text-align: right;\n",
       "    }\n",
       "</style>\n",
       "<table border=\"1\" class=\"dataframe\">\n",
       "  <thead>\n",
       "    <tr style=\"text-align: right;\">\n",
       "      <th></th>\n",
       "      <th>date</th>\n",
       "      <th>model</th>\n",
       "      <th>failure</th>\n",
       "    </tr>\n",
       "  </thead>\n",
       "  <tbody>\n",
       "    <tr>\n",
       "      <th>0</th>\n",
       "      <td>2019-03-05</td>\n",
       "      <td>ST4000DM000</td>\n",
       "      <td>0</td>\n",
       "    </tr>\n",
       "    <tr>\n",
       "      <th>1</th>\n",
       "      <td>2019-03-05</td>\n",
       "      <td>ST12000NM0007</td>\n",
       "      <td>0</td>\n",
       "    </tr>\n",
       "    <tr>\n",
       "      <th>2</th>\n",
       "      <td>2019-03-05</td>\n",
       "      <td>ST12000NM0007</td>\n",
       "      <td>0</td>\n",
       "    </tr>\n",
       "    <tr>\n",
       "      <th>3</th>\n",
       "      <td>2019-03-05</td>\n",
       "      <td>ST12000NM0007</td>\n",
       "      <td>0</td>\n",
       "    </tr>\n",
       "    <tr>\n",
       "      <th>4</th>\n",
       "      <td>2019-03-05</td>\n",
       "      <td>HGST HMS5C4040ALE640</td>\n",
       "      <td>0</td>\n",
       "    </tr>\n",
       "  </tbody>\n",
       "</table>\n",
       "</div>"
      ],
      "text/plain": [
       "         date                 model  failure\n",
       "0  2019-03-05           ST4000DM000        0\n",
       "1  2019-03-05         ST12000NM0007        0\n",
       "2  2019-03-05         ST12000NM0007        0\n",
       "3  2019-03-05         ST12000NM0007        0\n",
       "4  2019-03-05  HGST HMS5C4040ALE640        0"
      ]
     },
     "execution_count": 5,
     "metadata": {},
     "output_type": "execute_result"
    }
   ],
   "source": [
    "# read in raw log data\n",
    "log_df_raw = spark.read.options(header=True, inferSchema=True).csv(LOG_DIR_PATH)\n",
    "\n",
    "# select only necessary columns\n",
    "log_df = log_df_raw.select('date', 'model', 'failure')\n",
    "\n",
    "# filter entries outside of specified date range. Initially checked for nulls but found none\n",
    "log_df = log_df.filter(log_df.date.between(*DATE_RANGE) )\n",
    "\n",
    "log_df.limit(5).toPandas()"
   ]
  },
  {
   "cell_type": "markdown",
   "id": "ec2e14e8-663d-4ee6-9ae2-a75e4328280b",
   "metadata": {},
   "source": [
    "<h3 style=\"text-align: center;\">\n",
    "Calculate Failures (F) and Accumulated Days of Operation (O)\n",
    "</h3>\n",
    "\n",
    "Groups by model, then adds two columns: every entry where a model does not fail is counted as one day of operation (O), every entry where a model fails is counted as a failure (F). Earlier data exploration showed that hard disks do not have logs for every day between their first entry and their failure entry, so assumption is that the hard disks were only active on days for which they have logs. Dataframe is then persisted as all subsequent actions will require this dataframe, and this avoids having to continuously recalculate the log_df_grouped dataframe from the significantly larger log_df_raw dataset"
   ]
  },
  {
   "cell_type": "code",
   "execution_count": 8,
   "id": "6ab90942-2d61-4e9a-a8ce-7dcde2ea3eeb",
   "metadata": {
    "tags": []
   },
   "outputs": [
    {
     "name": "stderr",
     "output_type": "stream",
     "text": [
      "23/11/11 11:41:37 WARN CacheManager: Asked to cache already cached data.\n"
     ]
    },
    {
     "data": {
      "text/html": [
       "<div>\n",
       "<style scoped>\n",
       "    .dataframe tbody tr th:only-of-type {\n",
       "        vertical-align: middle;\n",
       "    }\n",
       "\n",
       "    .dataframe tbody tr th {\n",
       "        vertical-align: top;\n",
       "    }\n",
       "\n",
       "    .dataframe thead th {\n",
       "        text-align: right;\n",
       "    }\n",
       "</style>\n",
       "<table border=\"1\" class=\"dataframe\">\n",
       "  <thead>\n",
       "    <tr style=\"text-align: right;\">\n",
       "      <th></th>\n",
       "      <th>model</th>\n",
       "      <th>F</th>\n",
       "      <th>O</th>\n",
       "    </tr>\n",
       "  </thead>\n",
       "  <tbody>\n",
       "    <tr>\n",
       "      <th>0</th>\n",
       "      <td>ST4000DM000</td>\n",
       "      <td>104</td>\n",
       "      <td>1929966</td>\n",
       "    </tr>\n",
       "    <tr>\n",
       "      <th>1</th>\n",
       "      <td>ST12000NM0007</td>\n",
       "      <td>178</td>\n",
       "      <td>2850723</td>\n",
       "    </tr>\n",
       "    <tr>\n",
       "      <th>2</th>\n",
       "      <td>ST8000DM005</td>\n",
       "      <td>0</td>\n",
       "      <td>2175</td>\n",
       "    </tr>\n",
       "    <tr>\n",
       "      <th>3</th>\n",
       "      <td>ST320LT007</td>\n",
       "      <td>0</td>\n",
       "      <td>85</td>\n",
       "    </tr>\n",
       "    <tr>\n",
       "      <th>4</th>\n",
       "      <td>TOSHIBA MQ01ABF050M</td>\n",
       "      <td>3</td>\n",
       "      <td>31490</td>\n",
       "    </tr>\n",
       "  </tbody>\n",
       "</table>\n",
       "</div>"
      ],
      "text/plain": [
       "                 model    F        O\n",
       "0          ST4000DM000  104  1929966\n",
       "1        ST12000NM0007  178  2850723\n",
       "2          ST8000DM005    0     2175\n",
       "3           ST320LT007    0       85\n",
       "4  TOSHIBA MQ01ABF050M    3    31490"
      ]
     },
     "execution_count": 8,
     "metadata": {},
     "output_type": "execute_result"
    }
   ],
   "source": [
    "# count failures as number of times failure is logged per model, cumulative days as number of times non-failure\n",
    "# activity is logged per model\n",
    "log_df_grouped = log_df.groupBy('model').agg(\\\n",
    "    count(when(col(\"failure\") == 1, True) ).alias(\"F\"),\n",
    "    count(when(col(\"failure\") == 0, True) ).alias(\"O\")\n",
    "    )\n",
    "\n",
    "# persist so that subsequent actions avoid recalculations with large table (9000000+ rows)\n",
    "log_df_grouped.persist()\n",
    "\n",
    "# show sample of results\n",
    "log_df_grouped.limit(5).toPandas()"
   ]
  },
  {
   "cell_type": "markdown",
   "id": "57d72cb8-17fc-4feb-ab8c-8b20ea8e8f03",
   "metadata": {},
   "source": [
    "<h3 style=\"text-align: center;\">\n",
    "Calculate failure rate\n",
    "</h3>\n",
    "Failure rate is calculated according to formula provided in prompt using the lit function to insert the DATE_RANGE_DAYS const calculated in cmd 2"
   ]
  },
  {
   "cell_type": "code",
   "execution_count": 9,
   "id": "4df0693d-909c-4f06-bd8b-21ae20b2cd7f",
   "metadata": {},
   "outputs": [
    {
     "data": {
      "text/html": [
       "<div>\n",
       "<style scoped>\n",
       "    .dataframe tbody tr th:only-of-type {\n",
       "        vertical-align: middle;\n",
       "    }\n",
       "\n",
       "    .dataframe tbody tr th {\n",
       "        vertical-align: top;\n",
       "    }\n",
       "\n",
       "    .dataframe thead th {\n",
       "        text-align: right;\n",
       "    }\n",
       "</style>\n",
       "<table border=\"1\" class=\"dataframe\">\n",
       "  <thead>\n",
       "    <tr style=\"text-align: right;\">\n",
       "      <th></th>\n",
       "      <th>model</th>\n",
       "      <th>F</th>\n",
       "      <th>O</th>\n",
       "      <th>R</th>\n",
       "    </tr>\n",
       "  </thead>\n",
       "  <tbody>\n",
       "    <tr>\n",
       "      <th>0</th>\n",
       "      <td>ST4000DM000</td>\n",
       "      <td>104</td>\n",
       "      <td>1929966</td>\n",
       "      <td>0.468817</td>\n",
       "    </tr>\n",
       "    <tr>\n",
       "      <th>1</th>\n",
       "      <td>ST12000NM0007</td>\n",
       "      <td>178</td>\n",
       "      <td>2850723</td>\n",
       "      <td>0.543231</td>\n",
       "    </tr>\n",
       "    <tr>\n",
       "      <th>2</th>\n",
       "      <td>ST8000DM005</td>\n",
       "      <td>0</td>\n",
       "      <td>2175</td>\n",
       "      <td>0.000000</td>\n",
       "    </tr>\n",
       "    <tr>\n",
       "      <th>3</th>\n",
       "      <td>ST320LT007</td>\n",
       "      <td>0</td>\n",
       "      <td>85</td>\n",
       "      <td>0.000000</td>\n",
       "    </tr>\n",
       "    <tr>\n",
       "      <th>4</th>\n",
       "      <td>TOSHIBA MQ01ABF050M</td>\n",
       "      <td>3</td>\n",
       "      <td>31490</td>\n",
       "      <td>0.828835</td>\n",
       "    </tr>\n",
       "  </tbody>\n",
       "</table>\n",
       "</div>"
      ],
      "text/plain": [
       "                 model    F        O         R\n",
       "0          ST4000DM000  104  1929966  0.468817\n",
       "1        ST12000NM0007  178  2850723  0.543231\n",
       "2          ST8000DM005    0     2175  0.000000\n",
       "3           ST320LT007    0       85  0.000000\n",
       "4  TOSHIBA MQ01ABF050M    3    31490  0.828835"
      ]
     },
     "execution_count": 9,
     "metadata": {},
     "output_type": "execute_result"
    }
   ],
   "source": [
    "# calculate failure rate\n",
    "log_df_fail_rate = log_df_grouped.withColumn('R', lit(100) * ( (col('F') / (col('O')/lit(DATE_RANGE_DAYS) ) ) ) )\n",
    "\n",
    "log_df_fail_rate.toPandas().head()"
   ]
  },
  {
   "cell_type": "markdown",
   "id": "8dab9ba3-0d6d-47d6-aa94-0081d21c3afb",
   "metadata": {},
   "source": [
    "<h3 style=\"text-align: center;\">\n",
    "Calculate Mean, Standard Deviation, Failure Prediction Threshold\n",
    "</h3>\n",
    "\n",
    "Mean and standard deviation are calculated using built-in PySpark functions and saved to a dataframe. They are then saved as const variables, summed and assigned to the FAIL_PREDICT const variable in order to create dataframe of model failure predictions. The final lines of the cell simply prints each variable for manual error checking"
   ]
  },
  {
   "cell_type": "code",
   "execution_count": 10,
   "id": "c3c80a5f-a041-46f4-9854-c61408f9eb90",
   "metadata": {
    "tags": []
   },
   "outputs": [
    {
     "name": "stdout",
     "output_type": "stream",
     "text": [
      "Mean: 1.0637228434381965\n",
      "Standard Deviation: 4.780507362375504\n",
      "Failure Prediction Threshold: 5.8442302058137\n"
     ]
    }
   ],
   "source": [
    "# calculate mean and stddev\n",
    "log_df_mean_stddev = log_df_fail_rate.select(mean(col('R') ).alias('mean'), stddev(col('R') ).alias('stddev') )\n",
    "\n",
    "# save mean to variable\n",
    "LOG_MEAN = log_df_mean_stddev.collect()[0]['mean']\n",
    "\n",
    "# save standard deviation to variable\n",
    "LOG_STDDEV = log_df_mean_stddev.collect()[0]['stddev']\n",
    "\n",
    "# mean + (1 * standard deviation), calculate as failure prediction threshold\n",
    "FAIL_PREDICT = LOG_MEAN + LOG_STDDEV\n",
    "\n",
    "# print results\n",
    "print(\"Mean: \" + str(LOG_MEAN) )\n",
    "print(\"Standard Deviation: \" + str(LOG_STDDEV) )\n",
    "print(\"Failure Prediction Threshold: \" + str(FAIL_PREDICT) )"
   ]
  },
  {
   "cell_type": "markdown",
   "id": "262eff2c-df30-4543-9c72-1dde8a8658a6",
   "metadata": {},
   "source": [
    "<h2 style=\"text-align: center;\">\n",
    "Hard Drive Failure Prediction By Model\n",
    "</h2>\n",
    "\n",
    "This result is calculated by simply filtering out all models at or below the failure rate threshold and showing the resulting dataframe, sorted in descending order by likelihood of failure"
   ]
  },
  {
   "cell_type": "code",
   "execution_count": 12,
   "id": "edbd8035-d506-477d-83ef-f4ccdaadb898",
   "metadata": {
    "tags": []
   },
   "outputs": [
    {
     "data": {
      "text/html": [
       "<div>\n",
       "<style scoped>\n",
       "    .dataframe tbody tr th:only-of-type {\n",
       "        vertical-align: middle;\n",
       "    }\n",
       "\n",
       "    .dataframe tbody tr th {\n",
       "        vertical-align: top;\n",
       "    }\n",
       "\n",
       "    .dataframe thead th {\n",
       "        text-align: right;\n",
       "    }\n",
       "</style>\n",
       "<table border=\"1\" class=\"dataframe\">\n",
       "  <thead>\n",
       "    <tr style=\"text-align: right;\">\n",
       "      <th></th>\n",
       "      <th>model</th>\n",
       "      <th>F</th>\n",
       "      <th>O</th>\n",
       "      <th>R</th>\n",
       "    </tr>\n",
       "  </thead>\n",
       "  <tbody>\n",
       "    <tr>\n",
       "      <th>0</th>\n",
       "      <td>ST8000DM004</td>\n",
       "      <td>1</td>\n",
       "      <td>263</td>\n",
       "      <td>33.079848</td>\n",
       "    </tr>\n",
       "  </tbody>\n",
       "</table>\n",
       "</div>"
      ],
      "text/plain": [
       "         model  F    O          R\n",
       "0  ST8000DM004  1  263  33.079848"
      ]
     },
     "execution_count": 12,
     "metadata": {},
     "output_type": "execute_result"
    }
   ],
   "source": [
    "# filter out models unlikely to fail\n",
    "log_df_failure_prediction = log_df_fail_rate.filter(col('R') > lit(FAIL_PREDICT) )\n",
    "\n",
    "# print out result, sorted by likeliness to fail\n",
    "log_df_failure_prediction.sort('R', ascending=False).toPandas()"
   ]
  },
  {
   "cell_type": "markdown",
   "id": "4914d3dc-571e-4ceb-813e-3814f1436848",
   "metadata": {},
   "source": [
    "<h2 style=\"text-align: center;\">\n",
    "Hard Drive Failure Predictions Saved to List\n",
    "</h2>\n",
    "\n",
    "Hard drive predicted failure models are saved to a list. This could also be a string variable, but saving it in the list format allows for a dataset in which more than one model is likely to fail"
   ]
  },
  {
   "cell_type": "code",
   "execution_count": 14,
   "id": "805377b9-ade3-4695-8f06-1572a70c94b7",
   "metadata": {
    "tags": []
   },
   "outputs": [
    {
     "name": "stdout",
     "output_type": "stream",
     "text": [
      "['ST8000DM004']\n"
     ]
    }
   ],
   "source": [
    "# save list of models from failure prediction table for isin() function\n",
    "model_fails = log_df_failure_prediction.rdd.map(lambda cols: cols[0]).collect()\n",
    "print(model_fails)"
   ]
  },
  {
   "cell_type": "markdown",
   "id": "0007e4c1-0ad1-4a84-ad57-c320c780f7e4",
   "metadata": {},
   "source": [
    "<h2 style=\"text-align: center;\">\n",
    "Create dataframe with all HDs in operation on March 29\n",
    "</h2>\n",
    "\n",
    "Go back to raw data set to create a dataframe consisting of all HDs in operation on March 29 with serial number column included"
   ]
  },
  {
   "cell_type": "code",
   "execution_count": 19,
   "id": "90f110bd-08f0-46e3-82e0-da7cf29cd901",
   "metadata": {
    "tags": []
   },
   "outputs": [],
   "source": [
    "# save full data to include serial numbers as well as date/model/failure\n",
    "log_df_serial_num = log_df_raw.select('date', 'serial_number', 'model', 'failure')\n",
    "\n",
    "# select only models in operation on March 29, which implies removing all drives that failed on March 29\n",
    "log_df_in_operation = log_df_serial_num.filter(col('date') == '2019-3-29')\\\n",
    "    .filter(col('failure') == 0)"
   ]
  },
  {
   "cell_type": "markdown",
   "id": "7fdda1fa-4048-46b8-a421-ff4902ef365d",
   "metadata": {},
   "source": [
    "<h1 style=\"text-align: center;\">\n",
    "Hard Drive Failure Predictions Final Result\n",
    "</h1>\n",
    "\n",
    "Filter dataframe with all HDs in operation on March 29th to show only those whose models are likely to fail using isin() function with the model_fails list saved earlier"
   ]
  },
  {
   "cell_type": "code",
   "execution_count": 20,
   "id": "d4b638c3-35f2-48f2-aed0-78f00a3f5220",
   "metadata": {
    "tags": []
   },
   "outputs": [
    {
     "data": {
      "text/html": [
       "<div>\n",
       "<style scoped>\n",
       "    .dataframe tbody tr th:only-of-type {\n",
       "        vertical-align: middle;\n",
       "    }\n",
       "\n",
       "    .dataframe tbody tr th {\n",
       "        vertical-align: top;\n",
       "    }\n",
       "\n",
       "    .dataframe thead th {\n",
       "        text-align: right;\n",
       "    }\n",
       "</style>\n",
       "<table border=\"1\" class=\"dataframe\">\n",
       "  <thead>\n",
       "    <tr style=\"text-align: right;\">\n",
       "      <th></th>\n",
       "      <th>serial_number</th>\n",
       "      <th>model</th>\n",
       "    </tr>\n",
       "  </thead>\n",
       "  <tbody>\n",
       "    <tr>\n",
       "      <th>0</th>\n",
       "      <td>WCT0EJDJ</td>\n",
       "      <td>ST8000DM004</td>\n",
       "    </tr>\n",
       "    <tr>\n",
       "      <th>1</th>\n",
       "      <td>WCT0EKW3</td>\n",
       "      <td>ST8000DM004</td>\n",
       "    </tr>\n",
       "    <tr>\n",
       "      <th>2</th>\n",
       "      <td>WCT0EJY6</td>\n",
       "      <td>ST8000DM004</td>\n",
       "    </tr>\n",
       "  </tbody>\n",
       "</table>\n",
       "</div>"
      ],
      "text/plain": [
       "  serial_number        model\n",
       "0      WCT0EJDJ  ST8000DM004\n",
       "1      WCT0EKW3  ST8000DM004\n",
       "2      WCT0EJY6  ST8000DM004"
      ]
     },
     "execution_count": 20,
     "metadata": {},
     "output_type": "execute_result"
    }
   ],
   "source": [
    "log_df_res = log_df_in_operation.filter(col('model').isin(model_fails) )\n",
    "\n",
    "log_df_res.select(col('serial_number'), col('model') ).limit(20).toPandas()"
   ]
  }
 ],
 "metadata": {
  "kernelspec": {
   "display_name": "Python [conda env:bigdata]",
   "language": "python",
   "name": "conda-env-bigdata-py"
  },
  "language_info": {
   "codemirror_mode": {
    "name": "ipython",
    "version": 3
   },
   "file_extension": ".py",
   "mimetype": "text/x-python",
   "name": "python",
   "nbconvert_exporter": "python",
   "pygments_lexer": "ipython3",
   "version": "3.10.12"
  }
 },
 "nbformat": 4,
 "nbformat_minor": 5
}
