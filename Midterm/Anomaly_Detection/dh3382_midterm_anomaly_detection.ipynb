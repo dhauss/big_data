{
 "cells": [
  {
   "cell_type": "markdown",
   "metadata": {
    "application/vnd.databricks.v1+cell": {
     "cellMetadata": {},
     "inputWidgets": {},
     "nuid": "6df96bd9-3a00-4406-9cf7-61015eef3f52",
     "showTitle": false,
     "title": ""
    }
   },
   "source": [
    "<h1 style=\"text-align: center;\">\n",
    "Anomaly Detection \n",
    "</h1>\n",
    "\n",
    "1. For each model, compute the bi-monthly failure rate R per model: F = number of failures per model, O = number of cumulative days in operation per model, D = number of days between Jan 1, 2019 and March 28, 2019, inclusive:\n",
    "\n",
    "\n",
    "\\\\[R = 100.0 * \\left(\\frac{1.0 * F}{O \\div D}\\right)\\\\]\n",
    "\n",
    "\n",
    "2. Given R per model, find the mean M and standard deviation S\n",
    "\n",
    "3. Use M, S to predict which models in operation on March 29, 2019 will fail, with failure\n",
    "predicted if the model’s R exceeds M + 1S\n",
    "\n",
    "Log data from Backblaze\\\n",
    "Source: https://www.backblaze.com/blog/backblaze-hard-drive-stats-q1-2019/ \\\n",
    "Reference: https://www.backblaze.com/cloud-storage/resources/hard-drive-test-data\\"
   ]
  },
  {
   "cell_type": "code",
   "execution_count": 0,
   "metadata": {
    "application/vnd.databricks.v1+cell": {
     "cellMetadata": {
      "byteLimit": 2048000,
      "rowLimit": 10000
     },
     "inputWidgets": {},
     "nuid": "85ed5b21-0139-4f61-a628-4d0300c19329",
     "showTitle": false,
     "title": ""
    }
   },
   "outputs": [],
   "source": [
    "from pyspark.sql import SparkSession\n",
    "from pyspark.sql.functions import col\n",
    "\n",
    "from datetime import datetime as dt\n",
    "\n",
    "spark = SparkSession.builder.appName('dh3382-midterm-anomaly-detection').getOrCreate()\n",
    "\n",
    "LOG_DIR_PATH = '/FileStore/tables/drive_stats_2019_Q1'\n",
    "\n",
    "# specified date range\n",
    "DATE_RANGE = ('2019-1-1', '2019-3-28')\n",
    "\n",
    "# calculate number of days in date range for D variable in failure rate (R)\n",
    "DATE_RANGE_DAYS = (dt.strptime(DATE_RANGE[1], \"%Y-%m-%d\") - dt.strptime(DATE_RANGE[0], \"%Y-%m-%d\")).days"
   ]
  },
  {
   "cell_type": "code",
   "execution_count": 0,
   "metadata": {
    "application/vnd.databricks.v1+cell": {
     "cellMetadata": {
      "byteLimit": 2048000,
      "rowLimit": 10000
     },
     "inputWidgets": {},
     "nuid": "3b00fa36-0d7b-45e4-a137-d6e3b98c152a",
     "showTitle": false,
     "title": ""
    }
   },
   "outputs": [
    {
     "output_type": "display_data",
     "data": {
      "text/html": [
       "<div>\n",
       "<style scoped>\n",
       "    .dataframe tbody tr th:only-of-type {\n",
       "        vertical-align: middle;\n",
       "    }\n",
       "\n",
       "    .dataframe tbody tr th {\n",
       "        vertical-align: top;\n",
       "    }\n",
       "\n",
       "    .dataframe thead th {\n",
       "        text-align: right;\n",
       "    }\n",
       "</style>\n",
       "<table border=\"1\" class=\"dataframe\">\n",
       "  <thead>\n",
       "    <tr style=\"text-align: right;\">\n",
       "      <th></th>\n",
       "      <th>date</th>\n",
       "      <th>serial_number</th>\n",
       "      <th>model</th>\n",
       "      <th>failure</th>\n",
       "    </tr>\n",
       "  </thead>\n",
       "  <tbody>\n",
       "    <tr>\n",
       "      <th>0</th>\n",
       "      <td>2019-03-08</td>\n",
       "      <td>Z305B2QN</td>\n",
       "      <td>ST4000DM000</td>\n",
       "      <td>0</td>\n",
       "    </tr>\n",
       "    <tr>\n",
       "      <th>1</th>\n",
       "      <td>2019-03-08</td>\n",
       "      <td>ZJV0XJQ4</td>\n",
       "      <td>ST12000NM0007</td>\n",
       "      <td>0</td>\n",
       "    </tr>\n",
       "    <tr>\n",
       "      <th>2</th>\n",
       "      <td>2019-03-08</td>\n",
       "      <td>ZJV0XJQ3</td>\n",
       "      <td>ST12000NM0007</td>\n",
       "      <td>0</td>\n",
       "    </tr>\n",
       "    <tr>\n",
       "      <th>3</th>\n",
       "      <td>2019-03-08</td>\n",
       "      <td>ZJV0XJQ0</td>\n",
       "      <td>ST12000NM0007</td>\n",
       "      <td>0</td>\n",
       "    </tr>\n",
       "    <tr>\n",
       "      <th>4</th>\n",
       "      <td>2019-03-08</td>\n",
       "      <td>PL1331LAHG1S4H</td>\n",
       "      <td>HGST HMS5C4040ALE640</td>\n",
       "      <td>0</td>\n",
       "    </tr>\n",
       "    <tr>\n",
       "      <th>...</th>\n",
       "      <td>...</td>\n",
       "      <td>...</td>\n",
       "      <td>...</td>\n",
       "      <td>...</td>\n",
       "    </tr>\n",
       "    <tr>\n",
       "      <th>6150993</th>\n",
       "      <td>2019-02-27</td>\n",
       "      <td>PL1331LAHD1AWH</td>\n",
       "      <td>HGST HMS5C4040BLE640</td>\n",
       "      <td>0</td>\n",
       "    </tr>\n",
       "    <tr>\n",
       "      <th>6150994</th>\n",
       "      <td>2019-02-27</td>\n",
       "      <td>ZA10MCEQ</td>\n",
       "      <td>ST8000DM002</td>\n",
       "      <td>0</td>\n",
       "    </tr>\n",
       "    <tr>\n",
       "      <th>6150995</th>\n",
       "      <td>2019-02-27</td>\n",
       "      <td>ZCH0CRTK</td>\n",
       "      <td>ST12000NM0007</td>\n",
       "      <td>0</td>\n",
       "    </tr>\n",
       "    <tr>\n",
       "      <th>6150996</th>\n",
       "      <td>2019-02-27</td>\n",
       "      <td>PL1331LAHD1T5H</td>\n",
       "      <td>HGST HMS5C4040BLE640</td>\n",
       "      <td>0</td>\n",
       "    </tr>\n",
       "    <tr>\n",
       "      <th>6150997</th>\n",
       "      <td>2019-02-27</td>\n",
       "      <td>Z30271GD</td>\n",
       "      <td>ST4000DM000</td>\n",
       "      <td>0</td>\n",
       "    </tr>\n",
       "  </tbody>\n",
       "</table>\n",
       "<p>6150998 rows × 4 columns</p>\n",
       "</div>"
      ]
     },
     "metadata": {
      "application/vnd.databricks.v1+output": {
       "addedWidgets": {},
       "arguments": {},
       "data": "<div>\n<style scoped>\n    .dataframe tbody tr th:only-of-type {\n        vertical-align: middle;\n    }\n\n    .dataframe tbody tr th {\n        vertical-align: top;\n    }\n\n    .dataframe thead th {\n        text-align: right;\n    }\n</style>\n<table border=\"1\" class=\"dataframe\">\n  <thead>\n    <tr style=\"text-align: right;\">\n      <th></th>\n      <th>date</th>\n      <th>serial_number</th>\n      <th>model</th>\n      <th>failure</th>\n    </tr>\n  </thead>\n  <tbody>\n    <tr>\n      <th>0</th>\n      <td>2019-03-08</td>\n      <td>Z305B2QN</td>\n      <td>ST4000DM000</td>\n      <td>0</td>\n    </tr>\n    <tr>\n      <th>1</th>\n      <td>2019-03-08</td>\n      <td>ZJV0XJQ4</td>\n      <td>ST12000NM0007</td>\n      <td>0</td>\n    </tr>\n    <tr>\n      <th>2</th>\n      <td>2019-03-08</td>\n      <td>ZJV0XJQ3</td>\n      <td>ST12000NM0007</td>\n      <td>0</td>\n    </tr>\n    <tr>\n      <th>3</th>\n      <td>2019-03-08</td>\n      <td>ZJV0XJQ0</td>\n      <td>ST12000NM0007</td>\n      <td>0</td>\n    </tr>\n    <tr>\n      <th>4</th>\n      <td>2019-03-08</td>\n      <td>PL1331LAHG1S4H</td>\n      <td>HGST HMS5C4040ALE640</td>\n      <td>0</td>\n    </tr>\n    <tr>\n      <th>...</th>\n      <td>...</td>\n      <td>...</td>\n      <td>...</td>\n      <td>...</td>\n    </tr>\n    <tr>\n      <th>6150993</th>\n      <td>2019-02-27</td>\n      <td>PL1331LAHD1AWH</td>\n      <td>HGST HMS5C4040BLE640</td>\n      <td>0</td>\n    </tr>\n    <tr>\n      <th>6150994</th>\n      <td>2019-02-27</td>\n      <td>ZA10MCEQ</td>\n      <td>ST8000DM002</td>\n      <td>0</td>\n    </tr>\n    <tr>\n      <th>6150995</th>\n      <td>2019-02-27</td>\n      <td>ZCH0CRTK</td>\n      <td>ST12000NM0007</td>\n      <td>0</td>\n    </tr>\n    <tr>\n      <th>6150996</th>\n      <td>2019-02-27</td>\n      <td>PL1331LAHD1T5H</td>\n      <td>HGST HMS5C4040BLE640</td>\n      <td>0</td>\n    </tr>\n    <tr>\n      <th>6150997</th>\n      <td>2019-02-27</td>\n      <td>Z30271GD</td>\n      <td>ST4000DM000</td>\n      <td>0</td>\n    </tr>\n  </tbody>\n</table>\n<p>6150998 rows × 4 columns</p>\n</div>",
       "datasetInfos": [],
       "metadata": {},
       "removedWidgets": [],
       "textData": null,
       "type": "htmlSandbox"
      }
     },
     "output_type": "display_data"
    }
   ],
   "source": [
    "# read in raw log data\n",
    "log_df_raw = spark.read.options(header=True, inferSchema=True).csv(LOG_DIR_PATH)\n",
    "\n",
    "# select only necessary columns\n",
    "log_df = log_df_raw.select('date', 'serial_number', 'model', 'failure')\n",
    "\n",
    "# filter entries outside of specified date range. Initially checked for nulls but found none\n",
    "log_df = log_df.filter(log_df.date.between(*DATE_RANGE) )\n",
    "log_df.persist()\n",
    "\n",
    "log_df.toPandas()"
   ]
  }
 ],
 "metadata": {
  "application/vnd.databricks.v1+notebook": {
   "dashboards": [],
   "language": "python",
   "notebookMetadata": {
    "pythonIndentUnit": 4
   },
   "notebookName": "dh3382_midterm_anomaly_detection",
   "widgets": {}
  }
 },
 "nbformat": 4,
 "nbformat_minor": 0
}
